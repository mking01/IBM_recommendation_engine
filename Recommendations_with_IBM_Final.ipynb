{
 "cells": [
  {
   "cell_type": "markdown",
   "metadata": {},
   "source": [
    "# Recommendations with IBM\n",
    "\n",
    "In this notebook, you will be putting your recommendation skills to use on real data from the IBM Watson Studio platform. \n",
    "\n",
    "\n",
    "You may either submit your notebook through the workspace here, or you may work from your local machine and submit through the next page.  Either way assure that your code passes the project [RUBRIC](https://review.udacity.com/#!/rubrics/2322/view).  **Please save regularly.**\n",
    "\n",
    "By following the table of contents, you will build out a number of different methods for making recommendations that can be used for different situations. \n",
    "\n",
    "\n",
    "## Table of Contents\n",
    "\n",
    "I. [Exploratory Data Analysis](#Exploratory-Data-Analysis)<br>\n",
    "II. [Rank Based Recommendations](#Rank)<br>\n",
    "III. [User-User Based Collaborative Filtering](#User-User)<br>\n",
    "IV. [Content Based Recommendations (EXTRA - NOT REQUIRED)](#Content-Recs)<br>\n",
    "V. [Matrix Factorization](#Matrix-Fact)<br>\n",
    "VI. [Extras & Concluding](#conclusions)\n",
    "\n",
    "At the end of the notebook, you will find directions for how to submit your work.  Let's get started by importing the necessary libraries and reading in the data."
   ]
  },
  {
   "cell_type": "code",
   "execution_count": 26,
   "metadata": {},
   "outputs": [
    {
     "data": {
      "text/html": [
       "<div>\n",
       "<style scoped>\n",
       "    .dataframe tbody tr th:only-of-type {\n",
       "        vertical-align: middle;\n",
       "    }\n",
       "\n",
       "    .dataframe tbody tr th {\n",
       "        vertical-align: top;\n",
       "    }\n",
       "\n",
       "    .dataframe thead th {\n",
       "        text-align: right;\n",
       "    }\n",
       "</style>\n",
       "<table border=\"1\" class=\"dataframe\">\n",
       "  <thead>\n",
       "    <tr style=\"text-align: right;\">\n",
       "      <th></th>\n",
       "      <th>article_id</th>\n",
       "      <th>title</th>\n",
       "      <th>email</th>\n",
       "    </tr>\n",
       "  </thead>\n",
       "  <tbody>\n",
       "    <tr>\n",
       "      <th>0</th>\n",
       "      <td>1430.0</td>\n",
       "      <td>using pixiedust for fast, flexible, and easier...</td>\n",
       "      <td>ef5f11f77ba020cd36e1105a00ab868bbdbf7fe7</td>\n",
       "    </tr>\n",
       "    <tr>\n",
       "      <th>1</th>\n",
       "      <td>1314.0</td>\n",
       "      <td>healthcare python streaming application demo</td>\n",
       "      <td>083cbdfa93c8444beaa4c5f5e0f5f9198e4f9e0b</td>\n",
       "    </tr>\n",
       "    <tr>\n",
       "      <th>2</th>\n",
       "      <td>1429.0</td>\n",
       "      <td>use deep learning for image classification</td>\n",
       "      <td>b96a4f2e92d8572034b1e9b28f9ac673765cd074</td>\n",
       "    </tr>\n",
       "    <tr>\n",
       "      <th>3</th>\n",
       "      <td>1338.0</td>\n",
       "      <td>ml optimization using cognitive assistant</td>\n",
       "      <td>06485706b34a5c9bf2a0ecdac41daf7e7654ceb7</td>\n",
       "    </tr>\n",
       "    <tr>\n",
       "      <th>4</th>\n",
       "      <td>1276.0</td>\n",
       "      <td>deploy your python model as a restful api</td>\n",
       "      <td>f01220c46fc92c6e6b161b1849de11faacd7ccb2</td>\n",
       "    </tr>\n",
       "  </tbody>\n",
       "</table>\n",
       "</div>"
      ],
      "text/plain": [
       "   article_id                                              title  \\\n",
       "0      1430.0  using pixiedust for fast, flexible, and easier...   \n",
       "1      1314.0       healthcare python streaming application demo   \n",
       "2      1429.0         use deep learning for image classification   \n",
       "3      1338.0          ml optimization using cognitive assistant   \n",
       "4      1276.0          deploy your python model as a restful api   \n",
       "\n",
       "                                      email  \n",
       "0  ef5f11f77ba020cd36e1105a00ab868bbdbf7fe7  \n",
       "1  083cbdfa93c8444beaa4c5f5e0f5f9198e4f9e0b  \n",
       "2  b96a4f2e92d8572034b1e9b28f9ac673765cd074  \n",
       "3  06485706b34a5c9bf2a0ecdac41daf7e7654ceb7  \n",
       "4  f01220c46fc92c6e6b161b1849de11faacd7ccb2  "
      ]
     },
     "execution_count": 26,
     "metadata": {},
     "output_type": "execute_result"
    }
   ],
   "source": [
    "import pandas as pd\n",
    "import numpy as np\n",
    "import matplotlib.pyplot as plt\n",
    "import project_tests as t\n",
    "import pickle\n",
    "\n",
    "%matplotlib inline\n",
    "\n",
    "df = pd.read_csv('data/user-item-interactions.csv')\n",
    "df_content = pd.read_csv('data/articles_community.csv')\n",
    "del df['Unnamed: 0']\n",
    "del df_content['Unnamed: 0']\n",
    "\n",
    "# Show df to get an idea of the data\n",
    "df.head()"
   ]
  },
  {
   "cell_type": "code",
   "execution_count": 27,
   "metadata": {},
   "outputs": [
    {
     "data": {
      "text/html": [
       "<div>\n",
       "<style scoped>\n",
       "    .dataframe tbody tr th:only-of-type {\n",
       "        vertical-align: middle;\n",
       "    }\n",
       "\n",
       "    .dataframe tbody tr th {\n",
       "        vertical-align: top;\n",
       "    }\n",
       "\n",
       "    .dataframe thead th {\n",
       "        text-align: right;\n",
       "    }\n",
       "</style>\n",
       "<table border=\"1\" class=\"dataframe\">\n",
       "  <thead>\n",
       "    <tr style=\"text-align: right;\">\n",
       "      <th></th>\n",
       "      <th>doc_body</th>\n",
       "      <th>doc_description</th>\n",
       "      <th>doc_full_name</th>\n",
       "      <th>doc_status</th>\n",
       "      <th>article_id</th>\n",
       "    </tr>\n",
       "  </thead>\n",
       "  <tbody>\n",
       "    <tr>\n",
       "      <th>0</th>\n",
       "      <td>Skip navigation Sign in SearchLoading...\\r\\n\\r...</td>\n",
       "      <td>Detect bad readings in real time using Python ...</td>\n",
       "      <td>Detect Malfunctioning IoT Sensors with Streami...</td>\n",
       "      <td>Live</td>\n",
       "      <td>0</td>\n",
       "    </tr>\n",
       "    <tr>\n",
       "      <th>1</th>\n",
       "      <td>No Free Hunch Navigation * kaggle.com\\r\\n\\r\\n ...</td>\n",
       "      <td>See the forest, see the trees. Here lies the c...</td>\n",
       "      <td>Communicating data science: A guide to present...</td>\n",
       "      <td>Live</td>\n",
       "      <td>1</td>\n",
       "    </tr>\n",
       "    <tr>\n",
       "      <th>2</th>\n",
       "      <td>☰ * Login\\r\\n * Sign Up\\r\\n\\r\\n * Learning Pat...</td>\n",
       "      <td>Here’s this week’s news in Data Science and Bi...</td>\n",
       "      <td>This Week in Data Science (April 18, 2017)</td>\n",
       "      <td>Live</td>\n",
       "      <td>2</td>\n",
       "    </tr>\n",
       "    <tr>\n",
       "      <th>3</th>\n",
       "      <td>DATALAYER: HIGH THROUGHPUT, LOW LATENCY AT SCA...</td>\n",
       "      <td>Learn how distributed DBs solve the problem of...</td>\n",
       "      <td>DataLayer Conference: Boost the performance of...</td>\n",
       "      <td>Live</td>\n",
       "      <td>3</td>\n",
       "    </tr>\n",
       "    <tr>\n",
       "      <th>4</th>\n",
       "      <td>Skip navigation Sign in SearchLoading...\\r\\n\\r...</td>\n",
       "      <td>This video demonstrates the power of IBM DataS...</td>\n",
       "      <td>Analyze NY Restaurant data using Spark in DSX</td>\n",
       "      <td>Live</td>\n",
       "      <td>4</td>\n",
       "    </tr>\n",
       "  </tbody>\n",
       "</table>\n",
       "</div>"
      ],
      "text/plain": [
       "                                            doc_body  \\\n",
       "0  Skip navigation Sign in SearchLoading...\\r\\n\\r...   \n",
       "1  No Free Hunch Navigation * kaggle.com\\r\\n\\r\\n ...   \n",
       "2  ☰ * Login\\r\\n * Sign Up\\r\\n\\r\\n * Learning Pat...   \n",
       "3  DATALAYER: HIGH THROUGHPUT, LOW LATENCY AT SCA...   \n",
       "4  Skip navigation Sign in SearchLoading...\\r\\n\\r...   \n",
       "\n",
       "                                     doc_description  \\\n",
       "0  Detect bad readings in real time using Python ...   \n",
       "1  See the forest, see the trees. Here lies the c...   \n",
       "2  Here’s this week’s news in Data Science and Bi...   \n",
       "3  Learn how distributed DBs solve the problem of...   \n",
       "4  This video demonstrates the power of IBM DataS...   \n",
       "\n",
       "                                       doc_full_name doc_status  article_id  \n",
       "0  Detect Malfunctioning IoT Sensors with Streami...       Live           0  \n",
       "1  Communicating data science: A guide to present...       Live           1  \n",
       "2         This Week in Data Science (April 18, 2017)       Live           2  \n",
       "3  DataLayer Conference: Boost the performance of...       Live           3  \n",
       "4      Analyze NY Restaurant data using Spark in DSX       Live           4  "
      ]
     },
     "execution_count": 27,
     "metadata": {},
     "output_type": "execute_result"
    }
   ],
   "source": [
    "# Show df_content to get an idea of the data\n",
    "df_content.head()"
   ]
  },
  {
   "cell_type": "markdown",
   "metadata": {},
   "source": [
    "### <a class=\"anchor\" id=\"Exploratory-Data-Analysis\">Part I : Exploratory Data Analysis</a>\n",
    "\n",
    "Use the dictionary and cells below to provide some insight into the descriptive statistics of the data.\n",
    "\n",
    "`1.` What is the distribution of how many articles a user interacts with in the dataset?  Provide a visual and descriptive statistics to assist with giving a look at the number of times each user interacts with an article.  "
   ]
  },
  {
   "cell_type": "code",
   "execution_count": 28,
   "metadata": {},
   "outputs": [
    {
     "data": {
      "text/plain": [
       "email\n",
       "0000b6387a0366322d7fbfc6434af145adf7fed1    12\n",
       "001055fc0bb67f71e8fa17002342b256a30254cd     4\n",
       "00148e4911c7e04eeff8def7bbbdaf1c59c2c621     3\n",
       "001a852ecbd6cc12ab77a785efa137b2646505fe     5\n",
       "001fc95b90da5c3cb12c501d201a915e4f093290     2\n",
       "0042719415c4fca7d30bd2d4e9d17c5fc570de13     2\n",
       "00772abe2d0b269b2336fc27f0f4d7cb1d2b65d7     2\n",
       "008ba1d5b4ebf54babf516a2d5aa43e184865da5    10\n",
       "008ca24b82c41d513b3799d09ae276d37f92ce72     1\n",
       "008dfc7a327b5186244caec48e0ab61610a0c660    10\n",
       "009af4e0537378bf8e8caf0ad0e2994f954d822e     1\n",
       "00bda305223d05f6df5d77de41abd2a0c7d895fe     4\n",
       "00c2d5190e8c6b821b0e3848bf56f6e47e428994     3\n",
       "00ced21f957bbcee5edf7b107b2bd05628b04774     4\n",
       "00d9337ecd5f70fba1c4c7a78e21b3532e0112c4     1\n",
       "Name: article_id, dtype: int64"
      ]
     },
     "execution_count": 28,
     "metadata": {},
     "output_type": "execute_result"
    }
   ],
   "source": [
    "# Interactions x unique articles\n",
    "unique_ix = df.groupby(['email'])['article_id'].nunique()\n",
    "unique_ix.head(15)"
   ]
  },
  {
   "cell_type": "code",
   "execution_count": 29,
   "metadata": {},
   "outputs": [
    {
     "data": {
      "text/plain": [
       "email\n",
       "0000b6387a0366322d7fbfc6434af145adf7fed1    13\n",
       "001055fc0bb67f71e8fa17002342b256a30254cd     4\n",
       "00148e4911c7e04eeff8def7bbbdaf1c59c2c621     3\n",
       "001a852ecbd6cc12ab77a785efa137b2646505fe     6\n",
       "001fc95b90da5c3cb12c501d201a915e4f093290     2\n",
       "0042719415c4fca7d30bd2d4e9d17c5fc570de13     2\n",
       "00772abe2d0b269b2336fc27f0f4d7cb1d2b65d7     3\n",
       "008ba1d5b4ebf54babf516a2d5aa43e184865da5    10\n",
       "008ca24b82c41d513b3799d09ae276d37f92ce72     1\n",
       "008dfc7a327b5186244caec48e0ab61610a0c660    13\n",
       "009af4e0537378bf8e8caf0ad0e2994f954d822e     1\n",
       "00bda305223d05f6df5d77de41abd2a0c7d895fe     4\n",
       "00c2d5190e8c6b821b0e3848bf56f6e47e428994     3\n",
       "00ced21f957bbcee5edf7b107b2bd05628b04774     4\n",
       "00d9337ecd5f70fba1c4c7a78e21b3532e0112c4     3\n",
       "Name: article_id, dtype: int64"
      ]
     },
     "execution_count": 29,
     "metadata": {},
     "output_type": "execute_result"
    }
   ],
   "source": [
    "# Total interactions per user\n",
    "total_ix = df.groupby(['email'])['article_id'].count()\n",
    "total_ix.head(15)"
   ]
  },
  {
   "cell_type": "code",
   "execution_count": 30,
   "metadata": {},
   "outputs": [
    {
     "data": {
      "text/plain": [
       "Text(0.5,1,'Users by Unique Articles Viewed')"
      ]
     },
     "execution_count": 30,
     "metadata": {},
     "output_type": "execute_result"
    },
    {
     "data": {
      "image/png": "[encoded data removed]",
      "text/plain": [
       "<matplotlib.figure.Figure at 0x7fd7e55a75f8>"
      ]
     },
     "metadata": {
      "needs_background": "light"
     },
     "output_type": "display_data"
    }
   ],
   "source": [
    "# Unique article interactions distribution\n",
    "unique_ix.hist()\n",
    "plt.title('Users by Unique Articles Viewed')"
   ]
  },
  {
   "cell_type": "code",
   "execution_count": 31,
   "metadata": {},
   "outputs": [
    {
     "data": {
      "text/plain": [
       "Text(0.5,1,'Users by Total Articles Viewed')"
      ]
     },
     "execution_count": 31,
     "metadata": {},
     "output_type": "execute_result"
    },
    {
     "data": {
      "image/png": "[encoded data removed]",
      "text/plain": [
       "<matplotlib.figure.Figure at 0x7fd7e54b0a90>"
      ]
     },
     "metadata": {
      "needs_background": "light"
     },
     "output_type": "display_data"
    }
   ],
   "source": [
    "# Total interactions distribution\n",
    "total_ix.hist()\n",
    "plt.title('Users by Total Articles Viewed')"
   ]
  },
  {
   "cell_type": "code",
   "execution_count": 32,
   "metadata": {},
   "outputs": [
    {
     "name": "stdout",
     "output_type": "stream",
     "text": [
      "3.0\n",
      "135\n",
      "3.0\n",
      "364\n"
     ]
    }
   ],
   "source": [
    "# Unique interactions by median and maximum number of user_article interactios below\n",
    "median_val = unique_ix.median()# 50% of individuals interact with ____ number of articles or fewer.\n",
    "max_views_by_user = unique_ix.max()# The maximum number of user-article interactions by any 1 user is ______.\n",
    "\n",
    "print(median_val)\n",
    "print(max_views_by_user)\n",
    "\n",
    "# Total interactions by median and max\n",
    "median_val = total_ix.median()# 50% of individuals interact with ____ number of articles or fewer.\n",
    "max_views_by_user = total_ix.max()# The maximum number of user-article interactions by any 1 user is ______.\n",
    "\n",
    "print(median_val)\n",
    "print(max_views_by_user)"
   ]
  },
  {
   "cell_type": "markdown",
   "metadata": {},
   "source": [
    "`2.` Explore and remove duplicate articles from the **df_content** dataframe.  "
   ]
  },
  {
   "cell_type": "code",
   "execution_count": 33,
   "metadata": {},
   "outputs": [
    {
     "name": "stdout",
     "output_type": "stream",
     "text": [
      "Duplicate Article IDs: 365     50\n",
      "692    221\n",
      "761    398\n",
      "970    577\n",
      "971    232\n",
      "Name: article_id, dtype: int64\n",
      "Duplicate Article Titles: 365                         Graph-based machine learning\n",
      "692    How smart catalogs can turn the big data flood...\n",
      "761    Using Apache Spark as a parallel processing fr...\n",
      "970                                Use the Primary Index\n",
      "971    Self-service data preparation with IBM Data Re...\n",
      "Name: doc_full_name, dtype: object\n"
     ]
    }
   ],
   "source": [
    "# Find and explore duplicate articles\n",
    "is_duplicate = df_content['article_id'].duplicated()\n",
    "print('Duplicate Article IDs: {}'.format(df_content['article_id'][is_duplicate]))\n",
    "\n",
    "print('Duplicate Article Titles: {}'.format(df_content['doc_full_name'][is_duplicate]))"
   ]
  },
  {
   "cell_type": "code",
   "execution_count": 34,
   "metadata": {},
   "outputs": [
    {
     "name": "stdout",
     "output_type": "stream",
     "text": [
      "1056\n",
      "1051\n"
     ]
    }
   ],
   "source": [
    "#print row count prior to drop\n",
    "print(len(df_content))\n",
    "\n",
    "# Remove any rows that have the same article_id - only keep the first\n",
    "df_content = df_content.drop_duplicates(subset = ['article_id'], keep = 'first')\n",
    "\n",
    "#print row count prior to drop\n",
    "print(len(df_content))"
   ]
  },
  {
   "cell_type": "markdown",
   "metadata": {},
   "source": [
    "`3.` Use the cells below to find:\n",
    "\n",
    "**a.** The number of unique articles that have an interaction with a user.  \n",
    "**b.** The number of unique articles in the dataset (whether they have any interactions or not).<br>\n",
    "**c.** The number of unique users in the dataset. (excluding null values) <br>\n",
    "**d.** The number of user-article interactions in the dataset."
   ]
  },
  {
   "cell_type": "code",
   "execution_count": 35,
   "metadata": {},
   "outputs": [],
   "source": [
    "unique_articles = df.groupby(['article_id'])['article_id'].nunique().count() # The number of unique articles that have at least one interaction\n",
    "total_articles = df_content.groupby(['article_id'])['article_id'].nunique().count() # The number of unique articles on the IBM platform\n",
    "unique_users = df.groupby(['email'])['email'].nunique().count() # The number of unique users\n",
    "user_article_interactions = len(df)# The number of user-article interactions"
   ]
  },
  {
   "cell_type": "markdown",
   "metadata": {},
   "source": [
    "`4.` Use the cells below to find the most viewed **article_id**, as well as how often it was viewed.  After talking to the company leaders, the `email_mapper` function was deemed a reasonable way to map users to ids.  There were a small number of null values, and it was found that all of these null values likely belonged to a single user (which is how they are stored using the function below)."
   ]
  },
  {
   "cell_type": "code",
   "execution_count": 36,
   "metadata": {},
   "outputs": [
    {
     "name": "stdout",
     "output_type": "stream",
     "text": [
      "   article_id  title  email\n",
      "0      1429.0    937    937\n"
     ]
    }
   ],
   "source": [
    "max_viewed_df = pd.DataFrame(df.groupby(['article_id']).count().sort_values(by = ['title'], ascending = False).head(1)).reset_index()\n",
    "print(max_viewed_df)"
   ]
  },
  {
   "cell_type": "code",
   "execution_count": 37,
   "metadata": {},
   "outputs": [],
   "source": [
    "most_viewed_article_id = '1429.0' # The most viewed article in the dataset as a string with one value following the decimal \n",
    "max_views = 937 # The most viewed article in the dataset was viewed how many times?"
   ]
  },
  {
   "cell_type": "code",
   "execution_count": 38,
   "metadata": {},
   "outputs": [
    {
     "name": "stdout",
     "output_type": "stream",
     "text": [
      "1429.0\n",
      "937\n"
     ]
    }
   ],
   "source": [
    "print(most_viewed_article_id)\n",
    "print(max_views)"
   ]
  },
  {
   "cell_type": "code",
   "execution_count": 39,
   "metadata": {},
   "outputs": [
    {
     "data": {
      "text/html": [
       "<div>\n",
       "<style scoped>\n",
       "    .dataframe tbody tr th:only-of-type {\n",
       "        vertical-align: middle;\n",
       "    }\n",
       "\n",
       "    .dataframe tbody tr th {\n",
       "        vertical-align: top;\n",
       "    }\n",
       "\n",
       "    .dataframe thead th {\n",
       "        text-align: right;\n",
       "    }\n",
       "</style>\n",
       "<table border=\"1\" class=\"dataframe\">\n",
       "  <thead>\n",
       "    <tr style=\"text-align: right;\">\n",
       "      <th></th>\n",
       "      <th>article_id</th>\n",
       "      <th>title</th>\n",
       "      <th>user_id</th>\n",
       "    </tr>\n",
       "  </thead>\n",
       "  <tbody>\n",
       "    <tr>\n",
       "      <th>0</th>\n",
       "      <td>1430.0</td>\n",
       "      <td>using pixiedust for fast, flexible, and easier...</td>\n",
       "      <td>1</td>\n",
       "    </tr>\n",
       "    <tr>\n",
       "      <th>1</th>\n",
       "      <td>1314.0</td>\n",
       "      <td>healthcare python streaming application demo</td>\n",
       "      <td>2</td>\n",
       "    </tr>\n",
       "    <tr>\n",
       "      <th>2</th>\n",
       "      <td>1429.0</td>\n",
       "      <td>use deep learning for image classification</td>\n",
       "      <td>3</td>\n",
       "    </tr>\n",
       "    <tr>\n",
       "      <th>3</th>\n",
       "      <td>1338.0</td>\n",
       "      <td>ml optimization using cognitive assistant</td>\n",
       "      <td>4</td>\n",
       "    </tr>\n",
       "    <tr>\n",
       "      <th>4</th>\n",
       "      <td>1276.0</td>\n",
       "      <td>deploy your python model as a restful api</td>\n",
       "      <td>5</td>\n",
       "    </tr>\n",
       "  </tbody>\n",
       "</table>\n",
       "</div>"
      ],
      "text/plain": [
       "   article_id                                              title  user_id\n",
       "0      1430.0  using pixiedust for fast, flexible, and easier...        1\n",
       "1      1314.0       healthcare python streaming application demo        2\n",
       "2      1429.0         use deep learning for image classification        3\n",
       "3      1338.0          ml optimization using cognitive assistant        4\n",
       "4      1276.0          deploy your python model as a restful api        5"
      ]
     },
     "execution_count": 39,
     "metadata": {},
     "output_type": "execute_result"
    }
   ],
   "source": [
    "# Maps the user email to a user_id column and remove the email column\n",
    "\n",
    "def email_mapper():\n",
    "    coded_dict = dict()\n",
    "    cter = 1\n",
    "    email_encoded = []\n",
    "    \n",
    "    for val in df['email']:\n",
    "        if val not in coded_dict:\n",
    "            coded_dict[val] = cter\n",
    "            cter+=1\n",
    "        \n",
    "        email_encoded.append(coded_dict[val])\n",
    "    return email_encoded\n",
    "\n",
    "email_encoded = email_mapper()\n",
    "del df['email']\n",
    "df['user_id'] = email_encoded\n",
    "\n",
    "# show header\n",
    "df.head()"
   ]
  },
  {
   "cell_type": "code",
   "execution_count": 40,
   "metadata": {},
   "outputs": [
    {
     "name": "stdout",
     "output_type": "stream",
     "text": [
      "3.0\n",
      "45993\n",
      "364\n",
      "937\n",
      "1429.0\n",
      "714\n",
      "5148\n",
      "1051\n"
     ]
    }
   ],
   "source": [
    "# Checks support next cell\n",
    "print(median_val)\n",
    "print(user_article_interactions)\n",
    "print(max_views_by_user)\n",
    "print(max_views)\n",
    "print(most_viewed_article_id)\n",
    "print(unique_articles)\n",
    "print(unique_users)\n",
    "print(total_articles)"
   ]
  },
  {
   "cell_type": "code",
   "execution_count": 41,
   "metadata": {},
   "outputs": [
    {
     "name": "stdout",
     "output_type": "stream",
     "text": [
      "It looks like you have everything right here! Nice job!\n"
     ]
    }
   ],
   "source": [
    "sol_1_dict = {\n",
    "    '`50% of individuals have _____ or fewer interactions.`': median_val,\n",
    "    '`The total number of user-article interactions in the dataset is ______.`': user_article_interactions,\n",
    "    '`The maximum number of user-article interactions by any 1 user is ______.`': max_views_by_user,\n",
    "    '`The most viewed article in the dataset was viewed _____ times.`': max_views,\n",
    "    '`The article_id of the most viewed article is ______.`': most_viewed_article_id,\n",
    "    '`The number of unique articles that have at least 1 rating ______.`': unique_articles,\n",
    "    '`The number of unique users in the dataset is ______`': unique_users,\n",
    "    '`The number of unique articles on the IBM platform`': total_articles\n",
    "}\n",
    "\n",
    "# Test against the solution\n",
    "t.sol_1_test(sol_1_dict)"
   ]
  },
  {
   "cell_type": "markdown",
   "metadata": {},
   "source": [
    "### <a class=\"anchor\" id=\"Rank\">Part II: Rank-Based Recommendations</a>\n",
    "\n",
    "Unlike in the earlier lessons, we don't actually have ratings for whether a user liked an article or not.  We only know that a user has interacted with an article.  In these cases, the popularity of an article can really only be based on how often an article was interacted with.\n",
    "\n",
    "`1.` Fill in the function below to return the **n** top articles ordered with most interactions as the top. Test your function using the tests below."
   ]
  },
  {
   "cell_type": "code",
   "execution_count": 42,
   "metadata": {},
   "outputs": [
    {
     "name": "stdout",
     "output_type": "stream",
     "text": [
      "['using pixiedust for fast, flexible, and easier data analysis and experimentation', 'healthcare python streaming application demo', 'use deep learning for image classification', 'ml optimization using cognitive assistant', 'deploy your python model as a restful api', 'visualize data with the matplotlib library', 'use deep learning for image classification', 'upload files to ibm data science experience using the command line', 'healthcare python streaming application demo', 'classify tumors with machine learning', 'configuring the apache spark sql context', 'got zip code data? prep it for analytics. – ibm watson data lab – medium', 'the unit commitment problem', 'healthcare python streaming application demo', 'apache spark lab, part 1: basic concepts', 'getting started with python', 'timeseries data analysis of iot events by using jupyter notebook', 'using pixiedust for fast, flexible, and easier data analysis and experimentation', 'ml optimization using cognitive assistant', '10 must attend data science, ml and ai conferences in 2018', 'healthcare python streaming application demo', 'ml optimization using cognitive assistant', 'housing (2015): united states demographic measures', 'access db2 warehouse on cloud and db2 with python', 'visualize data with the matplotlib library', 'the nurse assignment problem', 'ml optimization using cognitive assistant', 'upload files to ibm data science experience using the command line', 'dsx: hybrid mode', 'predicting churn with the spss random tree algorithm', 'data science for real-time streaming analytics', 'analyze energy consumption in buildings', 'ibm watson facebook posts for 2015', 'web picks - dataminingapps', 'access db2 warehouse on cloud and db2 with python', 'ml optimization using cognitive assistant', 'visualize data with the matplotlib library', 'visualize car data with brunel', 'common excel tasks demonstrated in\\xa0pandas', '10 must attend data science, ml and ai conferences in 2018', 'analyze open data sets with pandas dataframes', 'use deep learning for image classification', 'use xgboost, scikit-learn & ibm watson machine learning apis', 'intents & examples for ibm watson conversation', 'apache spark lab, part 3: machine learning', 'visualize car data with brunel', 'uci: sms spam collection', 'putting a human face on machine learning', 'gosales transactions for naive bayes model', 'access mysql with python', 'analyze energy consumption in buildings', 'access mysql with r', '10 must attend data science, ml and ai conferences in 2018', 'use xgboost, scikit-learn & ibm watson machine learning apis', 'ibm data science experience white paper - sparkr transforming r into a tool for big data analytics', 'analyze energy consumption in buildings', 'gosales transactions for logistic regression model', 'welcome to pixiedust', 'the nurse assignment problem', 'the unit commitment problem', 'use xgboost, scikit-learn & ibm watson machine learning apis', 'use xgboost, scikit-learn & ibm watson machine learning apis', 'leverage python, scikit, and text classification for behavioral profiling', 'dry bulb temperature, by country, station and year', 'world tourism data by the world tourism organization', 'an introduction to stock market data analysis with r (part 1)', 'insights from new york car accident reports', 'maximize oil company profits', 'use xgboost, scikit-learn & ibm watson machine learning apis', 'airbnb data for analytics: austin listings', 'housing (2015): united states demographic measures', 'city population by sex, city and city type', 'using github for project control in dsx', 'visualize data with the matplotlib library', 'use sql with data in hadoop python', 'use deep learning for image classification', 'discover hidden facebook usage insights', 'overfitting in machine learning: what it is and how to prevent it', 'healthcare python streaming application demo', 'analyze energy consumption in buildings', 'use deep learning for image classification', 'analyze energy consumption in buildings', 'use apache systemml and spark for machine learning', 'use the cloudant-spark connector in python notebook', 'using pixiedust for fast, flexible, and easier data analysis and experimentation', 'analyze open data sets with spark & pixiedust', 'uci ml repository: chronic kidney disease data set', 'insights from new york car accident reports', 'uci: heart disease - cleveland', 'income (2015): united states demographic measures', 'the unit commitment problem', 'predicting churn with the spss random tree algorithm', 'discover hidden facebook usage insights', 'analyze open data sets with pandas dataframes', 'using github for project control in dsx', '10 must attend data science, ml and ai conferences in 2018', 'the nurse assignment problem', 'apache spark as the new engine of genomics', 'how to use version control (github) in rstudio within dsx?', 'insights from new york car accident reports', 'pixieapp for outlier detection', 'access mysql with python', 'excel files: loading from object storage — python', 'developing for the ibm streaming analytics service', 'using pixiedust for fast, flexible, and easier data analysis and experimentation', 'building a business that combines human experts and data science', 'access db2 warehouse on cloud and db2 with python', 'insights from new york car accident reports', 'visualize data with the matplotlib library', 'the nurse assignment problem', 'discover hidden facebook usage insights', 'time series prediction using recurrent neural networks (lstms)', 'predicting churn with the spss random tree algorithm', 'simple graphing with ipython and\\xa0pandas', '10 must attend data science, ml and ai conferences in 2018', 'graph-based machine learning', 'airbnb data for analytics: washington d.c. listings', 'uci: white wine quality', 'model bike sharing data with spss', 'data visualization with r: scrum metrics', 'contraceptive prevalence (% women 15-49) by country', 'visualize car data with brunel', 'access mysql with python', 'optimizing a marketing campaign: moving from predictions to actions', 'deploy your python model as a restful api', 'pixieapp for outlier detection', 'visualize car data with brunel', 'gosales transactions for naive bayes model', 'analyze precipitation data', 'analyze precipitation data', 'visualize car data with brunel', 'upload files to ibm data science experience using the command line', 'graph-based machine learning', 'airbnb data for analytics: amsterdam calendar', 'classify tumors with machine learning', 'welcome to pixiedust', 'finding optimal locations of new store using decision optimization', 'analyze open data sets with spark & pixiedust', 'finding optimal locations of new store using decision optimization', 'insights from new york car accident reports', 'analyze accident reports on amazon emr spark', 'quick guide to build a recommendation engine in python', 'percentage of internet users by country', 'analyze accident reports on amazon emr spark', 'neural language modeling from scratch (part 1)', 'analyze accident reports on amazon emr spark', 'use sql with data in hadoop python', 'learning statistics on youtube', 'accelerate your workflow with dsx', 'income (2015): united states demographic measures', 'interest rates', 'analyzing data by using the sparkling.data library features', 'breast cancer wisconsin (diagnostic) data set', 'deploy your python model as a restful api', 'interactive time series with dygraphs', 'finding optimal locations of new store using decision optimization', 'welcome to pixiedust', 'health insurance (2015): united states demographic measures', 'using pixiedust for fast, flexible, and easier data analysis and experimentation', 'apache spark lab, part 1: basic concepts', 'imitation learning in tensorflow (hopper from openai gym)', 'housing (2015): united states demographic measures', '10 tips on using jupyter notebook', 'discover hidden facebook usage insights', 'excel files: loading from object storage — python', 'web picks - dataminingapps', 'country statistics: infant mortality rate', 'use r dataframes & ibm watson natural language understanding', 'gosales transactions for naive bayes model', 'pixieapp for outlier detection', 'mobile-cellular telephone subscriptions per 100 inhabitants, worldwide', 'improved water source by country: % population with access', 'better together: spss and data science experience', '502    forgetting the past to learn the future: long ...\\nName: title, dtype: object', 'upload files to ibm data science experience using the command line', 'annual precipitation by country 1990-2009', 'access db2 warehouse on cloud and db2 with python', 'pixieapp for outlier detection', '520    using notebooks with pixiedust for fast, flexi...\\nName: title, dtype: object', 'model bike sharing data with spss', 'analyze accident reports on amazon emr spark', 'accelerate your workflow with dsx', 'intentional homicide, number and rate per 100,000 population, by country', 'fortune 100 companies', 'jupyter notebook tutorial', 'housing (2015): united states demographic measures', 'deploy your python model as a restful api', 'analyze precipitation data', 'high-tech exports as % of manufactured exports by country', 'finding optimal locations of new store using decision optimization', 'a moving average trading strategy', 'access db2 warehouse on cloud and db2 with python', 'ibm watson facebook posts for 2015', 'education (2015): united states demographic measures', 'how to perform a logistic regression in r', 'python machine learning: scikit-learn tutorial', 'income (2015): united states demographic measures', 'finding optimal locations of new store using decision optimization', 'discover hidden facebook usage insights', 'gosales transactions for naive bayes model', 'country statistics - europe - population and society', 'deploy your python model as a restful api', 'using github for project control in dsx', 'maximize oil company profits', 'analyze accident reports on amazon emr spark', 'pixieapp for outlier detection', 'model bike sharing data with spss', 'analyze open data sets with spark & pixiedust', 'housing (2015): united states demographic measures', 'use r dataframes & ibm watson natural language understanding', 'common excel tasks demonstrated in\\xa0pandas', 'how smart catalogs can turn the big data flood into an ocean of opportunity', 'upload files to ibm data science experience using the command line', 'deep learning with tensorflow course by big data university', 'learn tensorflow and deep learning together and now!', 'excel files: loading from object storage — python', '10 tips on using jupyter notebook', 'city population by sex, city and city type', 'accelerate your workflow with dsx', 'city population by sex, city and city type', 'apache spark lab, part 2: querying data', '15 page tutorial for r', 'analyze traffic data from the city of san francisco', 'imitation learning in tensorflow (hopper from openai gym)', 'country statistics: unemployment rate', 'leverage python, scikit, and text classification for behavioral profiling', 'classify tumors with machine learning', 'apache spark lab, part 3: machine learning', 'access mysql with r', 'how to use version control (github) in rstudio within dsx?', 'model bike sharing data with spss', 'read and write data to and from amazon s3 buckets in rstudio', 'how the circle line rogue train was caught with data', 'use decision optimization to schedule league games', 'ibm watson facebook posts for 2015', 'airbnb data for analytics: vienna reviews', '10 tips on using jupyter notebook', 'gosales transactions for logistic regression model', 'country statistics: health expenditures', 'use the cloudant-spark connector in python notebook', 'breast cancer wisconsin (diagnostic) data set', 'using brunel in ipython/jupyter notebooks', 'web picks - dataminingapps', 'uci ml repository: chronic kidney disease data set', 'deep learning with tensorflow course by big data university', 'annual precipitation by country 1990-2009', 'overfitting in machine learning: what it is and how to prevent it', 'analyze open data sets with pandas dataframes', 'generative adversarial networks (gans)', 'analyze open data sets with pandas dataframes', 'what is hadoop?', 'use spark for r to load data and run sql queries', 'the unit commitment problem', 'how to use version control (github) in rstudio within dsx?', 'uci ml repository: chronic kidney disease data set', 'how to perform a logistic regression in r', 'working with notebooks in dsx', 'probabilistic graphical models tutorial\\u200a—\\u200apart 1 – stats and bots', 'household consumption expenditure', 'the greatest public datasets for ai – startup grind', 'use sql with data in hadoop python', 'this week in data science (august 02, 2016)', 'probabilistic graphical models tutorial\\u200a—\\u200apart 1 – stats and bots', 'the nurse assignment problem', 'probabilistic graphical models tutorial\\u200a—\\u200apart 1 – stats and bots', 'uci: heart disease - cleveland', 'classify tumors with machine learning', 'uci ml repository: chronic kidney disease data set', 'use spark r to load and analyze data', 'use decision optimization to schedule league games', 'apache spark lab, part 2: querying data', 'probabilistic graphical models tutorial\\u200a—\\u200apart 1 – stats and bots', 'intents & examples for ibm watson conversation', 'use sql with data in hadoop python', 'use spark r to load and analyze data', 'timeseries data analysis of iot events by using jupyter notebook', 'uci ml repository: chronic kidney disease data set', 'learn about data science in world of watson', 'country statistics - europe - population and society', 'got zip code data? prep it for analytics. – ibm watson data lab – medium', 'apache spark lab, part 3: machine learning', \"a beginner's guide to variational methods\", 'income (2015): united states demographic measures', 'apache spark lab, part 1: basic concepts', 'occupation (2015): united states demographic measures', 'rapidly build machine learning flows with dsx', 'use sql with data in hadoop python', 'gosales transactions for logistic regression model', 'using machine learning to predict baseball injuries', 'use spark for scala to load data and run sql queries', 'timeseries data analysis of iot events by using jupyter notebook', 'probabilistic graphical models tutorial\\u200a—\\u200apart 1 – stats and bots', 'analyze traffic data from the city of san francisco', 'city population by sex, city and city type', 'analyze precipitation data', 'simple linear regression? do it the bayesian way', 'analyze open data sets with spark & pixiedust', 'deep learning trends and an example', 'fortune 100 companies', 'analyze open data sets using pandas in a python notebook', 'analyzing data by using the sparkling.data library features', 'interactive time series with dygraphs', 'learn tensorflow and deep learning together and now!', 'use spark r to load and analyze data', 'airbnb data for analytics: barcelona reviews', 'machine learning for everyone', 'tidy up your jupyter notebooks with scripts', 'deep learning from scratch i: computational graphs', 'data visualization playbook: telling the data story', 'experience iot with coursera', 'web picks - dataminingapps', 'model bike sharing data with spss', 'use spark r to load and analyze data', 'classify tumors with machine learning', 'how smart catalogs can turn the big data flood into an ocean of opportunity', 'gosales transactions for naive bayes model', 'use ibm data science experience to read and write data stored on amazon s3', 'apache spark lab, part 3: machine learning', 'use spark for scala to load data and run sql queries', 'timeseries data analysis of iot events by using jupyter notebook', 'deep learning with tensorflow course by big data university', 'dsx: hybrid mode', 'using brunel in ipython/jupyter notebooks', 'this week in data science', 'what is text analytics?', 'learn about data science in world of watson', 'jupyter notebook tutorial', 'neural language modeling from scratch (part 1)', 'analyze precipitation data', 'getting started with python', 'analyzing streaming data from kafka topics', 'total population by country', 'putting a human face on machine learning', 'education (2015): united states demographic measures', 'use the cloudant-spark connector in python notebook', 'working interactively with rstudio and notebooks in dsx', 'transfer learning for flight delay prediction via variational autoencoders', 'the nurse assignment problem data', 'uci: car evaluation', 'how to perform a logistic regression in r', 'predicting churn with the spss random tree algorithm', 'welcome to pixiedust', 'how to use version control (github) in rstudio within dsx?', 'data visualization playbook: telling the data story', 'adolescent fertility rate (births per 1,000 women ages 15-19), worldwide', 'getting started with python', 'learn tensorflow and deep learning together and now!', 'rapidly build machine learning flows with dsx', 'tensorflow quick tips', 'airbnb data for analytics: amsterdam listings', 'deep learning with tensorflow course by big data university', 'an introduction to scientific python (and a bit of the maths behind it) – numpy', '10 pieces of advice to beginner data scientists', 'uci: poker hand - testing data set', 'learn tensorflow and deep learning together and now!', 'gosales transactions for logistic regression model', 'data model with streaming analytics and python', 'income (2015): united states demographic measures', '1357    what i learned implementing a classifier from ...\\nName: title, dtype: object', 'apache spark lab, part 2: querying data', 'how to use db2 warehouse on cloud in data science experience notebooks', 'putting a human face on machine learning', 'dsx: hybrid mode', 'movie recommender system with spark machine learning', 'analyzing streaming data from kafka topics', 'dsx: hybrid mode', 'ibm watson facebook posts for 2015', 'apache spark lab, part 1: basic concepts', 'use the cloudant-spark connector in python notebook', 'analyze open data sets with spark & pixiedust', 'time series prediction using recurrent neural networks (lstms)', 'modeling energy usage in new york city', 'use spark r to load and analyze data', 'deep learning from scratch i: computational graphs', '1448    i ranked every intro to data science course on...\\nName: title, dtype: object', 'access mysql with python', 'use apache systemml and spark for machine learning', 'an introduction to scientific python (and a bit of the maths behind it) – numpy', 'how to use version control (github) in rstudio within dsx?', 'how smart catalogs can turn the big data flood into an ocean of opportunity', 'intents & examples for ibm watson conversation', 'rapidly build machine learning flows with dsx', 'airbnb data for analytics: berlin reviews', 'workflow in r', 'ibm watson facebook posts for 2015', 'apache spark lab, part 2: querying data', 'use r dataframes & ibm watson natural language understanding', 'total population by country', 'intents & examples for ibm watson conversation', 'apache spark lab, part 1: basic concepts', 'jupyter notebooks with scala, python, or r kernels', 'use apache systemml and spark for machine learning', 'car performance data', 'rapidly build machine learning flows with dsx', 'use decision optimization to schedule league games', 'fertility rate by country in total births per woman', 'modeling energy usage in new york city', 'rapidly build machine learning flows with dsx', 'brunel in jupyter', 'predicting churn with the spss random tree algorithm', 'what is text analytics?', 'country statistics: stock of broad money', 'analyze open data sets with pandas dataframes', 'sparklyr — r interface for apache spark', 'sparklyr — r interface for apache spark', 'deep learning with data science experience', 'learn basics about notebooks and apache spark', 'how to perform a logistic regression in r', 'apache spark lab, part 2: querying data', 'analyzing streaming data from kafka topics', 'how smart catalogs can turn the big data flood into an ocean of opportunity', 'gosales transactions for logistic regression model', 'analyze open data sets using pandas in a python notebook', 'dsx: hybrid mode', 'shaping data with ibm data refinery', 'enjoy python 3.5 in jupyter notebooks', 'learn basics about notebooks and apache spark', 'the million dollar question: where is my data?', 'ibm watson machine learning: get started', 'analyzing streaming data from kafka topics', 'learn basics about notebooks and apache spark', 'challenges in deep learning', 'city population by sex, city and city type', 'deep learning with tensorflow course by big data university', 'use ibm data science experience to read and write data stored on amazon s3', 'data science in the cloud', 'a moving average trading strategy', 'this week in data science', 'use decision optimization to schedule league games', 'awesome deep learning papers', 'uci: forest fires', 'leverage python, scikit, and text classification for behavioral profiling', 'tidy data in python', 'analyze traffic data from the city of san francisco', 'analyzing streaming data from kafka topics', 'enjoy python 3.5 in jupyter notebooks', 'python machine learning: scikit-learn tutorial', 'the nurse assignment problem data', 'mobile-cellular telephone subscriptions per 100 inhabitants, worldwide', 'working with notebooks in dsx', 'from python nested lists to multidimensional numpy arrays', 'welcome to pixiedust', 'from python nested lists to multidimensional numpy arrays', 'analyze db2 warehouse on cloud data in rstudio in dsx', 'uci: car evaluation', 'education (2015): united states demographic measures', 'neural networks for beginners: popular types and applications', 'contraceptive prevalence (% women 15-49) by country', 'analyzing data by using the sparkling.data library features', 'data model with streaming analytics and python', 'uci: forest fires', 'rstudio ide  cheat sheet', 'uci: poker hand - testing data set', 'apache spark lab, part 3: machine learning', 'data model with streaming analytics and python', 'world marriage data', 'flexdashboard: interactive dashboards for r', 'programmatic evaluation using watson conversation', 'putting a human face on machine learning', 'breast cancer wisconsin (diagnostic) data set', 'from python nested lists to multidimensional numpy arrays', 'forest area by country in sq km', 'use ibm data science experience to read and write data stored on amazon s3', 'the nurse assignment problem data', 'from python nested lists to multidimensional numpy arrays', 'uci: heart disease - cleveland', 'contraceptive prevalence (% women 15-49) by country', 'uci: adult - predict income', 'developing ibm streams applications with the python api (version 1.6)', 'from python nested lists to multidimensional numpy arrays', 'uci: heart disease - cleveland', 'working interactively with rstudio and notebooks in dsx', 'are your predictive models like broken clocks?', 'improving real-time object detection with yolo', 'persistent changes to spark config in dsx', 'access ibm analytics for apache spark from rstudio', 'data model with streaming analytics and python', 'data model with streaming analytics and python', 'deep learning with data science experience', 'mobile cellular subscriptions per 100 people by country', 'intents & examples for ibm watson conversation', 'country population by gender 1985-2005', 'part-time employment rate, worldwide, by country and year', 'deep learning from scratch i: computational graphs', 'use ibm data science experience to read and write data stored on amazon s3', 'deep learning from scratch i: computational graphs', 'annual % population growth by country', 'persistent changes to spark config in dsx', 'use ibm data science experience to read and write data stored on amazon s3', 'leverage python, scikit, and text classification for behavioral profiling', 'web picks - dataminingapps', 'country statistics: children under the age of 5 years underweight', 'transfer learning for flight delay prediction via variational autoencoders', 'data visualization with r: scrum metrics', 'use r dataframes & ibm watson natural language understanding', 'mobile-cellular telephone subscriptions per 100 inhabitants, worldwide', 'fortune 100 companies', 'simple graphing with ipython and\\xa0pandas', '520    using notebooks with pixiedust for fast, flexi...\\nName: title, dtype: object', 'cleaning the swamp: turn your data lake into a source of crystal-clear insight', 'leaflet: interactive web maps with r', 'the nurse assignment problem data', 'country population by gender 1985-2005', 'interactive time series with dygraphs', 'sparklyr — r interface for apache spark', 'putting a human face on machine learning', 'improving real-time object detection with yolo', 'python machine learning: scikit-learn tutorial', 'an attempt to understand boosting algorithm(s)', 'optimizing a marketing campaign: moving from predictions to actions', 'wages', 'occupation (2015): united states demographic measures', 'world marriage data', 'learn basics about notebooks and apache spark', 'spark sql - rapid performance evolution', 'health insurance (2015): united states demographic measures', 'uci: poker hand - training data set', 'sparklyr — r interface for apache spark', 'variational auto-encoder for \"frey faces\" using keras', 'uci: forest fires', 'use r dataframes & ibm watson natural language understanding', 'easy json loading and social sharing in dsx notebooks', 'deep learning from scratch i: computational graphs', 'breast cancer wisconsin (diagnostic) data set', 'build a python app on the streaming analytics service', 'data visualization with r: scrum metrics', 'uci: car evaluation', 'shiny 0.12: interactive plots with ggplot2', 'build a predictive analytic model', 'country statistics: telephones - mobile cellular', 'uci: heart disease - cleveland', 'the unit commitment problem', 'load data into rstudio for analysis in dsx', 'interactive web apps with shiny cheat sheet', 'persistent changes to spark config in dsx', 'analyze traffic data from the city of san francisco', 'uci: poker hand - testing data set', 'times world university ranking analysis', 'uci: iris', 'neural networks for beginners: popular types and applications', 'self-service data preparation with ibm data refinery', 'build a predictive analytic model', 'real-time sentiment analysis of twitter hashtags with spark (+ pixiedust)', 'neural networks for beginners: popular types and applications', 'access mysql with r', 'uci: adult - predict income', 'self-service data preparation with ibm data refinery', 'real-time sentiment analysis of twitter hashtags with spark (+ pixiedust)', 'tidy up your jupyter notebooks with scripts', 'top 10 machine learning algorithms for beginners', 'self-service data preparation with ibm data refinery', 'collecting data science cheat sheets', 'easy json loading and social sharing in dsx notebooks', 'health insurance (2015): united states demographic measures', 'self-service data preparation with ibm data refinery', 'top 10 machine learning algorithms for beginners', 'agriculture, value added (% of gdp) by country', 'times world university ranking analysis', 'times world university ranking analysis', 'self-service data preparation with ibm data refinery', 'top 10 machine learning algorithms for beginners', 'neural networks for beginners: popular types and applications', 'customer demographics and sales', 'shaping data with ibm data refinery', 'times world university ranking analysis', 'score a predictive model built with ibm spss modeler, wml & dsx', 'top 10 machine learning algorithms for beginners', 'programmatic evaluation using watson conversation', 'sudoku', 'government consumption expenditure', 'learn basics about notebooks and apache spark', 'analyzing data by using the sparkling.data library features', 'super fast string matching in python', 'getting started with graphframes in apache spark™', 'connect to db2 warehouse on cloud and db2 using scala', 'accelerate your workflow with dsx', 'read and write data to and from amazon s3 buckets in rstudio', 'shaping data with ibm data refinery', \"2875    hugo larochelle's neural network & deep learni...\\nName: title, dtype: object\", 'times world university ranking analysis', 'programmatic evaluation using watson conversation', '10 powerful features on watson data platform, no coding necessary', 'make machine learning a reality for your enterprise', 'analyzing data by using the sparkling.data library features', 'neural networks for beginners: popular types and applications', 'uci: poker hand - training data set', 'build a predictive analytic model', '10 powerful features on watson data platform, no coding necessary', 'score a predictive model built with ibm spss modeler, wml & dsx', 'score a predictive model built with ibm spss modeler, wml & dsx', '10 powerful features on watson data platform, no coding necessary', 'top 10 machine learning algorithms for beginners', 'uci: sms spam collection', 'declarative machine learning', 'sudoku', '10 powerful features on watson data platform, no coding necessary', 'use the cloudant-spark connector in python notebook', 'uci: forest fires', 'access mysql with python', 'leverage python, scikit, and text classification for behavioral profiling', 'how smart catalogs can turn the big data flood into an ocean of opportunity', 'the nurse assignment problem data', 'super fast string matching in python', 'working with db2 warehouse on cloud in data science experience', 'country statistics: telephones - mobile cellular', 'occupation (2015): united states demographic measures', 'programmatic evaluation using watson conversation', 'united states demographic measures: zip code tabulation areas (zctas)', '520    using notebooks with pixiedust for fast, flexi...\\nName: title, dtype: object', 'government consumption expenditure', 'sudoku', 'access postgresql with python', 'excel files: loading from object storage — python', 'an attempt to understand boosting algorithm(s)', 'agriculture, value added (% of gdp) by country', 'super fast string matching in python', 'customer demographics and sales', 'making data science a team sport', 'build a predictive analytic model', 'using machine learning to predict baseball injuries', 'super fast string matching in python', 'developing for the ibm streaming analytics service', 'agriculture, value added (% of gdp) by country', 'tidy up your jupyter notebooks with scripts', '10 powerful features on watson data platform, no coding necessary', 'fortune 100 companies', 'customer demographics and sales', 'super fast string matching in python', 'an introduction to scientific python (and a bit of the maths behind it) – numpy', \"2875    hugo larochelle's neural network & deep learni...\\nName: title, dtype: object\", 'learn tensorflow and deep learning together and now!', 'timeseries data analysis of iot events by using jupyter notebook', 'maximize oil company profits', 'the pandas data analysis library', 'sudoku', 'real-time sentiment analysis of twitter hashtags with spark (+ pixiedust)', 'programmatic evaluation using watson conversation', 'data science in the cloud', 'word2vec in data products', 'customer demographics and sales', 'generative adversarial networks (gans)', 'better together: spss and data science experience', 'sudoku', 'reducing overplotting in scatterplots', '5 practical use cases of social network analytics: going beyond facebook and twitter', 'uci: iris', 'flexdashboard: interactive dashboards for r', 'working with notebooks in dsx', 'connect to db2 warehouse on cloud and db2 using scala', 'airbnb data for analytics: berlin calendar', 'customer demographics and sales', 'developing for the ibm streaming analytics service', 'how to perform a logistic regression in r', 'real-time sentiment analysis of twitter hashtags with spark (+ pixiedust)', 'jupyter notebook tutorial', 'airbnb data for analytics: amsterdam calendar', 'notebooks: a power tool for data scientists', 'education (2015): united states demographic measures', 'use the machine learning library', 'd3heatmap: interactive heat maps', 'country statistics: infant mortality rate', 'use decision optimization to schedule league games', 'what is hadoop?', 'score a predictive model built with ibm spss modeler, wml & dsx', 'uci: sms spam collection', 'getting started with python', 'uci: car evaluation', 'airbnb data for analytics: berlin reviews', '10 tips on using jupyter notebook', 'births attended by skilled health staff (% of total) by country', 'the 3 kinds of context: machine learning and the art of the frame', 'births attended by skilled health staff (% of total) by country', 'uci: poker hand - training data set', 'births attended by skilled health staff (% of total) by country', 'introducing streams designer', 'python machine learning: scikit-learn tutorial', 'births attended by skilled health staff (% of total) by country', 'introducing streams designer', '502    forgetting the past to learn the future: long ...\\nName: title, dtype: object', 'access postgresql with python', 'country statistics: commercial bank prime lending rate', 'births attended by skilled health staff (% of total) by country', 'introducing streams designer', 'using brunel in ipython/jupyter notebooks', 'airbnb data for analytics: amsterdam calendar', 'flexdashboard: interactive dashboards for r', 'sector correlations shiny app', 'introducing streams designer', 'health insurance (2015): united states demographic measures', 'imitation learning in tensorflow (hopper from openai gym)', 'introducing streams designer', 'total population by country', 'brunel interactive visualizations in jupyter notebooks', 'uci: white wine quality', 'brunel in jupyter', 'drowning in data sources: how data cataloging could fix your findability problems', 'brunel 2.0 preview', 'shiny: a data scientist’s best friend', 'country statistics: unemployment rate', 'uci: iris', 'new shiny cheat sheet and video tutorial', 'build a python app on the streaming analytics service', 'real-time sentiment analysis of twitter hashtags with spark (+ pixiedust)', 'jupyter notebook tutorial', '3992    using apache spark to predict attack vectors a...\\nName: title, dtype: object', 'use apache systemml and spark for machine learning', 'shiny 0.12: interactive plots with ggplot2', '10 tips on using jupyter notebook', 'better together: spss and data science experience', 'easy json loading and social sharing in dsx notebooks', 'this week in data science (may 30, 2017)', 'breast cancer wisconsin (diagnostic) data set', 'uci: adult - predict income', 'using brunel in ipython/jupyter notebooks', 'uci: wine recognition', 'variational auto-encoder for \"frey faces\" using keras', 'use data assets in a project using ibm data catalog', 'workflow in r', 'data visualization playbook: telling the data story', 'the pandas data analysis library', 'variational auto-encoder for \"frey faces\" using keras', 'model a golomb ruler', '520    using notebooks with pixiedust for fast, flexi...\\nName: title, dtype: object', 'optimizing a marketing campaign: moving from predictions to actions', 'airbnb data for analytics: boston calendar', 'pixiedust: magic for your python notebook', 'health insurance (2015): united states demographic measures', 'blogging with brunel', 'adolescent fertility rate (births per 1,000 women ages 15-19), worldwide', 'create a connection and add it to a project using ibm data refinery', 'wages', 'simple linear regression? do it the bayesian way', 'country statistics: unemployment rate', 'new shiny cheat sheet and video tutorial', 'mapping points with folium', 'tensorflow quick tips', 'mobile cellular subscriptions per 100 people by country', 'pixiedust: magic for your python notebook', 'country statistics: health expenditures', '520    using notebooks with pixiedust for fast, flexi...\\nName: title, dtype: object', 'tidy data in python', 'uci: red wine quality', 'country statistics: gdp - per capita (ppp)', 'time series prediction using recurrent neural networks (lstms)', 'brunel interactive visualizations in jupyter notebooks', 'what caused the challenger disaster?', 'sector correlations shiny app', 'airbnb data for analytics: portland listings', 'python machine learning: scikit-learn tutorial', 'simple graphing with ipython and\\xa0pandas', 'what is text analytics?', 'developing ibm streams applications with the python api (version 1.6)', 'd3heatmap: interactive heat maps', 'occupation (2015): united states demographic measures', 'occupation (2015): united states demographic measures', 'time series prediction using recurrent neural networks (lstms)', 'better together: spss and data science experience', 'what caused the challenger disaster?', 'the pandas data analysis library', 'country statistics: gdp - per capita (ppp)', 'country statistics: gdp - per capita (ppp)', 'uci: sms spam collection', 'uci: sms spam collection', 'country statistics: gdp - per capita (ppp)', 'shiny 0.13.0', 'shiny 0.13.0', 'country statistics: gdp - per capita (ppp)', 'sector correlations shiny app', 'deep learning trends and an example', 'data visualization playbook: revisiting the basics', 'optimizing a marketing campaign: moving from predictions to actions', 'uci: red wine quality', 'variational auto-encoder for \"frey faces\" using keras', 'education (2015): united states demographic measures', 'what caused the challenger disaster?', 'what caused the challenger disaster?', 'the pandas data analysis library', 'what caused the challenger disaster?', 'connect to db2 warehouse on cloud and db2 using scala', 'uci: forest fires', 'uci: white wine quality', 'uci: iris', 'hyperparameter optimization: sven hafeneger', '15 page tutorial for r', 'an introduction to stock market data analysis with r (part 1)', 'getting started with python', 'uci: iris', 'developing for the ibm streaming analytics service', 'an introduction to stock market data analysis with r (part 1)', 'detect malfunctioning iot sensors with streaming analytics', 'detect malfunctioning iot sensors with streaming analytics', 'detect malfunctioning iot sensors with streaming analytics', 'a comparison of logistic regression and naive bayes ', 'detect malfunctioning iot sensors with streaming analytics', 'tidy up your jupyter notebooks with scripts', 'part-time employment rate, worldwide, by country and year', 'country statistics: distribution of family income - gini index', 'uci: car evaluation', 'uci: abalone', 'tidy up your jupyter notebooks with scripts', 'leaflet: interactive web maps with r', 'use spark for scala to load data and run sql queries', 'total population by country', 'country statistics: life expectancy at birth', 'pixiedust: magic for your python notebook', 'airbnb data for analytics: new york city calendar', 'manage object storage in dsx', 'excel files: loading from object storage — python', 'manage object storage in dsx', 'airbnb data for analytics: boston listings', 'using machine learning to predict value of homes on airbnb', 'dry bulb temperature, by country, station and year', 'working with db2 warehouse on cloud in data science experience', 'car performance data', 'modeling energy usage in new york city', 'pixiedust: magic for your python notebook', 'pixiedust gets its first community-driven feature in 1.0.4', 'pixiedust 1.0 is here! – ibm watson data lab', 'dt: an r interface to the datatables library', 'airbnb data for analytics: amsterdam reviews', 'easy json loading and social sharing in dsx notebooks', 'maximize oil company profits', 'use spark for scala to load data and run sql queries', 'use spark for scala to load data and run sql queries', 'improving real-time object detection with yolo', 'an introduction to stock market data analysis with r (part 1)', 'which one to choose for your problem', 'machine learning exercises in python, part 1', 'using machine learning to predict value of homes on airbnb', 'use the machine learning library', 'car performance data', 'electric power consumption (kwh per capita) by country', 'electric power consumption (kwh per capita) by country', 'electric power consumption (kwh per capita) by country', 'electric power consumption (kwh per capita) by country', 'world marriage data', 'electric power consumption (kwh per capita) by country', 'experience iot with coursera', 'country statistics: health expenditures', 'country statistics: health expenditures', 'adoption of machine learning to software failure prediction', 'adoption of machine learning to software failure prediction', 'adoption of machine learning to software failure prediction', 'airbnb data for analytics: portland reviews', 'brunel interactive visualizations in jupyter notebooks', 'brunel interactive visualizations in jupyter notebooks', 'airbnb data for analytics: portland listings', 'airbnb data for analytics: portland calendar', 'working with db2 warehouse on cloud in data science experience', 'detect malfunctioning iot sensors with streaming analytics', 'new shiny cheat sheet and video tutorial', 'working interactively with rstudio and notebooks in dsx', 'jupyter notebook tutorial', 'analyze open data sets using pandas in a python notebook', 'movie recommender system with spark machine learning', 'working with notebooks in dsx', 'how to use db2 warehouse on cloud in data science experience notebooks', 'connect to db2 warehouse on cloud and db2 using scala', 'working with db2 warehouse on cloud in data science experience', 'spark 1.4 for rstudio', 'working with db2 warehouse on cloud in data science experience', 'how to use db2 warehouse on cloud in data science experience notebooks', 'movie recommender system with spark machine learning', 'rstudio ide  cheat sheet', 'airbnb data for analytics: amsterdam listings', 'back to basics — jupyter notebooks', 'how to map usa rivers using ggplot2', 'imitation learning in tensorflow (hopper from openai gym)', 'airbnb data for analytics: venice listings', 'consumer prices', 'airbnb data for analytics: venice calendar', 'population below national poverty line, total, percentage', 'airbnb data for analytics: venice reviews', 'brunel 2.0 preview', 'uci: white wine quality', 'using brunel in ipython/jupyter notebooks', 'word2vec in data products', 'build a python app on the streaming analytics service', 'worldwide fuel oil consumption by household (in 1000 metric tons)', 'developing for the ibm streaming analytics service', 'practical tutorial on random forest and parameter tuning in r', 'brunel interactive visualizations in jupyter notebooks', 'optimization for deep learning highlights in 2017', 'deep learning trends and an example', 'working with notebooks in dsx', 'access ibm analytics for apache spark from rstudio', 'mobile cellular subscriptions per 100 people by country', 'mobile-cellular telephone subscriptions per 100 inhabitants, worldwide', 'neural language modeling from scratch (part 1)', 'optimization for deep learning highlights in 2017', 'common excel tasks demonstrated in\\xa0pandas', 'optimization for deep learning highlights in 2017', 'how to use db2 warehouse on cloud in data science experience notebooks', 'optimization for deep learning highlights in 2017', 'maximize oil company profits', 'connect to db2 warehouse on cloud and db2 using scala', 'jupyter notebooks with scala, python, or r kernels', 'sparklyr — r interface for apache spark', '0 to life-changing app: scala first steps and an interview with jakob odersky', 'ibm data catalog is now generally available', 'ibm data catalog is now generally available', 'annual % population growth by country', 'common excel tasks demonstrated in\\xa0pandas', 'ibm data catalog is now generally available', 'optimization for deep learning highlights in 2017', 'improving real-time object detection with yolo', 'using deep learning with keras to predict customer churn', 'ibm data catalog is now generally available', 'how to use db2 warehouse on cloud in data science experience notebooks', 'ibm data catalog is now generally available', 'rstudio ide  cheat sheet', '5 practical use cases of social network analytics: going beyond facebook and twitter', 'word2vec in data products', 'spark-based machine learning tools for capturing word meanings', 'spark-based machine learning tools for capturing word meanings', 'using deep learning with keras to predict customer churn', 'leverage scikit-learn models with core ml', 'using deep learning with keras to predict customer churn', 'word2vec in data products', 'word2vec in data products', 'house building with worker skills', 'read and write data to and from amazon s3 buckets in rstudio', 'use apache systemml and spark for machine learning', 'accelerate your workflow with dsx', 'interactive web apps with shiny cheat sheet', 'using deep learning with keras to predict customer churn', 'gradient boosting explained', 'sector correlations shiny app', 'gradient boosting explained', 'three reasons machine learning models go out of sync', 'using deep learning with keras to predict customer churn', 'three reasons machine learning models go out of sync', 'three reasons machine learning models go out of sync', 'an introduction to scientific python (and a bit of the maths behind it) – numpy', 'awesome deep learning papers', 'gradient boosting explained', 'dry bulb temperature, by country, station and year', 'working with sqlite databases using python and pandas', 'three reasons machine learning models go out of sync', 'country statistics: crude oil - proved reserves', 'country statistics: crude oil - exports', 'what is text analytics?', 'percentage of internet users by country', 'sector correlations shiny app', 'three reasons machine learning models go out of sync', 'movie recommender system with spark machine learning', 'how to write the first for loop in r', 'gradient boosting explained', 'variational auto-encoder for \"frey faces\" using keras', 'upload data and create data frames in jupyter notebooks', \"i'd rather predict basketball games than elections: elastic nba rankings\", 'this week in data science (may 23, 2017)', 'the 3 kinds of context: machine learning and the art of the frame', 'practical tutorial on random forest and parameter tuning in r', 'i am not a data scientist – ibm watson data lab', 'using machine learning to predict value of homes on airbnb', 'using github for project control in dsx', 'experience iot with coursera', 'airbnb data for analytics: washington d.c. listings', 'i am not a data scientist – ibm watson data lab', 'predicting gentrification using longitudinal census data', 'predicting gentrification using longitudinal census data', 'this week in data science (march 28, 2017)', 'machine learning and the science of choosing', 'spark 2.1 and job monitoring available in dsx', '1357    what i learned implementing a classifier from ...\\nName: title, dtype: object', 'deep forest: towards an alternative to deep neural networks', 'build a python app on the streaming analytics service', '10 essential algorithms for machine learning engineers', 'what’s new in the streaming analytics service on bluemix', 'neurally embedded emojis', 'data wrangling with dplyr and tidyr cheat sheet', 'notebooks: a power tool for data scientists', 'using machine learning to predict baseball injuries', 'why you should master r (even if it might eventually become obsolete)', 'practical tutorial on random forest and parameter tuning in r', 'got zip code data? prep it for analytics. – ibm watson data lab – medium', 'best packages for data manipulation in r', 'this week in data science (april 18, 2017)', 'time series prediction using recurrent neural networks (lstms)', 'tensorflow quick tips', 'higher-order logistic regression for large datasets', 'roads paved as % of total roads by country', 'the pandas data analysis library', 'how to choose a project to practice data science', 'this week in data science (february 14, 2017)', 'got zip code data? prep it for analytics. – ibm watson data lab – medium', 'access ibm analytics for apache spark from rstudio', 'access postgresql with python', 'movie recommender system with spark machine learning', 'tensorflow quick tips', 'data structures related to machine learning algorithms', 'rstudio ide  cheat sheet', 'united states demographic measures: population and age', 'generative adversarial networks (gans)', 'data tidying in data science experience', 'use spark for r to load data and run sql queries', 'trust in data science', 'a dynamic duo – inside machine learning – medium', 'a dynamic duo – inside machine learning – medium', 'this week in data science (april 25, 2017)', 'use spark for python to load data and run sql queries', 'spark 2.1 and job monitoring available in dsx', 'total population by country', 'ensemble learning to improve machine learning results', 'this week in data science (january 10, 2017)', 'united states demographic measures: population and age', 'using machine learning to predict value of homes on airbnb', 'brunel 2.0 preview', 'apache spark™ 2.0: extend structured streaming for spark ml', 'new shiny cheat sheet and video tutorial', 'using deep learning to reconstruct high-resolution audio', 'using machine learning to predict value of homes on airbnb', 'introduction to market basket analysis in\\xa0python', '1357    what i learned implementing a classifier from ...\\nName: title, dtype: object', '7292    a dramatic tour through python’s data visualiz...\\nName: title, dtype: object', 'notebooks: a power tool for data scientists', 'working interactively with rstudio and notebooks in dsx', 'when machine learning matters · erik bernhardsson', 'united states demographic measures: population and age', 'spark-based machine learning tools for capturing word meanings', 'access ibm analytics for apache spark from rstudio', 'the machine learning database', 'analyze open data sets using pandas in a python notebook', 'car performance data', 'transfer learning for flight delay prediction via variational autoencoders', 'co2 emissions (metric tons per capita) by country', 'working interactively with rstudio and notebooks in dsx', '5 practical use cases of social network analytics: going beyond facebook and twitter', 'a comparison of logistic regression and naive bayes ', 'data science bowl 2017', 'trust in data science', 'how to map usa rivers using ggplot2', 'trust in data science', 'the data science process', 'access mysql with r', \"a kaggler's guide to model stacking in practice\", 'statistics for hackers', 'practical tutorial on random forest and parameter tuning in r', 'machine learning exercises in python, part 1', '10 data science podcasts you need to be listening to right now', 'employed population by occupation and age', 'jupyter notebooks with scala, python, or r kernels', 'generative adversarial networks (gans)', 'the machine learning database', 'spark 2.1 and job monitoring available in dsx', 'analyze open data sets using pandas in a python notebook', 'a dynamic duo – inside machine learning – medium', 'this week in data science (april 18, 2017)', 'this week in data science (april 4, 2017)', 'access ibm analytics for apache spark from rstudio', 'ibm data science experience white paper - sparkr transforming r into a tool for big data analytics', 'neural language modeling from scratch (part 1)', 'data science in the cloud', 'pearson correlation aggregation on sparksql', 'an attempt to understand boosting algorithm(s)', 'ml algorithm != learning machine', 'using machine learning to predict baseball injuries', 'machine learning and the science of choosing', 'spark-based machine learning tools for capturing word meanings', 'households by type of household, age and sex of head of household', 'an introduction to stock market data analysis with r (part 1)', 'i am not a data scientist – ibm watson data lab', 'hurricane how-to', 'ibm data science experience white paper - sparkr transforming r into a tool for big data analytics', 'use spark for python to load data and run sql queries', 'why you should master r (even if it might eventually become obsolete)', 'generative adversarial networks (gans)', 'this week in data science (january 24, 2017)', 'introduction to market basket analysis in\\xa0python', 'enjoy python 3.5 in jupyter notebooks', 'how to map usa rivers using ggplot2', 'tensorflow quick tips', 'airbnb data for analytics: vienna listings', 'deep learning with data science experience', '5 practical use cases of social network analytics: going beyond facebook and twitter', 'the machine learning database', 'apache spark as the new engine of genomics', 'the machine learning database', 'external debt stocks, total (dod, current us$) by country', 'data structures related to machine learning algorithms', 'the data science process', 'what is machine learning?', 'automating web analytics through python', 'life expectancy at birth by country in total years', 'pixiedust 1.0 is here! – ibm watson data lab', 'workflow in r', \"i'd rather predict basketball games than elections: elastic nba rankings\", 'how to choose a project to practice data science', 'modern machine learning algorithms', 'markdown for jupyter notebooks cheatsheet', 'modern machine learning algorithms', 'machine learning for the enterprise.', \"a beginner's guide to variational methods\", 'a comparison of logistic regression and naive bayes ', 'using machine learning to predict baseball injuries', 'access postgresql with r', 'neurally embedded emojis', 'working with sqlite databases using python and pandas', \"i'd rather predict basketball games than elections: elastic nba rankings\", 'when machine learning matters · erik bernhardsson', 'introduction to neural networks, advantages and applications', 'quick guide to build a recommendation engine in python', '1448    i ranked every intro to data science course on...\\nName: title, dtype: object', 'machine learning exercises in python, part 1', 'the data science process', 'simple linear regression? do it the bayesian way', 'the greatest public datasets for ai – startup grind', 'modern machine learning algorithms', 'build a python app on the streaming analytics service', 'shiny 0.12: interactive plots with ggplot2', 'country population by gender 1985-2005', 'i am not a data scientist – ibm watson data lab', 'machine learning and the science of choosing', 'machine learning and the science of choosing', 'workflow in r', 'airbnb data for analytics: portland reviews', '15 page tutorial for r', 'the machine learning database', 'why you should master r (even if it might eventually become obsolete)', 'this week in data science (april 11, 2017)', \"let's have some fun with nfl data\", 'pulling and displaying etf data', 'deep forest: towards an alternative to deep neural networks', 'this week in data science (january 31, 2017)', 'airbnb data for analytics: venice calendar', 'interconnect with us', 'got zip code data? prep it for analytics. – ibm watson data lab – medium', 'the data science process', 'machine learning exercises in python, part 1', 'use spark for python to load data and run sql queries', 'interactive time series with dygraphs', '10 essential algorithms for machine learning engineers', '8170    data science expert interview: dez blanchfield...\\nName: title, dtype: object', 'analyze traffic data from the city of san francisco', 'interactive web apps with shiny cheat sheet', 'modern machine learning algorithms', 'easy json loading and social sharing in dsx notebooks', 'uci: white wine quality', '1448    i ranked every intro to data science course on...\\nName: title, dtype: object', 'machine learning and the science of choosing', 'environment statistics database - water', '502    forgetting the past to learn the future: long ...\\nName: title, dtype: object', 'uci: adult - predict income', 'statistical bias types explained (with examples)', \"a beginner's guide to variational methods\", 'upload data and create data frames in jupyter notebooks', 'how to scale your analytics using r', 'experience iot with coursera', '7 types of job profiles that makes you a data scientist', 'airbnb data for analytics: antwerp listings test', 'transfer learning for flight delay prediction via variational autoencoders', 'how to choose a project to practice data science', \"a beginner's guide to variational methods\", 'airbnb data for analytics: venice calendar', 'this week in data science (april 4, 2017)', 'hurricane how-to', 'data tidying in data science experience', 'deep learning with data science experience', 'r for data science', 'flightpredict ii: the sequel  – ibm watson data lab', 'top 10 machine learning use cases: part 1', 'jupyter notebooks with scala, python, or r kernels', 'why you should master r (even if it might eventually become obsolete)', 'htmlwidgets: javascript data visualization for r', 'airbnb data for analytics: vancouver listings', 'transfer learning for flight delay prediction via variational autoencoders', 'neurally embedded emojis', 'airbnb data for analytics: washington d.c. listings', 'how to choose a project to practice data science', 'using deep learning to reconstruct high-resolution audio', 'modern machine learning algorithms', 'data science for real-time streaming analytics', 'what is smote in an imbalanced class setting (e.g. fraud detection)?', 'using machine learning to predict parking difficulty', 'fortune 100 companies', 'practical tutorial on random forest and parameter tuning in r', 'htmlwidgets: javascript data visualization for r', 'employed population by occupation and age', 'improving the roi of big data and analytics through leveraging new sources of data', '1448    i ranked every intro to data science course on...\\nName: title, dtype: object', 'using github for project control in dsx', 'employed population by occupation and age', 'markdown for jupyter notebooks cheatsheet', 'deep learning with data science experience', 'data science bowl 2017', 'a comparison of logistic regression and naive bayes ', 'what is smote in an imbalanced class setting (e.g. fraud detection)?', 'markdown for jupyter notebooks cheatsheet', 'this week in data science (february 28, 2017)', 'automating web analytics through python', '7 types of job profiles that makes you a data scientist', 'this week in data science (may 2, 2017)', 'markdown for jupyter notebooks cheatsheet', 'country statistics: reserves of foreign exchange and gold', 'use spark for r to load data and run sql queries', 'making data science a team sport', 'trust in data science', 'rstudio ide  cheat sheet', 'united states demographic measures: population and age', '10 data science podcasts you need to be listening to right now', 'access mysql with r', 'airbnb data for analytics: sydney calendar', 'i am not a data scientist – ibm watson data lab', 'this week in data science (may 16, 2017)', 'quick guide to build a recommendation engine in python', 'some random weekend reading', 'airbnb data for analytics: antwerp reviews', 'artificial intelligence, ethically speaking – inside machine learning – medium', 'airbnb data for analytics: amsterdam calendar', 'overfitting in machine learning: what it is and how to prevent it', 'getting started with apache mahout', 'simple graphing with ipython and\\xa0pandas', 'this week in data science (february 21, 2017)', 'airbnb data for analytics: venice calendar', 'upload data and create data frames in jupyter notebooks', 'higher-order logistic regression for large datasets', 'machine learning exercises in python, part 1', 'airbnb data for analytics: toronto reviews', 'airbnb data for analytics: austin reviews', 'a moving average trading strategy', 'improving the roi of big data and analytics through leveraging new sources of data', 'when machine learning matters · erik bernhardsson', 'airbnb data for analytics: amsterdam calendar', 'model a golomb ruler', 'quick guide to build a recommendation engine in python', 'country statistics: internet users', 'enjoy python 3.5 in jupyter notebooks', 'using machine learning to predict parking difficulty', 'apache spark as the new engine of genomics', 'how the circle line rogue train was caught with data', 'blogging with brunel', 'united states demographic measures: population and age', 'spark 2.1 and job monitoring available in dsx', 'ml algorithm != learning machine', 'clustering: a guide for the perplexed', \"a beginner's guide to variational methods\", 'a comparison of logistic regression and naive bayes ', 'using rstudio in ibm data science experience', 'how the circle line rogue train was caught with data', 'airbnb data for analytics: vienna listings', 'brunel 2.0 preview', '1357    what i learned implementing a classifier from ...\\nName: title, dtype: object', 'this week in data science (may 30, 2017)', 'this week in data science (february 21, 2017)', '7292    a dramatic tour through python’s data visualiz...\\nName: title, dtype: object', 'country statistics: health expenditures', '7 types of job profiles that makes you a data scientist', 'adolescent fertility rate (births per 1,000 women ages 15-19), worldwide', 'data tidying in data science experience', 'what’s new in the streaming analytics service on bluemix', 'data science in the cloud', 'some random weekend reading', 'markdown for jupyter notebooks cheatsheet', 'the 3 kinds of context: machine learning and the art of the frame', 'this week in data science (february 14, 2017)', 'recommendation system algorithms – stats and bots', 'model a golomb ruler', 'use spark for r to load data and run sql queries', 'access postgresql with r', 'a dynamic duo – inside machine learning – medium', 'flexdashboard: interactive dashboards for r', 'flightpredict ii: the sequel  – ibm watson data lab', 'ensemble learning to improve machine learning results', 'flexdashboard: interactive dashboards for r', \"a kaggler's guide to model stacking in practice\", 'this week in data science (february 21, 2017)', 'use ibm data science experience to detect time series anomalies', '7292    a dramatic tour through python’s data visualiz...\\nName: title, dtype: object', 'interactive time series with dygraphs', 'higher-order logistic regression for large datasets', 'simple graphing with ipython and\\xa0pandas', '10 essential algorithms for machine learning engineers', 'car performance data', 'spark-based machine learning tools for capturing word meanings', 'deep forest: towards an alternative to deep neural networks', 'the 3 kinds of context: machine learning and the art of the frame', 'use spark for r to load data and run sql queries', 'enjoy python 3.5 in jupyter notebooks', 'recommender systems: approaches & algorithms', 'tidy data in python', 'data tidying in data science experience', 'external debt stocks, total (dod, current us$) by country', 'use spark for python to load data and run sql queries', 'uci: red wine quality', 'data science bowl 2017', 'top 10 machine learning use cases: part 1', 'employed population by occupation and age', 'making data science a team sport', '7292    a dramatic tour through python’s data visualiz...\\nName: title, dtype: object', 'using machine learning to predict parking difficulty', 'flightpredict ii: the sequel  – ibm watson data lab', 'higher-order logistic regression for large datasets', 'spark 2.1 and job monitoring available in dsx', 'modeling energy usage in new york city', 'data science bowl 2017', 'new shiny cheat sheet and video tutorial', '1448    i ranked every intro to data science course on...\\nName: title, dtype: object', '1357    what i learned implementing a classifier from ...\\nName: title, dtype: object', 'a dynamic duo – inside machine learning – medium', 'workflow in r', 'graph-based machine learning', 'this week in data science (may 16, 2017)', 'web picks by dataminingapps', 'uci: red wine quality', 'airbnb data for analytics: sydney calendar', 'data tidying in data science experience', 'modeling energy usage in new york city', 'statistics for hackers', 'shiny 0.13.0', 'enhanced color mapping', 'deep forest: towards an alternative to deep neural networks', 'jupyter notebooks with scala, python, or r kernels', \"a kaggler's guide to model stacking in practice\", 'airbnb data for analytics: amsterdam listings', 'brunel 2.0 preview', 'employed population by occupation and age', 'top 10 machine learning use cases: part 1', 'experience iot with coursera', 'data science platforms are on the rise and ibm is leading the way', 'population below national poverty line, total, percentage', 'statistics for hackers', 'life expectancy at birth by country in total years', 'airbnb data for analytics: venice reviews', 'apache spark as the new engine of genomics', 'essentials of machine learning algorithms (with python and r codes)', 'web picks (week of 23 january 2017)', 'working with sqlite databases using python and pandas', 'overfitting in machine learning: what it is and how to prevent it', 'how to map usa rivers using ggplot2', 'predicting the 2016 us presidential election', 'an attempt to understand boosting algorithm(s)', 'recommender systems: approaches & algorithms', 'predicting gentrification using longitudinal census data', 'this week in data science (april 4, 2017)', 'world tourism data by the world tourism organization', 'why you should master r (even if it might eventually become obsolete)', 'how to map usa rivers using ggplot2', 'this week in data science (april 11, 2017)', \"a kaggler's guide to model stacking in practice\", 'forest area by country in sq km', 'airbnb data for analytics: amsterdam listings', 'data visualization with r: scrum metrics', 'getting started with graphframes in apache spark™', 'this week in data science (january 24, 2017)', 'hurricane how-to', 'statistics for hackers', 'this week in data science (february 14, 2017)', 'dry bulb temperature, by country, station and year', 'this week in data science (may 2, 2017)', 'why relational databases and r?', 'notebooks: a power tool for data scientists', 'statistics for hackers', 'introduction to market basket analysis in\\xa0python', '8170    data science expert interview: dez blanchfield...\\nName: title, dtype: object', 'access postgresql with python', '5 practical use cases of social network analytics: going beyond facebook and twitter', 'data structures related to machine learning algorithms', '502    forgetting the past to learn the future: long ...\\nName: title, dtype: object', 'publish notebooks to github in dsx', 'hurricane how-to', 'what’s new in the streaming analytics service on bluemix', 'data science for real-time streaming analytics', 'this week in data science (may 30, 2017)', 'data science for real-time streaming analytics', 'an attempt to understand boosting algorithm(s)', 'how to write the first for loop in r', 'wages', 'upload data and create data frames in jupyter notebooks', 'flightpredict ii: the sequel  – ibm watson data lab', 'pixiedust 1.0 is here! – ibm watson data lab', 'part-time employment rate, worldwide, by country and year', \"a kaggler's guide to model stacking in practice\", 'leaflet: interactive web maps with r', 'upload data and create data frames in jupyter notebooks', 'data science for real-time streaming analytics', '10 data science podcasts you need to be listening to right now', 'deep forest: towards an alternative to deep neural networks', 'how to choose a project to practice data science', '7292    a dramatic tour through python’s data visualiz...\\nName: title, dtype: object', 'this week in data science (may 16, 2017)', 'trust in data science', 'this week in data science (april 25, 2017)', 'this week in data science (may 30, 2017)', 'data science in the cloud', 'cleaning the swamp: turn your data lake into a source of crystal-clear insight', 'pixiedust: magic for your python notebook', 'clustering: a guide for the perplexed', 'recommendation system algorithms – stats and bots', 'the greatest public datasets for ai – startup grind', 'airbnb data for analytics: toronto reviews', 'annual precipitation by country 1990-2009', 'this week in data science (february 28, 2017)', 'this week in data science (may 16, 2017)', 'use the machine learning library', 'the art of side effects: curing apache spark streaming’s amnesia (part 1/2)', 'apache spark sql analyzer resolves order-by column', 'airbnb data for analytics: toronto calendar', 'this week in data science (may 16, 2017)', 'use spark for python to load data and run sql queries', 'graph-based machine learning', 'neural language modeling from scratch (part 1)', 'this week in data science (april 18, 2017)', \"i'd rather predict basketball games than elections: elastic nba rankings\", 'interconnect with us', 'automating web analytics through python', 'overfitting in machine learning: what it is and how to prevent it', 'don’t overlook simpler techniques and algorithms', 'common excel tasks demonstrated in\\xa0pandas', 'a moving average trading strategy', \"i'd rather predict basketball games than elections: elastic nba rankings\", 'airbnb data for analytics: washington d.c. reviews', 'working with sqlite databases using python and pandas', 'recommender systems: approaches & algorithms', '10 essential algorithms for machine learning engineers', 'environment statistics database - water', 'pulling and displaying etf data', 'what’s new in the streaming analytics service on bluemix', 'ibm data science experience white paper - sparkr transforming r into a tool for big data analytics', 'data science bowl 2017', 'predicting gentrification using longitudinal census data', 'airbnb data for analytics: sydney reviews', '10 data science podcasts you need to be listening to right now', 'deep learning trends and an example', 'this week in data science (january 31, 2017)', 'wages', 'introduction to neural networks, advantages and applications', 'seti data, publicly available, from ibm', 'this week in data science (may 23, 2017)', 'data visualization with r: scrum metrics', 'ensemble learning to improve machine learning results', '10 essential algorithms for machine learning engineers', 'automating web analytics through python', 'this week in data science (may 30, 2017)', 'challenges in deep learning', 'airbnb data for analytics: antwerp calendar', 'using machine learning to predict parking difficulty', 'brunel: imitation is a sincere form of flattery', 'this week in data science (march 7, 2017)', 'challenges in deep learning', 'this week in data science (january 10, 2017)', 'pulling and displaying etf data', 'flightpredict ii: the sequel  – ibm watson data lab', 'this week in data science (january 31, 2017)', 'using deep learning to reconstruct high-resolution audio', 'ibm data science experience white paper - sparkr transforming r into a tool for big data analytics', 'country statistics: electricity - from fossil fuels', 'what’s new in the streaming analytics service on bluemix', 'this week in data science (may 23, 2017)', 'predicting gentrification using longitudinal census data', 'how to write the first for loop in r', 'this week in data science (april 25, 2017)', 'using machine learning to predict parking difficulty', 'deep learning trends and an example', 'recommendation system algorithms – stats and bots', 'bayesian regularization for #neuralnetworks – autonomous agents\\u200a—\\u200a#ai', 'this week in data science (february 21, 2017)', 'access postgresql with python', 'the data science process', 'higher-order logistic regression for large datasets', 'this week in data science (february 14, 2017)', 'top 10 machine learning use cases: part 1', 'quick guide to build a recommendation engine in python', 'the 3 kinds of context: machine learning and the art of the frame', 'some random weekend reading', 'd3heatmap: interactive heat maps', 'this week in data science (april 4, 2017)', 'jupyter (ipython) notebooks features', 'neurally embedded emojis', 'this week in data science (april 18, 2017)', 'htmlwidgets: javascript data visualization for r', 'how to scale your analytics using r', 'apache spark™ 2.0: migrating applications', 'graph-based machine learning', 'airbnb data for analytics: venice listings', 'airbnb data for analytics: washington d.c. listings', '0 to life-changing app: new apache systemml api on spark shell', 'airbnb data for analytics: paris listings', 'roads paved as % of total roads by country', 'this week in data science (april 4, 2017)', 'this week in data science (april 25, 2017)', 'use ibm data science experience to detect time series anomalies', 'mapping points with folium', 'the power of machine learning in spark', 'airbnb data for analytics: portland reviews', 'using deep learning to reconstruct high-resolution audio', 'web picks by dataminingapps', 'recommendation system algorithms – stats and bots', 'this week in data science (february 28, 2017)', 'pixiedust 1.0 is here! – ibm watson data lab', '10 data science podcasts you need to be listening to right now', 'nips 2016 — day 2 highlights', 'airbnb data for analytics: vienna calendar', 'pixiedust 1.0 is here! – ibm watson data lab', 'making data science a team sport', 'this week in data science (january 10, 2017)', 'part-time employment rate, worldwide, by country and year', 'top 10 machine learning use cases: part 1', 'some random weekend reading', 'challenges in deep learning', 'consumer prices', 'getting started with apache mahout', 'airbnb data for analytics: trentino listings', 'some random weekend reading', 'airbnb data for analytics: washington d.c. listings', '7 types of job profiles that makes you a data scientist', 'making data cleaning simple with the sparkling.data library', 'this week in data science (january 24, 2017)', 'house building with worker skills', 'model a golomb ruler', 'declarative machine learning', 'blogging with brunel', 'uci: poker hand - testing data set', '8170    data science expert interview: dez blanchfield...\\nName: title, dtype: object', 'challenges in deep learning', \"2875    hugo larochelle's neural network & deep learni...\\nName: title, dtype: object\", 'a moving average trading strategy', 'this week in data science (january 31, 2017)', 'working with sqlite databases using python and pandas', 'getting started with apache mahout', 'airbnb data for analytics: vancouver reviews', 'how to ease the strain as your data volumes rise', 'life expectancy at birth by country in total years', 'this week in data science (january 31, 2017)', 'country statistics: gross national saving', 'how to write the first for loop in r', 'getting started with apache mahout', 'this week in data science (february 21, 2017)', 'recommender systems: approaches & algorithms', 'country statistics: telephones - fixed lines', 'annual % population growth by country', 'airbnb data for analytics: sydney calendar', 'using rstudio in ibm data science experience', 'pearson correlation aggregation on sparksql', 'ensemble learning to improve machine learning results', 'airbnb data for analytics: portland reviews', 'data visualization playbook: the right level of detail', 'learning statistics on youtube', 'jupyter (ipython) notebooks features', 'airbnb data for analytics: vancouver reviews', 'use the machine learning library', 'annual % population growth by country', 'using rstudio in ibm data science experience', 'apache spark™ 2.0: extend structured streaming for spark ml', 'awesome deep learning papers', \"let's have some fun with nfl data\", 'this week in data science (january 24, 2017)', 'this week in data science (april 18, 2017)', '15 page tutorial for r', 'leaflet: interactive web maps with r', 'using deep learning to reconstruct high-resolution audio', 'adolescent fertility rate (births per 1,000 women ages 15-19), worldwide', 'data visualization playbook: revisiting the basics', '7 types of job profiles that makes you a data scientist', 'annual precipitation by country 1990-2009', \"december '16 rstudio tips and tricks\", 'what is text analytics?', 'airbnb data for analytics: antwerp reviews', 'house building with worker skills', 'r markdown reference guide', 'pixiedust gets its first community-driven feature in 1.0.4', 'bayesian regularization for #neuralnetworks – autonomous agents\\u200a—\\u200a#ai', 'interactive web apps with shiny cheat sheet', 'mapping points with folium', '0 to life-changing app: scala first steps and an interview with jakob odersky', 'getting started with apache mahout', 'this week in data science (february 14, 2017)', 'using rstudio in ibm data science experience', 'this week in data science (february 7, 2017)', 'ratio (% of population) at national poverty line by country', 'backpropagation — how neural networks learn complex behaviors', 'declarative machine learning', 'airbnb data for analytics: sydney calendar', 'united states demographic measures: education', 'what is machine learning?', 'life expectancy at birth by country in total years', 'pulling and displaying etf data', 'apache spark as the new engine of genomics', 'this week in data science (february 28, 2017)', 'why relational databases and r?', 'airbnb data for analytics: vienna reviews', 'automating web analytics through python', 'finding the user in data science', 'ml algorithm != learning machine', 'd3heatmap: interactive heat maps', 'best packages for data manipulation in r', 'introduction to market basket analysis in\\xa0python', 'statistical bias types explained', 'an introduction to scientific python (and a bit of the maths behind it) – numpy', 'spark sql - rapid performance evolution', 'declarative machine learning', 'airbnb data for analytics: trentino reviews', \"2875    hugo larochelle's neural network & deep learni...\\nName: title, dtype: object\", 'cleaning the swamp: turn your data lake into a source of crystal-clear insight', 'this week in data science (january 24, 2017)', 'how to scale your analytics using r', 'hurricane how-to', 'tidyverse practice: mapping large european cities', 'a classification problem', 'pearson correlation aggregation on sparksql', '8170    data science expert interview: dez blanchfield...\\nName: title, dtype: object', '8170    data science expert interview: dez blanchfield...\\nName: title, dtype: object', '502    forgetting the past to learn the future: long ...\\nName: title, dtype: object', 'shiny 0.12: interactive plots with ggplot2', 'best packages for data manipulation in r', 'share the (pixiedust) magic – ibm watson data lab – medium', 'leaflet: interactive web maps with r', 'shiny 0.12: interactive plots with ggplot2', \"december '16 rstudio tips and tricks\", 'the greatest public datasets for ai – startup grind', 'household consumption expenditure', 'essentials of machine learning algorithms (with python and r codes)', 'statistical bias types explained', 'country statistics: central bank discount rate', 'interconnect with us', 'spark 1.4 for rstudio', 'predicting the 2016 us presidential election', 'data visualization with ggplot2 cheat sheet', 'airbnb data for analytics: sydney listings', 'mobile cellular subscriptions per 100 people by country', 'annual % population growth by country', 'country statistics: telephones - fixed lines', '15 page tutorial for r', 'airbnb data for analytics: trentino listings', 'airbnb data for analytics: vancouver listings', 'neurally embedded emojis', 'data science experience demo: modeling energy usage in nyc', 'life expectancy at birth by country in total years', 'this week in data science (march 7, 2017)', 'use ibm data science experience to detect time series anomalies', 'house building with worker skills', 'pixiedust gets its first community-driven feature in 1.0.4', '0 to life-changing app: new apache systemml api on spark shell', 'using rstudio in ibm data science experience', 'this week in data science (january 10, 2017)', 'country statistics: roadways', 'how the circle line rogue train was caught with data', 'data visualization with ggplot2 cheat sheet', 'configuring the apache spark sql context', 'this week in data science (may 2, 2017)', 'data visualization playbook: the right level of detail', 'r for data science', 'tidyr 0.6.0', 'analyze starcraft ii replays with jupyter notebooks', 'introduction to market basket analysis in\\xa0python', 'this week in data science (may 23, 2017)', 'this week in data science (may 23, 2017)', 'model a golomb ruler', 'wages', 'pixiedust gets its first community-driven feature in 1.0.4', 'pulling and displaying etf data', 'data wrangling with dplyr and tidyr cheat sheet', 'what is machine learning?', 'this week in data science (february 28, 2017)', 'how to ease the strain as your data volumes rise', '0 to life-changing app: new apache systemml api on spark shell', 'twelve\\xa0ways to color a map of africa using brunel', 'how open api economy accelerates the growth of big data and analytics', 'uci: red wine quality', 'introduction to neural networks, advantages and applications', 'airbnb data for analytics: vancouver reviews', \"december '16 rstudio tips and tricks\", 'statistical bias types explained', 'unstructured and structured data versus repetitive and non-repetitive', 'this week in data science (may 2, 2017)', 'essentials of machine learning algorithms (with python and r codes)', 'improving the roi of big data and analytics through leveraging new sources of data', 'machine learning for the enterprise.', 'mapping points with folium', \"let's have some fun with nfl data\", 'ensemble learning to improve machine learning results', 'airbnb data for analytics: seattle reviews', 'recommender systems: approaches & algorithms', 'country statistics: stock of domestic credit', 'run shiny applications in rstudio in dsx', 'declarative machine learning', 'airbnb data for analytics: sydney reviews', 'airbnb data for analytics: vienna reviews', 'mapping points with folium', 'airbnb data for analytics: sydney calendar', 'how to write the first for loop in r', 'getting started with graphframes in apache spark™', '0 to life-changing app: new apache systemml api on spark shell', \"december '16 rstudio tips and tricks\", 'this week in data science (march 7, 2017)', 'house building with worker skills', 'making data science a team sport', 'fertility rate by country in total births per woman', 'this week in data science', 'ratio (% of population) at national poverty line by country', 'country statistics: reserves of foreign exchange and gold', 'use ibm data science experience to detect time series anomalies', 'unstructured and structured data versus repetitive and non-repetitive', 'airbnb data for analytics: vancouver listings', '0 to life-changing app: new apache systemml api on spark shell', 'use the machine learning library', 'tidyr 0.6.0', 'pixiedust gets its first community-driven feature in 1.0.4', 'this week in data science (april 25, 2017)', 'apache spark sql analyzer resolves order-by column', 'what is smote in an imbalanced class setting (e.g. fraud detection)?', 'airbnb data for analytics: washington d.c. reviews', 'airbnb data for analytics: dublin reviews', \"feature importance and why it's important\", 'tidy data in python', 'this week in data science (march 7, 2017)', \"feature importance and why it's important\", 'use ibm data science experience to detect time series anomalies', 'spark 1.4 for rstudio', 'getting started with graphframes in apache spark™', 'airbnb data for analytics: washington d.c. reviews', 'adolescent fertility rate (births per 1,000 women ages 15-19), worldwide', 'improving the roi of big data and analytics through leveraging new sources of data', \"feature importance and why it's important\", 'pseudo-labeling a simple semi-supervised learning method', 'this week in data science (march 7, 2017)', 'introduction to neural networks, advantages and applications', 'interconnect with us', 'twelve\\xa0ways to color a map of africa using brunel', 'this week in data science (may 2, 2017)', 'awesome deep learning papers', 'notebooks: a power tool for data scientists', 'using apply, sapply, lapply in r', 'artificial intelligence, ethically speaking – inside machine learning – medium', 'the power of machine learning in spark', 'introduction to neural networks, advantages and applications', 'data science platforms are on the rise and ibm is leading the way', 'recommendation system algorithms – stats and bots', 'access postgresql with r', 'airbnb data for analytics: trentino listings', 'ml algorithm != learning machine', 'data wrangling with dplyr and tidyr cheat sheet', 'ml algorithm != learning machine', 'blogging with brunel', 'tidyverse practice: mapping large european cities', 'the greatest public datasets for ai – startup grind', 'how to ease the strain as your data volumes rise', 'improving the roi of big data and analytics through leveraging new sources of data', 'country statistics: life expectancy at birth', 'what is smote in an imbalanced class setting (e.g. fraud detection)?', 'country statistics - europe - population and society', 'unstructured and structured data versus repetitive and non-repetitive', 'how to scale your analytics using r', 'gross national income per capita, atlas method (current us$) by country', 'data structures related to machine learning algorithms', 'airbnb data for analytics: amsterdam listings', 'clustering: a guide for the perplexed', 'when machine learning matters · erik bernhardsson', 'analyze starcraft ii replays with jupyter notebooks', 'airbnb data for analytics: barcelona listings', 'how open api economy accelerates the growth of big data and analytics', 'analyze starcraft ii replays with jupyter notebooks', 'interactive web apps with shiny cheat sheet', 'airbnb data for analytics: trentino reviews', 'open sourcing 223gb of driving data – udacity inc', 'tidy data in python', 'data structures related to machine learning algorithms', 'airbnb data for analytics: sydney reviews', \"december '16 rstudio tips and tricks\", 'airbnb data for analytics: venice listings', 'worldwide electricity demand and production 1990-2012', 'random forest interpretation – conditional feature contributions', 'pearson correlation aggregation on sparksql', 'tidyverse practice: mapping large european cities', \"feature importance and why it's important\", 'cleaning the swamp: turn your data lake into a source of crystal-clear insight', 'jupyter (ipython) notebooks features', 'spark 1.4 for rstudio', 'what is hadoop?', 'how can data scientists collaborate to build better business', 'airbnb data for analytics: chicago listings', 'seti data, publicly available, from ibm', 'manage object storage in dsx', 'how to ease the strain as your data volumes rise', 'what is systemml? why is it relevant to you?', 'top 20 r machine learning and data science packages', 'getting started with graphframes in apache spark™', 'data visualization: the importance of excluding unnecessary details', 'data science platforms are on the rise and ibm is leading the way', 'hyperparameter optimization: sven hafeneger', 'this week in data science (february 7, 2017)', 'data science experience demo: modeling energy usage in nyc', 'country statistics: telephones - mobile cellular', 'r for data science', 'data visualization: the importance of excluding unnecessary details', 'roads paved as % of total roads by country', 'twelve\\xa0ways to color a map of africa using brunel', 'agriculture, value added (% of gdp) by country', 'best packages for data manipulation in r', 'airbnb data for analytics: venice reviews', 'hyperparameter optimization: sven hafeneger', 'country statistics: commercial bank prime lending rate', 'airbnb data for analytics: madrid listings', 'airbnb data for analytics: vienna reviews', \"feature importance and why it's important\", 'access postgresql with r', 'web picks (week of 23 january 2017)', 'apache spark™ 2.0: impressive improvements to spark sql', 'one year as a data scientist at stack overflow', 'access postgresql with r', 'a classification problem', 'this week in data science (april 11, 2017)', 'unstructured and structured data versus repetitive and non-repetitive', 'web picks (week of 4 september 2017)', 'don’t overlook simpler techniques and algorithms', 'what is smote in an imbalanced class setting (e.g. fraud detection)?', 'united states demographic measures: income', 'reducing overplotting in scatterplots', 'this week in data science (november 01, 2016)', 'a classification problem', 'airbnb data for analytics: barcelona listings', 'airbnb data for analytics: venice calendar', 'this week in data science (january 10, 2017)', 'artificial intelligence, ethically speaking – inside machine learning – medium', 'airbnb data for analytics: venice reviews', '0 to life-changing app: scala first steps and an interview with jakob odersky', 'simple linear regression? do it the bayesian way', 'how can data scientists collaborate to build better business', 'a visual explanation of the back propagation algorithm for neural networks', '8 ways to turn data into value with apache spark machine learning', 'how to ease the strain as your data volumes rise', 'a glimpse inside the mind of a data scientist', 'spark 1.4 for rstudio', 'airbnb data for analytics: nashville calendar', 'r markdown reference guide', 'military expenditure as % of gdp by country', 'agriculture, value added (% of gdp) by country', 'are your predictive models like broken clocks?', 'improving quality of life with spark-empowered machine learning', 'this week in data science (february 7, 2017)', 'airbnb data for analytics: portland listings', '10 pieces of advice to beginner data scientists', '20405    how to tame the valley — hessian-free hacks fo...\\nName: title, dtype: object', 'using apply, sapply, lapply in r', 'the difference between ai, machine learning, and deep learning?', 'using apply, sapply, lapply in r', 'analyze starcraft ii replays with jupyter notebooks', 'best packages for data manipulation in r', 'airbnb data for analytics: vancouver reviews', 'machine learning for the enterprise.', 'airbnb data for analytics: washington d.c. reviews', 'seti data, publicly available, from ibm', '0 to life-changing app: scala first steps and an interview with jakob odersky', 'dt: an r interface to the datatables library', 'data visualization with ggplot2 cheat sheet', 'analyze starcraft ii replays with jupyter notebooks', 'roads paved as % of total roads by country', 'part-time employment rate, worldwide, by country and year', 'top 20 r machine learning and data science packages', 'time series analysis using max/min and neuroscience', 'how the circle line rogue train was caught with data', 'country statistics: population', 'this week in data science (march 28, 2017)', 'airbnb data for analytics: nashville calendar', 'htmlwidgets: javascript data visualization for r', 'country statistics: airports', 'airbnb data for analytics: toronto listings', 'the power of machine learning in spark', 'configuring the apache spark sql context', 'country statistics: gross national saving', '8 ways to turn data into value with apache spark machine learning', 'airbnb data for analytics: antwerp listings', 'statistical bias types explained', 'how to scale your analytics using r', 'an interview with pythonista katharine jarmul', 'percentage of internet users by country', \"2875    hugo larochelle's neural network & deep learni...\\nName: title, dtype: object\", 'labor', 'machine learning for the enterprise.', 'twelve\\xa0ways to color a map of africa using brunel', 'random forest interpretation – conditional feature contributions', 'airbnb data for analytics: washington d.c. reviews', 'country statistics: maternal mortality rate', 'airbnb data for analytics: portland listings', 'load data into rstudio for analysis in dsx', 'finding the user in data science', 'd3heatmap: interactive heat maps', 'the data processing inequality', 'twelve\\xa0ways to color a map of africa using brunel', 'airbnb data for analytics: vienna reviews', 'airbnb data for analytics: toronto calendar', 'airbnb data for analytics: trentino listings', 'government consumption expenditure', 'total employment, by economic activity (thousands)', 'pearson correlation aggregation on sparksql', 'airbnb data for analytics: antwerp reviews', 'environment statistics database - water', 'airbnb data for analytics: boston reviews', 'airbnb data for analytics: antwerp listings', 'awesome deep learning papers', 'airbnb data for analytics: new york city reviews', 'shiny 0.13.0', 'dt: an r interface to the datatables library', 'interconnect with us', 'hyperparameter optimization: sven hafeneger', 'airbnb data for analytics: toronto reviews', 'this week in data science (april 11, 2017)', 'using apply, sapply, lapply in r', 'country statistics: crude oil - exports', 'top analytics tools in 2016', 'airbnb data for analytics: vancouver reviews', 'unstructured and structured data versus repetitive and non-repetitive', 'apache spark™ 2.0: extend structured streaming for spark ml', 'the difference between ai, machine learning, and deep learning?', 'apache spark 2.0: machine learning. under the hood and over the rainbow.', 'what is machine learning?', 'using apply, sapply, lapply in r', 'web picks (week of 23 january 2017)', 'how can data scientists collaborate to build better business', 'configuring the apache spark sql context', 'backpropagation — how neural networks learn complex behaviors', 'machine learning for the enterprise.', 'random forest interpretation – conditional feature contributions', 'artificial intelligence, ethically speaking – inside machine learning – medium', 'this week in data science (february 7, 2017)', 'annual precipitation by country 1990-2009', 'data science platforms are on the rise and ibm is leading the way', 'web picks (week of 23 january 2017)', 'backpropagation — how neural networks learn complex behaviors', 'hyperparameter optimization: sven hafeneger', 'what is spark?', 'airbnb data for analytics: trentino reviews', 'how can data scientists collaborate to build better business', 'the power of machine learning in spark', 'airbnb data for analytics: vienna listings', 'energy use (kg of oil equivalent per capita) by country', 'what is systemml? why is it relevant to you?', 'this week in data science (april 11, 2017)', 'apache spark 2.0: machine learning. under the hood and over the rainbow.', 'data visualization with ggplot2 cheat sheet', '8 ways to turn data into value with apache spark machine learning', 'airbnb data for analytics: amsterdam reviews', 'total employment, by economic activity (thousands)', 'airbnb data for analytics: antwerp listings test', 'apache systemml', 'beyond parallelize and collect', 'web picks by dataminingapps', 'clustering: a guide for the perplexed', 'backpropagation — how neural networks learn complex behaviors', 'intentional homicide, number and rate per 100,000 population, by country', 'country statistics: commercial bank prime lending rate', 'web picks (week of 4 september 2017)', 'country statistics: roadways', 'random forest interpretation – conditional feature contributions', 'airbnb data for analytics: brussels reviews', 'how to get a job in deep learning', 'this week in data science (march 28, 2017)', 'what is machine learning?', 'htmlwidgets: javascript data visualization for r', 'apache spark™ 2.0: extend structured streaming for spark ml', 'simple linear regression? do it the bayesian way', 'country statistics: commercial bank prime lending rate', 'this week in data science (march 28, 2017)', 'airbnb data for analytics: toronto calendar', 'country statistics: reserves of foreign exchange and gold', 'country population by gender 1985-2005', 'data science platforms are on the rise and ibm is leading the way', 'country statistics: crude oil - imports', 'data visualization playbook: revisiting the basics', 'total employment, by economic activity (thousands)', 'percentage of internet users by country', 'apache spark 2.0: machine learning. under the hood and over the rainbow.', 'airbnb data for analytics: venice reviews', 'percentage of internet users by country', 'airbnb data for analytics: portland listings', 'web picks by dataminingapps', 'this week in data science (february 7, 2017)', 'airbnb data for analytics: barcelona reviews', 'high-tech exports as % of manufactured exports by country', 'web picks (week of 23 january 2017)', 'intentional homicide, number and rate per 100,000 population, by country', 'building custom machine learning algorithms with apache systemml', 'forest area by country in sq km', 'how to get a job in deep learning', 'uci: poker hand - testing data set', 'the difference between ai, machine learning, and deep learning?', 'laplace noising versus simulated out of sample methods (cross frames)', 'roads paved as % of total roads by country', 'country statistics: roadways', 'statistical bias types explained', 'how can data scientists collaborate to build better business', 'marital status of men and women', 'foundational methodology for data science', 'united states demographic measures: income', 'country population by gender 1985-2005', 'web picks (week of 4 september 2017)', 'airbnb data for analytics: sydney listings', 'airbnb data for analytics: paris reviews', 'a classification problem', 'worldwide electricity demand and production 1990-2012', 'united states demographic measures: income', 'random forest interpretation – conditional feature contributions', 'shiny 0.13.0', 'total employment, by economic activity (thousands)', 'data science experience demo: modeling energy usage in nyc', '0 to life-changing app: scala first steps and an interview with jakob odersky', 'how to get a job in deep learning', 'the new builders podcast ep 3: collaboration', 'data visualization playbook: revisiting the basics', 'when machine learning matters · erik bernhardsson', 'creating the data science experience', 'apache systemml', 'statistical bias types explained (with examples)', 'intelligent applications - apache spark', 'airbnb data for analytics: austin listings', 'brunel in jupyter', 'recent trends in recommender systems', 'country statistics: unemployment rate', 'environment statistics database - water', 'contraceptive prevalence (% women 15-49) by country', 'airbnb data for analytics: barcelona reviews', 'statistical bias types explained (with examples)', 'enhanced color mapping', 'this week in data science (march 28, 2017)', 'tidyverse practice: mapping large european cities', 'airbnb data for analytics: venice listings', 'country populations 15 years of age and over, by educational attainment, age and sex', 'united states demographic measures: education', 'what is systemml? why is it relevant to you?', 'laplace noising versus simulated out of sample methods (cross frames)', 'airbnb data for analytics: trentino listings', 'an interview with pythonista katharine jarmul', 'country statistics: stock of broad money', 'country statistics: commercial bank prime lending rate', 'making data cleaning simple with the sparkling.data library', 'a classification problem', 'country statistics: current account balance', 'configuring the apache spark sql context', 'airbnb data for analytics: toronto calendar', 'data visualization playbook: revisiting the basics', 'share the (pixiedust) magic – ibm watson data lab – medium', 'bayesian regularization for #neuralnetworks – autonomous agents\\u200a—\\u200a#ai', 'airbnb data for analytics: portland calendar', 'creating the data science experience', 'an interview with pythonista katharine jarmul', 'tidyverse practice: mapping large european cities', '8 ways to turn data into value with apache spark machine learning', 'ratio (% of population) at national poverty line by country', 'apache spark @scale: a 60 tb+ production use case', 'the difference between ai, machine learning, and deep learning?', 'intentional homicide, number and rate per 100,000 population, by country', 'contraceptive prevalence (% women 15-49) by country', 'a survey of books about apache spark™', 'a survey of books about apache spark™', 'using the maker palette in the ibm data science experience', 'essentials of machine learning algorithms (with python and r codes)', 'essentials of machine learning algorithms (with python and r codes)', 'top 20 r machine learning and data science packages', 'apache systemml', 'recent trends in recommender systems', 'airbnb data for analytics: toronto reviews', \"let's have some fun with nfl data\", 'dry bulb temperature, by country, station and year', 'environment statistics database - water', 'data science experience demo: modeling energy usage in nyc', 'mobile-cellular telephone subscriptions per 100 inhabitants, worldwide', 'airbnb data for analytics: san diego reviews', 'data visualization playbook: telling the data story', 'cleaning the swamp: turn your data lake into a source of crystal-clear insight', 'what is spark?', 'interest rates', 'what is systemml? why is it relevant to you?', 'total employment, by economic activity (thousands)', 'airbnb data for analytics: athens listings', 'airbnb data for analytics: austin reviews', 'a survey of books about apache spark™', 'web picks by dataminingapps', '8 ways to turn data into value with apache spark machine learning', 'making data cleaning simple with the sparkling.data library', 'a fast on-disk format for data frames for r and python, powered by apache arrow', 'creating the data science experience', 'pseudo-labeling a simple semi-supervised learning method', 'apache spark 2.0: machine learning. under the hood and over the rainbow.', 'country surface area (sq. km)', 'country statistics: unemployment rate', 'airbnb data for analytics: berlin reviews', 'a day in the life of a data engineer', 'airbnb data for analytics: boston listings', 'country statistics: telephones - mobile cellular', 'seti data, publicly available, from ibm', 'this week in data science (august 02, 2016)', 'airbnb data for analytics: san diego reviews', 'data science experience documentation', 'this week in data science (january 17, 2017)', 'recent trends in recommender systems', 'airbnb data for analytics: new orleans listings', 'statistical bias types explained (with examples)', 'united states demographic measures: income', 'country statistics: stock of broad money', \"let's have some fun with nfl data\", 'making data cleaning simple with the sparkling.data library', 'airbnb data for analytics: vancouver listings', 'artificial intelligence, ethically speaking – inside machine learning – medium', 'web picks (week of 4 september 2017)', 'uci: wine recognition', 'advancements in the spark community', 'what is hadoop?', 'statistical bias types explained (with examples)', 'what is spark?', 'what is hadoop?', 'country statistics: airports', 'airbnb data for analytics: vancouver calendar', 'beyond parallelize and collect', 'don’t overlook simpler techniques and algorithms', \"h2o with ibm's data science experience (dsx)\", 'load data into rstudio for analysis in dsx', 'apache spark™ 2.0: impressive improvements to spark sql', 'this week in data science (july 26, 2016)', 'web picks (week of 4 september 2017)', 'airbnb data for analytics: vancouver calendar', 'readr 1.0.0', 'airbnb data for analytics: oakland reviews', 'clustering: a guide for the perplexed', 'blogging with brunel', 'seti data, publicly available, from ibm', 'airbnb data for analytics: toronto reviews', 'worldwide county and region - national accounts - gross national income 1948-2010', 'household consumption expenditure', 'time series analysis using max/min and neuroscience', 'r markdown reference guide', 'an interview with pythonista katharine jarmul', 'apache spark 2.0: machine learning. under the hood and over the rainbow.', 'what is spark?', 'top 20 r machine learning and data science packages', 'country statistics: life expectancy at birth', 'fertility rate by country in total births per woman', 'this week in data science (january 17, 2017)', 'international liquidity', 'r for data science', 'country statistics: telephones - mobile cellular', 'airbnb data for analytics: trentino calendar', 'primary school completion rate % of relevant age group by country', 'data visualization with ggplot2 cheat sheet', 'the power of machine learning in spark', 'airbnb data for analytics: antwerp reviews', 'airbnb data for analytics: mallorca reviews', 'airbnb data for analytics: athens calendar', 'machine learning for the enterprise', 'apache systemml', 'building custom machine learning algorithms with apache systemml', 'do i need to learn r?', 'a new version of dt (0.2) on cran', 'airbnb data for analytics: san francisco listings', 'reducing overplotting in scatterplots', 'natural gas production, 1995 - 2012, worldwide', 'backpropagation — how neural networks learn complex behaviors', 'apache spark™ 2.0: extend structured streaming for spark ml', 'are your predictive models like broken clocks?', 'unmet need for family planning, spacing, percentage, worldwide, by country', 'uci: wine recognition', 'how to get a job in deep learning', 'cache table in apache spark sql', 'worldwide electricity demand and production 1990-2012', 'airbnb data for analytics: antwerp calendar', 'gross national income per capita, atlas method (current us$) by country', 'country statistics: maternal mortality rate', 'country statistics: telephones - fixed lines', 'ggplot2 2.2.0 coming soon!', 'apache systemml', 'this week in data science (november 22, 2016)', 'airbnb data for analytics: new york city calendar', 'airbnb data for analytics: portland calendar', 'what is systemml? why is it relevant to you?', 'airbnb data for analytics: amsterdam reviews', 'airbnb data for analytics: amsterdam reviews', 'reducing overplotting in scatterplots', 'enhanced color mapping', 'airbnb data for analytics: paris calendar', 'data visualization playbook: telling the data story', 'xml2 1.0.0', 'r for data science', 'uci: poker hand - training data set', 'this week in data science (december 27, 2016)', 'airbnb data for analytics: athens reviews', 'worldwide electricity demand and production 1990-2012', 'mobile cellular subscriptions per 100 people by country', 'a visual explanation of the back propagation algorithm for neural networks', 'airbnb data for analytics: vienna listings', 'airbnb data for analytics: vienna calendar', 'learning statistics on youtube', 'a fast on-disk format for data frames for r and python, powered by apache arrow', 'the art of side effects: curing apache spark streaming’s amnesia (part 1/2)', 'airbnb data for analytics: paris calendar', 'interest rates', 'fertility rate by country in total births per woman', 'measles immunization % children 12-23 months by country', 'airbnb data for analytics: antwerp calendar', 'making data cleaning simple with the sparkling.data library', 'airbnb data for analytics: vienna listings', 'are your predictive models like broken clocks?', 'time series analysis using max/min and neuroscience', 'what is spark?', 'airbnb data for analytics: austin listings', 'brunel: imitation is a sincere form of flattery', 'share the (pixiedust) magic – ibm watson data lab – medium', 'data visualization: the importance of excluding unnecessary details', 'a day in the life of a data engineer', 'consumption of ozone-depleting cfcs in odp metric tons', 'laplace noising versus simulated out of sample methods (cross frames)', 'pseudo-labeling a simple semi-supervised learning method', 'airbnb data for analytics: vienna calendar', 'airbnb data for analytics: new york city calendar', 'airbnb data for analytics: toronto listings', 'airbnb data for analytics: antwerp reviews', 'airbnb data for analytics: toronto calendar', 'machine learning for the enterprise', 'bayesian regularization for #neuralnetworks – autonomous agents\\u200a—\\u200a#ai', 'apache spark sql analyzer resolves order-by column', 'airbnb data for analytics: montreal listings', 'airbnb data for analytics: new orleans reviews', 'uci: wine recognition', 'building custom machine learning algorithms with apache systemml', 'dplyr 0.5.0', 'share the (pixiedust) magic – ibm watson data lab – medium', 'airbnb data for analytics: vienna calendar', 'airbnb data for analytics: trentino reviews', 'data visualization playbook: the right level of detail', 'do i need to learn r?', 'united states demographic measures: income', 'recent trends in recommender systems', 'jupyter (ipython) notebooks features', 'roads, paved (% of total roads), worldwide, 1990-2011', 'time series analysis using max/min and neuroscience', 'brunel: imitation is a sincere form of flattery', 'do i need to learn r?', 'data science experience documentation', 'ratio (% of population) at national poverty line by country', 'r markdown reference guide', 'this week in data science (august 02, 2016)', 'let data dictate the visualization', 'brunel: imitation is a sincere form of flattery', 'airbnb data for analytics: amsterdam reviews', 'foreign direct investment, net inflows (bop, current us$) by country', 'intelligent applications - apache spark', 'worldwide electricity demand and production 1990-2012', 'country statistics: telephones - fixed lines', 'big data is better data', 'airbnb data for analytics: toronto listings', 'package development with devtools  cheat sheet', 'airbnb data for analytics: athens reviews', 'better together: spss and data science experience', 'a visual explanation of the back propagation algorithm for neural networks', 'can a.i. be taught to explain itself?', 'can a.i. be taught to explain itself?', 'can a.i. be taught to explain itself?', 'can a.i. be taught to explain itself?', 'can a.i. be taught to explain itself?', 'gradient boosting explained', 'get social with your notebooks in dsx', 'get social with your notebooks in dsx', 'get social with your notebooks in dsx', 'get social with your notebooks in dsx', 'run dsx notebooks on amazon emr', 'using bigdl in dsx for deep learning on spark', 'using bigdl in dsx for deep learning on spark', 'using bigdl in dsx for deep learning on spark', 'using bigdl in dsx for deep learning on spark', 'get social with your notebooks in dsx', 'uci: wine recognition', 'are your predictive models like broken clocks?', 'using bigdl in dsx for deep learning on spark', 'shiny: a data scientist’s best friend', 'airbnb data for analytics: new york city reviews', 'overlapping co-cluster recommendation algorithm (ocular)', 'overlapping co-cluster recommendation algorithm (ocular)', 'overlapping co-cluster recommendation algorithm (ocular)', 'overlapping co-cluster recommendation algorithm (ocular)', 'using dsx notebooks to analyze github data', 'overlapping co-cluster recommendation algorithm (ocular)', 'using dsx notebooks to analyze github data', 'forest area by country in sq km', 'using dsx notebooks to analyze github data', 'uci: abalone', 'score a predictive model built with ibm spss modeler, wml & dsx', 'laplace noising versus simulated out of sample methods (cross frames)', 'airbnb data for analytics: santa cruz county reviews', 'using dsx notebooks to analyze github data', 'using dsx notebooks to analyze github data', 'uci: poker hand - training data set', 'recent trends in recommender systems', 'drowning in data sources: how data cataloging could fix your findability problems', '51822    using apache spark as a parallel processing fr...\\nName: title, dtype: object', '51822    using apache spark as a parallel processing fr...\\nName: title, dtype: object', 'collecting data science cheat sheets', '51822    using apache spark as a parallel processing fr...\\nName: title, dtype: object', 'country statistics: crude oil - exports', 'imitation learning in tensorflow (hopper from openai gym)', 'data science experience demo: modeling energy usage in nyc', 'web picks (december 2017)', 'worldwide fuel oil consumption by household (in 1000 metric tons)', 'airbnb data for analytics: vienna calendar', 'airbnb data for analytics: montreal listings', 'improving real-time object detection with yolo', 'web picks (december 2017)', 'web picks (december 2017)', 'developing ibm streams applications with the python api (version 1.6)', 'web picks (december 2017)', 'web picks (december 2017)', 'airbnb data for analytics: toronto listings', 'united states demographic measures: zip code tabulation areas (zctas)', 'uci: adult - predict income', 'worldwide county and region - national accounts - gross national income 1948-2010', 'country statistics: distribution of family income - gini index', '51822    using apache spark as a parallel processing fr...\\nName: title, dtype: object', '3 scenarios for machine learning on multicloud', 'share the (pixiedust) magic – ibm watson data lab – medium', 'discover, catalog and govern data with ibm data catalog', '3 scenarios for machine learning on multicloud', 'discover, catalog and govern data with ibm data catalog', '51822    using apache spark as a parallel processing fr...\\nName: title, dtype: object', 'greenhouse gas emissions worldwide', '3 scenarios for machine learning on multicloud', 'visualising data the node.js way', 'data visualization playbook: the right level of detail', 'visualising data the node.js way', '3 scenarios for machine learning on multicloud', 'visualising data the node.js way', 'visualising data the node.js way', 'visualising data the node.js way', 'discover, catalog and govern data with ibm data catalog', 'governance overview for ibm data catalog', 'mycheatsheets.com', 'mycheatsheets.com', 'mycheatsheets.com', 'mycheatsheets.com', 'mycheatsheets.com', 'perform sentiment analysis with lstms, using tensorflow', 'perform sentiment analysis with lstms, using tensorflow', 'perform sentiment analysis with lstms, using tensorflow', 'perform sentiment analysis with lstms, using tensorflow', 'leverage scikit-learn models with core ml', 'this week in data science (october 18, 2016)', 'perform sentiment analysis with lstms, using tensorflow', 'poverty (2015): united states demographic measures', 'visual information theory ', 'country statistics: life expectancy at birth', 'country statistics: life expectancy at birth', 'build a logistic regression model with wml & dsx', 'visual information theory ', 'build a logistic regression model with wml & dsx', 'visual information theory ', 'visual information theory ', 'optimizing a marketing campaign: moving from predictions to actions', 'country statistics: electricity - consumption', 'visual information theory ', 'how ibm builds an effective data science team', 'how ibm builds an effective data science team', 'how ibm builds an effective data science team', 'how ibm builds an effective data science team', 'how ibm builds an effective data science team', 'join and enrich data from multiple sources', 'join and enrich data from multiple sources', 'pseudo-labeling a simple semi-supervised learning method', 'manage object storage in dsx', 'deep learning achievements over the past year ', 'deep learning achievements over the past year ', 'deep learning achievements over the past year ', 'read and write data to and from amazon s3 buckets in rstudio', 'airbnb data for analytics: austin calendar', 'developing ibm streams applications with the python api (version 1.6)', 'open sourcing 223gb of driving data – udacity inc', 'visualize the 1854 london cholera outbreak', 'visualize the 1854 london cholera outbreak', 'visualize the 1854 london cholera outbreak', 'visualize the 1854 london cholera outbreak', 'visualize the 1854 london cholera outbreak', 'deep learning achievements over the past year ', 'deep learning achievements over the past year ', 'process events from the watson iot platform in a streams python application', 'process events from the watson iot platform in a streams python application', 'process events from the watson iot platform in a streams python application', 'aspiring data scientists! start to learn statistics with these 6 books!', 'aspiring data scientists! start to learn statistics with these 6 books!', 'aspiring data scientists! start to learn statistics with these 6 books!', 'aspiring data scientists! start to learn statistics with these 6 books!', 'aspiring data scientists! start to learn statistics with these 6 books!', 'airbnb data for analytics: barcelona calendar', 'process events from the watson iot platform in a streams python application', 'process events from the watson iot platform in a streams python application', 'intentional homicide, number and rate per 100,000 population, by country', 'natural gas production, 1995 - 2012, worldwide', 'country statistics: imports', '20405    how to tame the valley — hessian-free hacks fo...\\nName: title, dtype: object', '54174    detect potentially malfunctioning sensors in r...\\nName: title, dtype: object', 'back to basics — jupyter notebooks', 'open sourcing 223gb of driving data – udacity inc', 'discover, catalog and govern data with ibm data catalog', '54174    detect potentially malfunctioning sensors in r...\\nName: title, dtype: object', '54174    detect potentially malfunctioning sensors in r...\\nName: title, dtype: object', '54174    detect potentially malfunctioning sensors in r...\\nName: title, dtype: object', 'a survey of books about apache spark™', '54174    detect potentially malfunctioning sensors in r...\\nName: title, dtype: object', 'airbnb data for analytics: madrid listings', 'airbnb data for analytics: madrid listings', 'airbnb data for analytics: madrid listings', 'calculate moving averages on real time data with streams designer', 'united states demographic measures: zip code tabulation areas (zctas)', 'poverty (2015): united states demographic measures', 'a visual explanation of the back propagation algorithm for neural networks', 'airbnb data for analytics: london reviews', 'calculate moving averages on real time data with streams designer', 'calculate moving averages on real time data with streams designer', 'transform anything into a vector', 'developing ibm streams applications with the python api (version 1.6)', 'discover, catalog and govern data with ibm data catalog', 'drowning in data sources: how data cataloging could fix your findability problems', 'breaking the 80/20 rule: how data catalogs transform data scientists’ productivity', 'generalization in deep learning', 'transform anything into a vector', 'transform anything into a vector', 'transform anything into a vector', 'read and write data to and from amazon s3 buckets in rstudio', 'calculate moving averages on real time data with streams designer', 'transform anything into a vector', 'collecting data science cheat sheets', 'ingest data from message hub in a streams flow', '9 mistakes to avoid when starting your career in data science', 'which one to choose for your problem', 'calculate moving averages on real time data with streams designer', 'shiny: a data scientist’s best friend', 'airbnb data for analytics: barcelona listings', '9 mistakes to avoid when starting your career in data science', '9 mistakes to avoid when starting your career in data science', '9 mistakes to avoid when starting your career in data science', '9 mistakes to avoid when starting your career in data science', 'ingest data from message hub in a streams flow', 'ingest data from message hub in a streams flow', 'predicting flight cancellations using weather data, part 3', 'predicting flight cancellations using weather data, part 3', 'predicting flight cancellations using weather data, part 3', 'predicting flight cancellations using weather data, part 3', 'predicting flight cancellations using weather data, part 3', 'ingest data from message hub in a streams flow', 'ingest data from message hub in a streams flow', 'probabilistic graphical models tutorial\\u200a—\\u200apart 2 – stats and bots', 'probabilistic graphical models tutorial\\u200a—\\u200apart 2 – stats and bots', 'probabilistic graphical models tutorial\\u200a—\\u200apart 2 – stats and bots', 'probabilistic graphical models tutorial\\u200a—\\u200apart 2 – stats and bots', 'develop a scala spark model on chicago building violations', 'develop a scala spark model on chicago building violations', 'develop a scala spark model on chicago building violations', '10 data science, machine learning and ai podcasts you must listen to', 'poverty (2015): united states demographic measures', 'poverty (2015): united states demographic measures', 'develop a scala spark model on chicago building violations', 'country statistics: budget surplus or deficit', 'uci: abalone', 'develop a scala spark model on chicago building violations', 'united states demographic measures: zip code tabulation areas (zctas)', 'poverty (2015): united states demographic measures', '10 data science, machine learning and ai podcasts you must listen to', 'probabilistic graphical models tutorial\\u200a—\\u200apart 2 – stats and bots', '10 data science, machine learning and ai podcasts you must listen to', 'small steps to tensorflow', 'small steps to tensorflow', 'migrating to python 3 with pleasure', 'migrating to python 3 with pleasure', '10 data science, machine learning and ai podcasts you must listen to', 'small steps to tensorflow', '10 data science, machine learning and ai podcasts you must listen to', 'small steps to tensorflow', 'leverage scikit-learn models with core ml', 'small steps to tensorflow', 'pseudo-labeling a simple semi-supervised learning method', 'run shiny applications in rstudio in dsx', 'run shiny applications in rstudio in dsx', 'data science experience documentation', '3 scenarios for machine learning on multicloud', 'time series analysis using max/min and neuroscience', 'country statistics - europe - population and society', 'join and enrich data from multiple sources', 'united states demographic measures: zip code tabulation areas (zctas)', 'collect your own fitbit data with python', 'migrating to python 3 with pleasure', 'persistent changes to spark config in dsx', 'the art of side effects: curing apache spark streaming’s amnesia (part 1/2)', 'migrating to python 3 with pleasure', 'collect your own fitbit data with python', 'load db2 warehouse on cloud data with apache spark in dsx', 'collect your own fitbit data with python', 'collect your own fitbit data with python', 'reducing overplotting in scatterplots', 'migrating to python 3 with pleasure', 'country statistics - europe - population and society', 'collect your own fitbit data with python', 'airbnb data for analytics: boston listings', 'how to solve 90% of nlp problems', 'how to solve 90% of nlp problems', 'how to solve 90% of nlp problems', 'how to solve 90% of nlp problems', 'how to solve 90% of nlp problems', '56594    lifelong (machine) learning: how automation ca...\\nName: title, dtype: object', 'python if statements explained (python for data science basics #4)', 'shaping data with ibm data refinery', 'python if statements explained (python for data science basics #4)', 'python if statements explained (python for data science basics #4)', 'fighting gerrymandering: using data science to draw fairer congressional districts', 'work with data connections in dsx', 'work with data connections in dsx', 'python if statements explained (python for data science basics #4)', 'analyze ny restaurant data using spark in dsx', 'python if statements explained (python for data science basics #4)', 'fighting gerrymandering: using data science to draw fairer congressional districts', 'back to basics — jupyter notebooks', 'fighting gerrymandering: using data science to draw fairer congressional districts', 'fighting gerrymandering: using data science to draw fairer congressional districts', 'working with ibm cloud object storage in python', 'working with ibm cloud object storage in python', 'working with ibm cloud object storage in python', 'working with ibm cloud object storage in python', 'working with ibm cloud object storage in python', 'the difference between ai, machine learning, and deep learning?', 'watson machine learning for developers', 'watson machine learning for developers', 'watson machine learning for developers', 'fighting gerrymandering: using data science to draw fairer congressional districts', 'watson machine learning for developers', 'watson machine learning for developers', 'adoption of machine learning to software failure prediction', 'open sourcing 223gb of driving data – udacity inc', 'persistent changes to spark config in dsx', 'apache spark: upgrade and speed-up your analytics', 'airbnb data for analytics: sydney listings', 'making sense of the bias / variance trade-off in (deep) reinforcement learning', 'making sense of the bias / variance trade-off in (deep) reinforcement learning', 'making sense of the bias / variance trade-off in (deep) reinforcement learning', 'ibm watson machine learning: get started', 'ibm watson machine learning: get started', 'ibm watson machine learning: get started', 'ibm watson machine learning: get started', 'making sense of the bias / variance trade-off in (deep) reinforcement learning', 'predicting the 2016 us presidential election', 'making sense of the bias / variance trade-off in (deep) reinforcement learning', 'categorize urban density', 'ibm data catalog overview', '70 amazing free data sources you should know', '70 amazing free data sources you should know', '70 amazing free data sources you should know', '70 amazing free data sources you should know', 'categorize urban density', 'categorize urban density', '70 amazing free data sources you should know', 'working with ibm cloud object storage in r', 'categorize urban density', 'categorize urban density', 'working with ibm cloud object storage in r', 'working with ibm cloud object storage in r', 'predict chronic kidney disease using spss modeler flows', 'predict chronic kidney disease using spss modeler flows', 'working with ibm cloud object storage in r', 'working with ibm cloud object storage in r', 'predict chronic kidney disease using spss modeler flows', 'predict chronic kidney disease using spss modeler flows', 'predict chronic kidney disease using spss modeler flows', 'building your first machine learning system ', 'building your first machine learning system ', 'building your first machine learning system ', 'building your first machine learning system ', 'building your first machine learning system ', 'predicting the 2016 us presidential election', 'predicting the 2016 us presidential election', 'country statistics: natural gas - consumption', 'python for loops explained (python for data science basics #5)', 'leverage scikit-learn models with core ml', 'airbnb data for analytics: boston reviews', 'python for loops explained (python for data science basics #5)', 'python for loops explained (python for data science basics #5)', 'python for loops explained (python for data science basics #5)', 'python for loops explained (python for data science basics #5)', 'a visual explanation of the back propagation algorithm for neural networks', \"for ai to get creative, it must learn the rules--then how to break 'em\", \"for ai to get creative, it must learn the rules--then how to break 'em\", \"for ai to get creative, it must learn the rules--then how to break 'em\", \"for ai to get creative, it must learn the rules--then how to break 'em\", 'data science of variable selection', 'why even a moth’s brain is smarter than an ai', 'ratio (% of population) at national poverty line by country', 'why even a moth’s brain is smarter than an ai', 'why even a moth’s brain is smarter than an ai', 'why even a moth’s brain is smarter than an ai', 'why even a moth’s brain is smarter than an ai', 'airbnb data for analytics: sydney reviews', 'data visualization: the importance of excluding unnecessary details', 'shiny: a data scientist’s best friend', 'leverage scikit-learn models with core ml', 'deep learning, structure and innate priors', \"for ai to get creative, it must learn the rules--then how to break 'em\", 'deep learning, structure and innate priors', 'deep learning, structure and innate priors', 'deep learning, structure and innate priors', 'deep learning, structure and innate priors', 'dplyr 0.5.0', 'shiny: a data scientist’s best friend', 'data wrangling with dplyr and tidyr cheat sheet', 'a guide to convolution arithmetic for deep learning', 'a guide to receptive field arithmetic for convolutional neural networks', 'the art of side effects: curing apache spark streaming’s amnesia (part 1/2)', 'manage object storage in dsx', 'a guide to receptive field arithmetic for convolutional neural networks', 'spark sql - rapid performance evolution', 'the two phases of gradient descent in deep learning', 'the two phases of gradient descent in deep learning', 'a guide to convolution arithmetic for deep learning', 'the two phases of gradient descent in deep learning', 'the two phases of gradient descent in deep learning', 'machine learning for everyone', 'the random forest algorithm ', 'the random forest algorithm ', 'the random forest algorithm ', 'get started with streams designer by following this roadmap', 'adoption of machine learning to software failure prediction', 'time series anomaly detection algorithms – stats and bots', 'get started with streams designer by following this roadmap', 'get started with streams designer by following this roadmap', 'get started with streams designer by following this roadmap', 'announcing dsx environments in beta!', 'time series anomaly detection algorithms – stats and bots', 'the random forest algorithm ', 'unmet need for family planning, spacing, percentage, worldwide, by country', 'generalization in deep learning', 'time series anomaly detection algorithms – stats and bots', 'announcing dsx environments in beta!', 'announcing dsx environments in beta!', 'run dsx notebooks on amazon emr', 'brunel in jupyter', 'brunel in jupyter', 'announcing dsx environments in beta!', 'announcing dsx environments in beta!', 'time series anomaly detection algorithms – stats and bots', 'effectively using\\xa0matplotlib', 'get started with streams designer by following this roadmap', 'missing data conundrum: exploration and imputation techniques', 'effectively using\\xa0matplotlib', 'the random forest algorithm ', 'apache spark sql analyzer resolves order-by column', 'apache spark sql analyzer resolves order-by column', 'spark sql - rapid performance evolution', 'spark sql - rapid performance evolution', 'cache table in apache spark sql', 'calls by customers of a telco company', 'calls by customers of a telco company', 'customers of a telco including services used', 'customers of a telco including services used', 'customers of a telco including services used', 'calls by customers of a telco company', 'airbnb data for analytics: antwerp listings', 'empirical bayes for multiple sample sizes', 'empirical bayes for multiple sample sizes', 'calls by customers of a telco company', 'empirical bayes for multiple sample sizes', 'effectively using\\xa0matplotlib', 'empirical bayes for multiple sample sizes', 'calls by customers of a telco company', 'machine learning for everyone', 'analyze db2 warehouse on cloud data in rstudio in dsx', 'country statistics: industrial production growth rate', 'the t-distribution: a key statistical concept discovered by a beer brewery', 'the t-distribution: a key statistical concept discovered by a beer brewery', 'effectively using\\xa0matplotlib', 'population below national poverty line, total, percentage', 'the t-distribution: a key statistical concept discovered by a beer brewery', 'the t-distribution: a key statistical concept discovered by a beer brewery', 'government consumption expenditure', 'interest rates', 'customers of a telco including services used', 'the t-distribution: a key statistical concept discovered by a beer brewery', 'customers of a telco including services used', 'talent vs luck: the role of randomness in success and failure', 'effectively using\\xa0matplotlib', 'working with on-premises databases — step by step', 'talent vs luck: the role of randomness in success and failure', 'forest area by country in sq km', 'airbnb data for analytics: london listings', 'time series anomaly detection algorithms – stats and bots', 'talent vs luck: the role of randomness in success and failure', 'airbnb data for analytics: san diego listings', 'talent vs luck: the role of randomness in success and failure', 'empirical bayes for multiple sample sizes', 'apache spark @scale: a 60 tb+ production use case', 'co2 emissions (metric tons per capita) by country', 'country statistics: airports', 'world tourism data by the world tourism organization', 'greenhouse gas emissions worldwide', 'world marriage data', 'environment statistics database - waste', 'world tourism data by the world tourism organization', 'households by type of household, age and sex of head of household', 'understanding empirical bayes estimation (using baseball statistics)', 'dplyr 0.5.0', 'data wrangling with dplyr and tidyr cheat sheet', 'a guide to convolution arithmetic for deep learning', 'bayesian nonparametric models – stats and bots', 'cifar-100 - python version', 'cifar-100 - python version', 'cifar-100 - python version', 'fashion-mnist', 'cifar-100 - python version', 'cifar-100 - python version', 'understanding empirical bayes estimation (using baseball statistics)', 'fashion-mnist', 'fashion-mnist', 'country statistics: refined petroleum products - production', 'a guide to receptive field arithmetic for convolutional neural networks', 'environment statistics database - waste', 'understanding empirical bayes estimation (using baseball statistics)', 'unmet need for family planning, spacing, percentage, worldwide, by country', 'worldwide fuel oil consumption by household (in 1000 metric tons)', 'fashion-mnist', 'ibm cloud sql query', 'understanding empirical bayes estimation (using baseball statistics)', 'fashion-mnist', 'ibm cloud sql query', 'cifar-10 - python version', 'ibm cloud sql query', 'country statistics: infant mortality rate', 'understanding empirical bayes estimation (using baseball statistics)', 'the two phases of gradient descent in deep learning', 'cifar-10 - python version', 'ibm cloud sql query', 'ibm cloud sql query', 'a guide to convolution arithmetic for deep learning', 'talent vs luck: the role of randomness in success and failure', 'watson assistant workspace analysis with user logs', 'cifar-10 - python version', 'airbnb data for analytics: chicago calendar', 'watson assistant workspace analysis with user logs', 'watson assistant workspace analysis with user logs', 'watson assistant workspace analysis with user logs', 'airbnb data for analytics: chicago listings', 'watson assistant workspace analysis with user logs', 'build a logistic regression model with wml & dsx', 'a guide to convolution arithmetic for deep learning', 'cifar-10 - python version', 'cifar-10 - python version', 'use iot data in streams designer for billing and alerts', 'breast cancer detection with xgboost, wml and scikit', 'breast cancer detection with xgboost, wml and scikit', 'introducing ibm watson studio ', 'introducing ibm watson studio ', 'best practices for custom models in watson visual recognition', 'apple, ibm add machine learning to partnership with watson-core ml coupling', 'introducing ibm watson studio ', 'introducing ibm watson studio ', 'analyze facebook data using ibm watson and watson studio', 'analyze facebook data using ibm watson and watson studio', 'analyze facebook data using ibm watson and watson studio', 'analyze facebook data using ibm watson and watson studio', 'analyze facebook data using ibm watson and watson studio', 'use iot data in streams designer for billing and alerts', 'introducing ibm watson studio ', 'find airbnb deals in portland with machine learning using r', 'apple, ibm add machine learning to partnership with watson-core ml coupling', 'from scikit-learn model to cloud with wml client', 'watson speech-to-text services — tl;dr need not apply', 'apple, ibm add machine learning to partnership with watson-core ml coupling', 'apple, ibm add machine learning to partnership with watson-core ml coupling', 'from scikit-learn model to cloud with wml client', 'airbnb data for analytics: berlin reviews', 'apple, ibm add machine learning to partnership with watson-core ml coupling', 'use iot data in streams designer for billing and alerts', 'from local spark mllib model to cloud with watson machine learning', 'social media insights with watson developer cloud & watson studio', 'social media insights with watson developer cloud & watson studio', 'social media insights with watson developer cloud & watson studio', 'social media insights with watson developer cloud & watson studio', 'from spark ml model to online scoring with scala', 'from spark ml model to online scoring with scala', 'from spark ml model to online scoring with scala', 'social media insights with watson developer cloud & watson studio', 'from spark ml model to online scoring with scala', 'from spark ml model to online scoring with scala', 'from local spark mllib model to cloud with watson machine learning', 'from scikit-learn model to cloud with wml client', 'from scikit-learn model to cloud with wml client', 'open sourcing 223gb of driving data – udacity inc', 'find airbnb deals in portland with machine learning using r', 'breast cancer detection with xgboost, wml and scikit', 'use iot data in streams designer for billing and alerts', 'from scikit-learn model to cloud with wml client', 'breast cancer detection with xgboost, wml and scikit', 'analyze data, build a dashboard with spark and pixiedust', 'predict loan applicant behavior with tensorflow neural networking', 'annual % inflation by country', 'analyze data, build a dashboard with spark and pixiedust', 'analyze data, build a dashboard with spark and pixiedust', 'breast cancer detection with xgboost, wml and scikit', 'predict loan applicant behavior with tensorflow neural networking', 'predict loan applicant behavior with tensorflow neural networking', 'predict loan applicant behavior with tensorflow neural networking', 'best practices for custom models in watson visual recognition', 'a fast on-disk format for data frames for r and python, powered by apache arrow', 'best practices for custom models in watson visual recognition', 'best practices for custom models in watson visual recognition', 'watson speech-to-text services — tl;dr need not apply', 'predict loan applicant behavior with tensorflow neural networking', 'watson speech-to-text services — tl;dr need not apply', 'analyze data, build a dashboard with spark and pixiedust', 'best practices for custom models in watson visual recognition', 'find airbnb deals in portland with machine learning using r', 'find airbnb deals in portland with machine learning using r', 'find airbnb deals in portland with machine learning using r', 'watson speech-to-text services — tl;dr need not apply', 'airbnb data for analytics: boston calendar', 'continuous learning on watson', 'using shell scripts to control data flows created in watson applications', 'analyze data, build a dashboard with spark and pixiedust', 'using shell scripts to control data flows created in watson applications', 'country statistics: roadways', '66855    migration from ibm bluemix data connect api (a...\\nName: title, dtype: object', '66855    migration from ibm bluemix data connect api (a...\\nName: title, dtype: object', 'using shell scripts to control data flows created in watson applications', 'airbnb data for analytics: new york city calendar', 'country populations 15 years of age and over, by educational attainment, age and sex', 'what’s new in data refinery?', 'using shell scripts to control data flows created in watson applications', 'stacking multiple custom models in watson visual recognition', 'population below national poverty line, total, percentage', 'using shell scripts to control data flows created in watson applications', 'style transfer experiments with watson machine learning', 'country statistics: merchant marine', 'geographic coordinates of world locations', 'intelligent applications - apache spark', 'webinar: april 11 - thinking inside the box: you can do that inside a data frame?!', 'airbnb data for analytics: berlin reviews', 'external debt stocks, total (dod, current us$) by country', 'apache spark: upgrade and speed-up your analytics', 'airbnb data for analytics: boston listings', 'what’s new in data refinery?', 'apache spark™ 2.0: migrating applications', 'intelligent applications - apache spark', 'watson speech-to-text services — tl;dr need not apply', 'dimensionality reduction algorithms', 'airbnb data for analytics: barcelona reviews', 'dimensionality reduction algorithms', 'dimensionality reduction algorithms', 'dimensionality reduction algorithms', 'build deep learning architectures with neural network modeler', 'airbnb data for analytics: athens calendar', 'what’s new in data refinery?', 'dimensionality reduction algorithms', 'what’s new in data refinery?', 'airbnb data for analytics: toronto listings', 'external debt stocks, total (dod, current us$) by country', 'co2 emissions (metric tons per capita) by country', 'a guide to receptive field arithmetic for convolutional neural networks', 'build a predictive analytic model', 'country statistics: gross national saving', 'country statistics: gross national saving', 'a tensorflow regression model to predict house values', 'a tensorflow regression model to predict house values', 'a tensorflow regression model to predict house values', 'a tensorflow regression model to predict house values', 'a tensorflow regression model to predict house values', 'external debt stocks, total (dod, current us$) by country', 'use pmml to predict iris species', 'country statistics: railways', 'airbnb data for analytics: barcelona reviews', 'airbnb data for analytics: chicago calendar', 'airbnb data for analytics: chicago reviews', 'use pmml to predict iris species', 'airbnb data for analytics: chicago listings', 'refugees', 'refugees, worldwide, 2003 - 2013', '68879    don’t throw more data at the problem! here’s h...\\nName: title, dtype: object', 'breaking the 80/20 rule: how data catalogs transform data scientists’ productivity', 'breaking the 80/20 rule: how data catalogs transform data scientists’ productivity', 'breaking the 80/20 rule: how data catalogs transform data scientists’ productivity', 'breaking the 80/20 rule: how data catalogs transform data scientists’ productivity', 'country statistics: airports', '68879    don’t throw more data at the problem! here’s h...\\nName: title, dtype: object', 'you could be looking at it all wrong', '68879    don’t throw more data at the problem! here’s h...\\nName: title, dtype: object', 'you could be looking at it all wrong', 'country statistics: stock of domestic credit', '68879    don’t throw more data at the problem! here’s h...\\nName: title, dtype: object', 'airbnb data for analytics: paris calendar', 'airbnb data for analytics: paris calendar', 'airbnb data for analytics: boston reviews', 'uci: abalone', '20405    how to tame the valley — hessian-free hacks fo...\\nName: title, dtype: object', 'you could be looking at it all wrong', 'refugees', '68879    don’t throw more data at the problem! here’s h...\\nName: title, dtype: object', 'the million dollar question: where is my data?', 'publish notebooks to github in dsx', 'the million dollar question: where is my data?', 'make machine learning a reality for your enterprise', 'analyze ny restaurant data using spark in dsx', 'this week in data science (november 01, 2016)', 'make machine learning a reality for your enterprise', 'the million dollar question: where is my data?', 'the million dollar question: where is my data?', 'make machine learning a reality for your enterprise', 'make machine learning a reality for your enterprise', 'this week in data science (july 26, 2016)', 'households by type of household, age and sex of head of household', 'analyze db2 warehouse on cloud data in rstudio in dsx', 'airbnb data for analytics: seattle calendar', 'foreign direct investment, net inflows (bop, current us$) by country', 'airbnb data for analytics: athens calendar', 'web picks (week of 2 october 2017)', 'data science expert interview: holden karau', 'you could be looking at it all wrong', 'analyze db2 warehouse on cloud data in rstudio in dsx', 'analyze db2 warehouse on cloud data in rstudio in dsx', 'analyze ny restaurant data using spark in dsx', 'population below national poverty line, total, percentage', '56594    lifelong (machine) learning: how automation ca...\\nName: title, dtype: object', '56594    lifelong (machine) learning: how automation ca...\\nName: title, dtype: object', '56594    lifelong (machine) learning: how automation ca...\\nName: title, dtype: object', '56594    lifelong (machine) learning: how automation ca...\\nName: title, dtype: object', 'web picks (week of 2 october 2017)', 'collecting data science cheat sheets', 'tidyr 0.6.0', 'web picks (week of 2 october 2017)', 'web picks (week of 2 october 2017)', 'airbnb data for analytics: antwerp calendar', 'country statistics: stock of domestic credit', 'web picks (week of 2 october 2017)', 'collecting data science cheat sheets', 'consumer prices', 'publish notebooks to github in dsx', 'drowning in data sources: how data cataloging could fix your findability problems', 'create a project for watson machine learning in dsx', 'generalization in deep learning', 'drowning in data sources: how data cataloging could fix your findability problems', 'create a project for watson machine learning in dsx', 'create a project for watson machine learning in dsx', 'government consumption expenditure', 'country statistics: railways', 'create a project for watson machine learning in dsx', 'an interview with pythonista katharine jarmul', 'country statistics: market value of publicly traded shares', 'intelligent applications - apache spark', 'airbnb data for analytics: washington d.c. calendar', 'brunel: imitation is a sincere form of flattery', 'generalization in deep learning', 'generalization in deep learning', 'dplyr 0.5.0', 'create a project for watson machine learning in dsx', 'building custom machine learning algorithms with apache systemml', 'build a naive-bayes model with wml & dsx', 'build a naive-bayes model with wml & dsx', 'load and analyze public data sets in dsx', 'the new builders ep. 13: all the data that’s fit to analyze', 'consumer prices', 'missing data conundrum: exploration and imputation techniques', 'create a project in dsx', 'world marriage data', 'you could be looking at it all wrong', 'the art of side effects: curing apache spark streaming’s amnesia (part 1/2)', 'readr 1.0.0', 'dt: an r interface to the datatables library', 'building custom machine learning algorithms with apache systemml', 'what’s new in data refinery?', 'interest rates', 'airbnb data for analytics: barcelona listings', 'foundational methodology for data science', 'data visualization: the importance of excluding unnecessary details', 'cache table in apache spark sql', 'learning statistics on youtube', 'country statistics: internet users', 'xml2 1.0.0', 'top analytics tools in 2016', 'this week in data science (july 26, 2016)', 'airbnb data for analytics: trentino reviews', 'dplyr 0.5.0', 'xml2 1.0.0', 'creating the data science experience', 'country statistics: airports', 'airbnb data for analytics: new york city calendar', 'top 20 r machine learning and data science packages', 'the new builders ep. 13: all the data that’s fit to analyze', '3992    using apache spark to predict attack vectors a...\\nName: title, dtype: object', 'airbnb data for analytics: madrid listings', 'data science of variable selection', 'how to get a job in deep learning', 'why relational databases and r?', 'why relational databases and r?', 'build a logistic regression model with wml & dsx', 'tidyr 0.6.0', 'country statistics: telephones - fixed lines', 'jupyter (ipython) notebooks features', 'country statistics: children under the age of 5 years underweight', 'airbnb data for analytics: athens listings', 'load data into rstudio for analysis in dsx', 'analyze ny restaurant data using spark in dsx', '3992    using apache spark to predict attack vectors a...\\nName: title, dtype: object', 'data science experience documentation', 'this week in data science (july 26, 2016)', 'use data assets in a project using ibm data catalog', 'apache spark @scale: a 60 tb+ production use case', 'country statistics: reserves of foreign exchange and gold', 'build a logistic regression model with wml & dsx', 'a guide to receptive field arithmetic for convolutional neural networks', 'the new builders podcast ep 3: collaboration', 'creating the data science experience', 'how open api economy accelerates the growth of big data and analytics', 'enhanced color mapping', 'package development with devtools  cheat sheet', 'advancements in the spark community', 'data science of variable selection', 'country statistics: crude oil - exports', 'data science experience documentation', 'join and enrich data from multiple sources', 'r markdown reference guide', 'join and enrich data from multiple sources', 'airbnb data for analytics: dublin reviews', 'airbnb data for analytics: vancouver listings', 'country statistics: roadways', 'geographic coordinates of world locations', 'airbnb data for analytics: boston listings', 'country statistics: merchant marine', 'finding the user in data science', 'building a business that combines human experts and data science', 'airbnb data for analytics: berlin calendar', 'data visualization playbook: the right level of detail', 'how open api economy accelerates the growth of big data and analytics', 'this week in data science (july 26, 2016)', 'bayesian nonparametric models – stats and bots', 'bayesian nonparametric models – stats and bots', 'top analytics tools in 2016', 'labor', 'airbnb data for analytics: venice listings', 'build a naive-bayes model with wml & dsx', 'worldwide fuel oil consumption by household (in 1000 metric tons)', 'build a naive-bayes model with wml & dsx', 'military expenditure as % of gdp by country', 'airbnb data for analytics: chicago listings', 'data science of variable selection', 'foundational methodology for data science', 'country statistics: railways', 'apache spark: upgrade and speed-up your analytics', 'country statistics: stock of domestic credit', 'worldwide county and region - national accounts - gross national income 1948-2010', 'advancements in the spark community', 'analyze ny restaurant data using spark in dsx', 'from local spark mllib model to cloud with watson machine learning', 'consumer prices', 'advancements in the spark community', 'data science expert interview: holden karau', 'machine learning for everyone', 'country statistics: stock of domestic credit', 'bayesian regularization for #neuralnetworks – autonomous agents\\u200a—\\u200a#ai', 'do i need to learn r?', 'missing data conundrum: exploration and imputation techniques', 'foreign direct investment, net inflows (bop, current us$) by country', '20405    how to tame the valley — hessian-free hacks fo...\\nName: title, dtype: object', 'country statistics: population', 'work with data connections in dsx', 'how open api economy accelerates the growth of big data and analytics', 'bayesian nonparametric models – stats and bots', '66855    migration from ibm bluemix data connect api (a...\\nName: title, dtype: object', 'learning statistics on youtube', '20405    how to tame the valley — hessian-free hacks fo...\\nName: title, dtype: object', 'airbnb data for analytics: portland calendar', 'airbnb data for analytics: portland reviews', 'united states demographic measures: education', '10 pieces of advice to beginner data scientists', 'a day in the life of a data engineer', '3992    using apache spark to predict attack vectors a...\\nName: title, dtype: object', 'bayesian nonparametric models – stats and bots', 'country statistics: distribution of family income - gini index', 'data science of variable selection', 'readr 1.0.0', 'annual % inflation by country', 'finding the user in data science', 'this week in data science (december 27, 2016)', 'airbnb data for analytics: boston reviews', 'airbnb data for analytics: vancouver calendar', 'refugees', 'refugees', 'refugees, worldwide, 2003 - 2013', 'apache spark™ 2.0: impressive improvements to spark sql', '3992    using apache spark to predict attack vectors a...\\nName: title, dtype: object', 'a fast on-disk format for data frames for r and python, powered by apache arrow', 'airbnb data for analytics: boston calendar', 'shaping data with ibm data refinery', 'co2 emissions (metric tons per capita) by country', 'finding the user in data science', 'improving quality of life with spark-empowered machine learning', 'airbnb data for analytics: montreal listings', 'airbnb data for analytics: austin listings', 'world tourism data by the world tourism organization', 'worldwide fuel oil consumption by household (in 1000 metric tons)', 'this week in data science (august 02, 2016)', 'this week in data science', 'airbnb data for analytics: santa cruz county reviews', 'this week in data science', 'use data assets in a project using ibm data catalog', 'country statistics: reserves of foreign exchange and gold', 'this week in data science (november 01, 2016)', \"h2o with ibm's data science experience (dsx)\", 'airbnb data for analytics: new orleans listings', 'airbnb data for analytics: athens calendar', 'top analytics tools in 2016', 'apache spark @scale: a 60 tb+ production use case', 'airbnb data for analytics: antwerp calendar', 'xml2 1.0.0', 'country statistics: stock of broad money', 'country statistics: current account balance', 'apache spark™ 2.0: migrating applications', 'this week in data science (october 18, 2016)', 'airbnb data for analytics: antwerp listings', 'households by type of household, age and sex of head of household', 'use data assets in a project using ibm data catalog', 'readr 1.0.0', 'foundational methodology for data science', 'airbnb data for analytics: paris calendar', 'laplace noising versus simulated out of sample methods (cross frames)', 'this week in data science (november 01, 2016)', 'one year as a data scientist at stack overflow', 'a day in the life of a data engineer', 'consumption of ozone-depleting cfcs in odp metric tons', 'xml2 1.0.0', 'apache spark @scale: a 60 tb+ production use case', 'apache spark™ 2.0: migrating applications', 'gross national income per capita, atlas method (current us$) by country', 'gross national income per capita, atlas method (current us$) by country', 'airbnb data for analytics: chicago listings', 'country statistics: infant mortality rate', 'airbnb data for analytics: chicago calendar', 'readr 1.0.0', 'airbnb data for analytics: new york city reviews', 'airbnb data for analytics: austin listings', 'airbnb data for analytics: chicago calendar', 'airbnb data for analytics: chicago reviews', 'airbnb data for analytics: mallorca reviews', 'machine learning for the enterprise', 'fertility rate by country in total births per woman', 'airbnb data for analytics: london listings', 'household consumption expenditure', 'enhanced color mapping', 'country statistics: industrial production growth rate', 'country statistics: infant mortality rate', 'airbnb data for analytics: new york city reviews', 'work with data connections in dsx', 'households by type of household, age and sex of head of household', 'country statistics: gross national saving', 'style transfer experiments with watson machine learning', 'advancements in the spark community', 'this week in data science (august 02, 2016)', 'country statistics: stock of broad money', 'worldwide county and region - national accounts - gross national income 1948-2010', 'data science expert interview: holden karau', 'beyond parallelize and collect', 'back to basics — jupyter notebooks', 'unmet need for family planning, spacing, percentage, worldwide, by country', 'natural gas production, 1995 - 2012, worldwide', 'use pmml to predict iris species', 'country populations 15 years of age and over, by educational attainment, age and sex', 'which one to choose for your problem', 'foreign direct investment, net inflows (bop, current us$) by country', 'airbnb data for analytics: seattle calendar', 'big data is better data', 'run shiny applications in rstudio in dsx', 'governance overview for ibm data catalog', 'airbnb data for analytics: athens calendar', 'unmet need for family planning, spacing, percentage, worldwide, by country', 'apache spark™ 2.0: migrating applications', 'country statistics: electricity - from fossil fuels', 'country statistics: electricity - consumption', 'a survey of books about apache spark™', 'this week in data science (november 01, 2016)', 'use data assets in a project using ibm data catalog', 'publish notebooks to github in dsx', 'top analytics tools in 2016', 'a new version of dt (0.2) on cran', 'work with data connections in dsx', 'marital status of men and women', 'international liquidity', 'load db2 warehouse on cloud data with apache spark in dsx', 'machine learning for the enterprise', 'a glimpse inside the mind of a data scientist', 'do i need to learn r?', 'airbnb data for analytics: portland calendar', 'airbnb data for analytics: antwerp listings', 'airbnb data for analytics: antwerp listings test', 'airbnb data for analytics: san diego reviews', 'country statistics: maternal mortality rate', 'country statistics: maternal mortality rate', 'uci: abalone', 'airbnb data for analytics: sydney listings', 'airbnb data for analytics: nashville calendar', 'country statistics: budget surplus or deficit', 'foundational methodology for data science', 'airbnb data for analytics: athens reviews', 'country statistics: crude oil - exports', 'airbnb data for analytics: washington d.c. calendar', 'country statistics: railways', 'country statistics: refined petroleum products - production', 'improving quality of life with spark-empowered machine learning', 'data science expert interview: holden karau', 'high-tech exports as % of manufactured exports by country', 'improving quality of life with spark-empowered machine learning', 'machine learning for everyone', 'airbnb data for analytics: austin calendar', 'airbnb data for analytics: san francisco listings', 'publish notebooks to github in dsx', 'airbnb data for analytics: paris reviews', 'data science expert interview: holden karau', 'country statistics: imports', 'improving quality of life with spark-empowered machine learning', 'using the maker palette in the ibm data science experience', 'ggplot2 2.2.0 coming soon!', 'roads, paved (% of total roads), worldwide, 1990-2011', 'continuous learning on watson', 'environment statistics database - waste', 'co2 emissions (metric tons per capita) by country', 'greenhouse gas emissions worldwide', 'primary school completion rate % of relevant age group by country', 'household consumption expenditure', '10 pieces of advice to beginner data scientists', 'run dsx notebooks on amazon emr', 'this week in data science (january 17, 2017)', 'dt: an r interface to the datatables library', 'airbnb data for analytics: sydney reviews', 'improved water source by country: % population with access', 'high-tech exports as % of manufactured exports by country', 'airbnb data for analytics: seattle reviews', 'cache table in apache spark sql', 'country populations 15 years of age and over, by educational attainment, age and sex', 'don’t overlook simpler techniques and algorithms', 'airbnb data for analytics: sydney listings', 'airbnb data for analytics: trentino calendar', 'airbnb data for analytics: vancouver calendar', 'apache spark: upgrade and speed-up your analytics', 'airbnb data for analytics: austin reviews', 'airbnb data for analytics: barcelona listings', 'working with on-premises databases — step by step', 'airbnb data for analytics: athens reviews', 'airbnb data for analytics: brussels reviews', 'airbnb data for analytics: austin reviews', 'airbnb data for analytics: boston reviews', 'airbnb data for analytics: paris listings', 'run shiny applications in rstudio in dsx', 'load data into rstudio for analysis in dsx', 'apache spark™ 2.0: impressive improvements to spark sql', 'greenhouse gas emissions worldwide', 'which one to choose for your problem', 'stacking multiple custom models in watson visual recognition', 'a fast on-disk format for data frames for r and python, powered by apache arrow', 'missing data conundrum: exploration and imputation techniques', 'country statistics: central bank discount rate', 'energy use (kg of oil equivalent per capita) by country', 'from local spark mllib model to cloud with watson machine learning', 'learn about data science in world of watson', 'learn about data science in world of watson', 'load and analyze public data sets in dsx', 'create a project in dsx', 'united states demographic measures: education', 'let data dictate the visualization', 'tidyr 0.6.0']\n"
     ]
    }
   ],
   "source": [
    "article_titles_df = df.groupby(['title'])\n",
    "print(list(article_titles_df['title'].head(5)))"
   ]
  },
  {
   "cell_type": "code",
   "execution_count": 43,
   "metadata": {},
   "outputs": [],
   "source": [
    "def get_top_articles(n, df=df):\n",
    "    '''\n",
    "    INPUT:\n",
    "    n - (int) the number of top articles to return\n",
    "    df - (pandas dataframe) df as defined at the top of the notebook \n",
    "    \n",
    "    OUTPUT:\n",
    "    top_articles - (list) A list of the top 'n' article titles \n",
    "    \n",
    "    '''\n",
    "    # Generate and return the top article titles from df (not df_content)\n",
    "    top_articles = df.groupby(['title']) \\\n",
    "                         .count() \\\n",
    "                         .sort_values(by = 'article_id', ascending = False) \\\n",
    "                         .reset_index() \\\n",
    "                         .head(n)\n",
    "    return list(top_articles['title'])\n",
    "\n",
    "def get_top_article_ids(n, df=df):\n",
    "    '''\n",
    "    INPUT:\n",
    "    n - (int) the number of top articles to return\n",
    "    df - (pandas dataframe) df as defined at the top of the notebook \n",
    "    \n",
    "    OUTPUT:\n",
    "    top_articles - (list) A list of the top 'n' article titles \n",
    "    \n",
    "    '''\n",
    "    # Generate and return the top article titles from df (not df_content)\n",
    "    top_article_ids = df.groupby(['article_id']) \\\n",
    "                        .count() \\\n",
    "                        .sort_values(by = 'title', ascending = False) \\\n",
    "                        .reset_index() \\\n",
    "                        .head(n).astype(str)\n",
    "    return list(top_article_ids['article_id'])"
   ]
  },
  {
   "cell_type": "code",
   "execution_count": 44,
   "metadata": {},
   "outputs": [
    {
     "name": "stdout",
     "output_type": "stream",
     "text": [
      "['use deep learning for image classification', 'insights from new york car accident reports', 'visualize car data with brunel', 'use xgboost, scikit-learn & ibm watson machine learning apis', 'predicting churn with the spss random tree algorithm', 'healthcare python streaming application demo', 'finding optimal locations of new store using decision optimization', 'apache spark lab, part 1: basic concepts', 'analyze energy consumption in buildings', 'gosales transactions for logistic regression model']\n",
      "['1429.0', '1330.0', '1431.0', '1427.0', '1364.0', '1314.0', '1293.0', '1170.0', '1162.0', '1304.0']\n"
     ]
    }
   ],
   "source": [
    "print(get_top_articles(10))\n",
    "print(get_top_article_ids(10))"
   ]
  },
  {
   "cell_type": "code",
   "execution_count": 45,
   "metadata": {},
   "outputs": [
    {
     "name": "stdout",
     "output_type": "stream",
     "text": [
      "Your top_5 looks like the solution list! Nice job.\n",
      "Your top_10 looks like the solution list! Nice job.\n",
      "Your top_20 looks like the solution list! Nice job.\n"
     ]
    }
   ],
   "source": [
    "# Test your function by returning the top 5, 10, and 20 articles\n",
    "top_5 = get_top_articles(5)\n",
    "top_10 = get_top_articles(10)\n",
    "top_20 = get_top_articles(20)\n",
    "\n",
    "# Test each of your three lists from above\n",
    "t.sol_2_test(get_top_articles)"
   ]
  },
  {
   "cell_type": "markdown",
   "metadata": {},
   "source": [
    "### <a class=\"anchor\" id=\"User-User\">Part III: User-User Based Collaborative Filtering</a>\n",
    "\n",
    "\n",
    "`1.` Use the function below to reformat the **df** dataframe to be shaped with users as the rows and articles as the columns.  \n",
    "\n",
    "* Each **user** should only appear in each **row** once.\n",
    "\n",
    "\n",
    "* Each **article** should only show up in one **column**.  \n",
    "\n",
    "\n",
    "* **If a user has interacted with an article, then place a 1 where the user-row meets for that article-column**.  It does not matter how many times a user has interacted with the article, all entries where a user has interacted with an article should be a 1.  \n",
    "\n",
    "\n",
    "* **If a user has not interacted with an item, then place a zero where the user-row meets for that article-column**. \n",
    "\n",
    "Use the tests to make sure the basic structure of your matrix matches what is expected by the solution."
   ]
  },
  {
   "cell_type": "code",
   "execution_count": 46,
   "metadata": {},
   "outputs": [],
   "source": [
    "# create the user-article matrix with 1's and 0's\n",
    "def create_user_item_matrix(df):\n",
    "    '''\n",
    "    INPUT:\n",
    "    df - pandas dataframe with article_id, title, user_id columns\n",
    "    \n",
    "    OUTPUT:\n",
    "    user_item - user item matrix \n",
    "    \n",
    "    Description:\n",
    "    Return a matrix with user ids as rows and article ids on the columns with 1 values where a user interacted with \n",
    "    an article and a 0 otherwise\n",
    "    '''\n",
    "    # Fill in the function here\n",
    "    user_item = df.groupby(['user_id', 'article_id'])['article_id'].count().unstack().fillna(0)\n",
    "    \n",
    "    for col in user_item.columns.values:\n",
    "        user_item[col] = user_item[col].apply(lambda x: x if x == 0 else 1)\n",
    "        \n",
    "    return user_item # return the user_item matrix \n",
    "\n",
    "user_item = create_user_item_matrix(df)"
   ]
  },
  {
   "cell_type": "code",
   "execution_count": 47,
   "metadata": {},
   "outputs": [
    {
     "name": "stdout",
     "output_type": "stream",
     "text": [
      "You have passed our quick tests!  Please proceed!\n"
     ]
    }
   ],
   "source": [
    "## Tests: You should just need to run this cell.  Don't change the code.\n",
    "assert user_item.shape[0] == 5149, \"Oops!  The number of users in the user-article matrix doesn't look right.\"\n",
    "assert user_item.shape[1] == 714, \"Oops!  The number of articles in the user-article matrix doesn't look right.\"\n",
    "assert user_item.sum(axis=1)[1] == 36, \"Oops!  The number of articles seen by user 1 doesn't look right.\"\n",
    "print(\"You have passed our quick tests!  Please proceed!\")"
   ]
  },
  {
   "cell_type": "markdown",
   "metadata": {},
   "source": [
    "`2.` Complete the function below which should take a user_id and provide an ordered list of the most similar users to that user (from most similar to least similar).  The returned result should not contain the provided user_id, as we know that each user is similar to him/herself. Because the results for each user here are binary, it (perhaps) makes sense to compute similarity as the dot product of two users. \n",
    "\n",
    "Use the tests to test your function."
   ]
  },
  {
   "cell_type": "code",
   "execution_count": 48,
   "metadata": {},
   "outputs": [],
   "source": [
    "def find_similar_users(user_id, user_item=user_item):\n",
    "    '''\n",
    "    INPUT:\n",
    "    user_id - (int) a user_id\n",
    "    user_item - (pandas dataframe) matrix of users by articles: \n",
    "                1's when a user has interacted with an article, 0 otherwise\n",
    "    \n",
    "    OUTPUT:\n",
    "    similar_users - (list) an ordered list where the closest users (largest dot product users)\n",
    "                    are listed first\n",
    "    \n",
    "    Description:\n",
    "    Computes the similarity of every pair of users based on the dot product\n",
    "    Returns an ordered\n",
    "    \n",
    "    '''\n",
    "    # compute similarity of each user to the provided user\n",
    "    user_sim = np.dot(user_item, user_item.T)\n",
    "    \n",
    "    # Label rows and columns as user ids, set as index for both rows and columns\n",
    "    index = range(1, len(user_item) + 1)\n",
    "    \n",
    "    # Convert to dataframe\n",
    "    user_sim = pd.DataFrame(user_sim, index = index, columns = index)\n",
    "    \n",
    "    #Limit the dataframe just to the user of interest, remove that user, sort descending, return as list\n",
    "    user_sim = list(user_sim.loc[user_id,:].drop(user_id).sort_values(ascending = False))\n",
    "       \n",
    "    return user_sim # return a list of the users in order from most to least similar"
   ]
  },
  {
   "cell_type": "code",
   "execution_count": 49,
   "metadata": {},
   "outputs": [
    {
     "name": "stdout",
     "output_type": "stream",
     "text": [
      "The 10 most similar users to user 1 are: [35.0, 17.0, 17.0, 15.0, 15.0, 14.0, 14.0, 13.0, 13.0, 12.0]\n",
      "The 5 most similar users to user 3933 are: [35.0, 17.0, 17.0, 15.0, 15.0]\n",
      "The 3 most similar users to user 46 are: [40.0, 26.0, 26.0]\n"
     ]
    }
   ],
   "source": [
    "# Do a spot check of your function\n",
    "print(\"The 10 most similar users to user 1 are: {}\".format(find_similar_users(1)[:10]))\n",
    "print(\"The 5 most similar users to user 3933 are: {}\".format(find_similar_users(3933)[:5]))\n",
    "print(\"The 3 most similar users to user 46 are: {}\".format(find_similar_users(46)[:3]))"
   ]
  },
  {
   "cell_type": "markdown",
   "metadata": {},
   "source": [
    "`3.` Now that you have a function that provides the most similar users to each user, you will want to use these users to find articles you can recommend.  Complete the functions below to return the articles you would recommend to each user. "
   ]
  },
  {
   "cell_type": "code",
   "execution_count": 50,
   "metadata": {},
   "outputs": [],
   "source": [
    "def get_article_names(article_ids, df=df):\n",
    "    '''\n",
    "    INPUT:\n",
    "    article_ids - (list) a list of article ids\n",
    "    df - (pandas dataframe) df as defined at the top of the notebook\n",
    "    \n",
    "    OUTPUT:\n",
    "    article_names - (list) a list of article names associated with the list of article ids \n",
    "                    (this is identified by the title column)\n",
    "    '''\n",
    "    # Return the article names associated with list of article ids\n",
    "    article_names = list(df.loc[df['article_id'].isin(article_ids), 'title'].unique())\n",
    "    return article_names \n",
    "\n",
    "\n",
    "def get_user_articles(user_id, user_item=user_item):\n",
    "    '''\n",
    "    INPUT:\n",
    "    user_id - (int) a user id\n",
    "    user_item - (pandas dataframe) matrix of users by articles: \n",
    "                1's when a user has interacted with an article, 0 otherwise\n",
    "    \n",
    "    OUTPUT:\n",
    "    article_ids - (list) a list of the article ids seen by the user\n",
    "    article_names - (list) a list of article names associated with the list of article ids \n",
    "                    (this is identified by the doc_full_name column in df_content)\n",
    "    \n",
    "    Description:\n",
    "    Provides a list of the article_ids and article titles that have been seen by a user\n",
    "    '''\n",
    "    article_ids = pd.DataFrame(user_item.loc[user_id,:]).reset_index().rename(columns = {user_id: 'viewed_flag'})\n",
    "    article_ids = article_ids.loc[article_ids['viewed_flag'] == 1]\n",
    "    article_ids = article_ids.article_id.astype(str).tolist()\n",
    "    \n",
    "    article_names = get_article_names(article_ids)\n",
    "    return article_ids, article_names # return the ids and names\n",
    "\n",
    "\n",
    "def user_user_recs(user_id, m=10):\n",
    "    '''\n",
    "    INPUT:\n",
    "    user_id - (int) a user id\n",
    "    m - (int) the number of recommendations you want for the user\n",
    "    \n",
    "    OUTPUT:\n",
    "    recs - (list) a list of recommendations for the user\n",
    "    \n",
    "    Description:\n",
    "    Loops through the users based on closeness to the input user_id\n",
    "    For each user - finds articles the user hasn't seen before and provides them as recs\n",
    "    Does this until m recommendations are found\n",
    "    \n",
    "    Notes:\n",
    "    Users who are the same closeness are chosen arbitrarily as the 'next' user\n",
    "    \n",
    "    For the user where the number of recommended articles starts below m \n",
    "    and ends exceeding m, the last items are chosen arbitrarily\n",
    "    \n",
    "    '''\n",
    "    most_similar_users = find_similar_users(user_id, user_item=user_item)\n",
    "    user_article_ids, user_article_names = get_user_articles(user_id)   \n",
    "    recs = list()\n",
    "\n",
    "    for user in most_similar_users:\n",
    "        if len(recs) < m:\n",
    "                # Get articles read by the next most similar user\n",
    "                similar_article_ids, similar_article_names = get_user_articles(user)\n",
    "\n",
    "                # Return similar articles not already viewed by the user\n",
    "                new_recs = np.setdiff1d(similar_article_ids, user_article_ids, assume_unique=True)\n",
    "                recs.append(new_recs)\n",
    "        else:\n",
    "            break\n",
    "\n",
    "    # Convert array of arrays to a list and reduce to only unique ids        \n",
    "    recs = list(set(np.concatenate(recs, axis=0)))\n",
    "\n",
    "    #Limit to m number of recommendations needed\n",
    "    recs = [recs[i] for i in range(0, m+1)]\n",
    "    return recs "
   ]
  },
  {
   "cell_type": "code",
   "execution_count": 51,
   "metadata": {},
   "outputs": [
    {
     "data": {
      "text/plain": [
       "['got zip code data? prep it for analytics. – ibm watson data lab – medium',\n",
       " 'the unit commitment problem',\n",
       " 'maximize oil company profits',\n",
       " 'city population by sex, city and city type',\n",
       " 'analyze open data sets with spark & pixiedust',\n",
       " 'fortune 100 companies',\n",
       " 'a moving average trading strategy',\n",
       " 'machine learning exercises in python, part 1',\n",
       " 'using deep learning with keras to predict customer churn',\n",
       " 'environment statistics database - water',\n",
       " 'data science expert interview: holden karau']"
      ]
     },
     "execution_count": 51,
     "metadata": {},
     "output_type": "execute_result"
    }
   ],
   "source": [
    "# Check Results\n",
    "get_article_names(user_user_recs(1, 10)) # Return 10 recommendations for user 1"
   ]
  },
  {
   "cell_type": "code",
   "execution_count": 52,
   "metadata": {},
   "outputs": [
    {
     "name": "stdout",
     "output_type": "stream",
     "text": [
      "If this is all you see, you passed all of our tests!  Nice job!\n"
     ]
    }
   ],
   "source": [
    "# Test your functions here - No need to change this code - just run this cell\n",
    "assert set(get_article_names(['1024.0', '1176.0', '1305.0', '1314.0', '1422.0', '1427.0'])) == set(['using deep learning to reconstruct high-resolution audio', 'build a python app on the streaming analytics service', 'gosales transactions for naive bayes model', 'healthcare python streaming application demo', 'use r dataframes & ibm watson natural language understanding', 'use xgboost, scikit-learn & ibm watson machine learning apis']), \"Oops! Your the get_article_names function doesn't work quite how we expect.\"\n",
    "assert set(get_article_names(['1320.0', '232.0', '844.0'])) == set(['housing (2015): united states demographic measures','self-service data preparation with ibm data refinery','use the cloudant-spark connector in python notebook']), \"Oops! Your the get_article_names function doesn't work quite how we expect.\"\n",
    "assert set(get_user_articles(20)[0]) == set(['1320.0', '232.0', '844.0'])\n",
    "assert set(get_user_articles(20)[1]) == set(['housing (2015): united states demographic measures', 'self-service data preparation with ibm data refinery','use the cloudant-spark connector in python notebook'])\n",
    "assert set(get_user_articles(2)[0]) == set(['1024.0', '1176.0', '1305.0', '1314.0', '1422.0', '1427.0'])\n",
    "assert set(get_user_articles(2)[1]) == set(['using deep learning to reconstruct high-resolution audio', 'build a python app on the streaming analytics service', 'gosales transactions for naive bayes model', 'healthcare python streaming application demo', 'use r dataframes & ibm watson natural language understanding', 'use xgboost, scikit-learn & ibm watson machine learning apis'])\n",
    "print(\"If this is all you see, you passed all of our tests!  Nice job!\")"
   ]
  },
  {
   "cell_type": "markdown",
   "metadata": {},
   "source": [
    "`4.` Now we are going to improve the consistency of the **user_user_recs** function from above.  \n",
    "\n",
    "* Instead of arbitrarily choosing when we obtain users who are all the same closeness to a given user - choose the users that have the most total article interactions before choosing those with fewer article interactions.\n",
    "\n",
    "\n",
    "* Instead of arbitrarily choosing articles from the user where the number of recommended articles starts below m and ends exceeding m, choose articles with the articles with the most total interactions before choosing those with fewer total interactions. This ranking should be  what would be obtained from the **top_articles** function you wrote earlier."
   ]
  },
  {
   "cell_type": "code",
   "execution_count": 53,
   "metadata": {},
   "outputs": [],
   "source": [
    "def get_top_sorted_users(user_id, df=df, user_item=user_item):\n",
    "    '''\n",
    "    INPUT:\n",
    "    user_id - (int)\n",
    "    df - (pandas dataframe) df as defined at the top of the notebook \n",
    "    user_item - (pandas dataframe) matrix of users by articles: \n",
    "            1's when a user has interacted with an article, 0 otherwise\n",
    "    \n",
    "            \n",
    "    OUTPUT:\n",
    "    neighbors_df - (pandas dataframe) a dataframe with:\n",
    "                    neighbor_id - is a neighbor user_id\n",
    "                    similarity - measure of the similarity of each user to the provided user_id\n",
    "                    num_interactions - the number of articles viewed by the user - if a u\n",
    "                    \n",
    "    Other Details - sort the neighbors_df by the similarity and then by number of interactions where \n",
    "                    highest of each is higher in the dataframe\n",
    "     \n",
    "    '''\n",
    "    # compute similarity of each user to the provided user\n",
    "    user_sim = np.dot(user_item, user_item.T)\n",
    "\n",
    "    # Label rows and columns as user ids, set as index for both rows and columns\n",
    "    index = range(1, len(user_item) + 1)\n",
    "\n",
    "    # Convert to dataframe\n",
    "    user_sim = pd.DataFrame(user_sim, index = index, columns = index)\n",
    "\n",
    "    #Limit the dataframe just to the user of interest, remove that user, sort descending, return as list\n",
    "    neighbors_df = pd.DataFrame(user_sim.loc[user_id,:].drop(user_id)) \\\n",
    "                                .reset_index() \\\n",
    "                                .rename(columns = {'index': 'neighbor_id', user_id: 'similarity'})\n",
    "\n",
    "\n",
    "    num_interactions = pd.DataFrame(df.groupby('user_id').count().sort_values('title',ascending=False).drop(user_id)) \\\n",
    "                                    .reset_index()[['user_id','title']] \\\n",
    "                                    .rename(columns = {'user_id': 'neighbor_id', 'title': 'num_interactions'})\n",
    "\n",
    "    neighbors_df = neighbors_df.merge(num_interactions, left_on = 'neighbor_id', right_on = 'neighbor_id') \\\n",
    "                                .sort_values(by = ['similarity', 'num_interactions'], ascending = False)\n",
    "    \n",
    "    \n",
    "    return neighbors_df # Return the dataframe specified in the doc_string\n",
    "\n",
    "\n",
    "def user_user_recs_part2(user_id, m=10):\n",
    "    '''\n",
    "    INPUT:\n",
    "    user_id - (int) a user id\n",
    "    m - (int) the number of recommendations you want for the user\n",
    "    \n",
    "    OUTPUT:\n",
    "    recs - (list) a list of recommendations for the user by article id\n",
    "    rec_names - (list) a list of recommendations for the user by article title\n",
    "    \n",
    "    Description:\n",
    "    Loops through the users based on closeness to the input user_id\n",
    "    For each user - finds articles the user hasn't seen before and provides them as recs\n",
    "    Does this until m recommendations are found\n",
    "    \n",
    "    Notes:\n",
    "    * Choose the users that have the most total article interactions \n",
    "    before choosing those with fewer article interactions.\n",
    "\n",
    "    * Choose articles with the articles with the most total interactions \n",
    "    before choosing those with fewer total interactions. \n",
    "   \n",
    "    '''\n",
    "    try:\n",
    "        # Get already read articles for user of interest\n",
    "        user_article_ids, user_article_names = get_user_articles(user_id)\n",
    "    except KeyError: \n",
    "        # User does not exist so sub top m most popular overall for them\n",
    "        recs = get_top_article_ids(m)\n",
    "\n",
    "    # Get most similar neighbors\n",
    "    neighbors = get_top_sorted_users(user_id)\n",
    "\n",
    "\n",
    "    # Find overall most popular articles for filtering in later step, sorted from most to least popular\n",
    "    most_popular_ids = get_top_article_ids(n = 200)\n",
    "\n",
    "    # Initialize empty list\n",
    "    new_recs = []\n",
    "\n",
    "    # for similar neighbors, get what they've interacted with\n",
    "    for neighbor in neighbors['neighbor_id']:\n",
    "        n_article_ids, n_article_names = get_user_articles(neighbor)\n",
    "        not_seen = list(set(n_article_ids)-(set(user_article_ids) & set(n_article_ids)))\n",
    "\n",
    "        #Append to master list\n",
    "        new_recs.extend(not_seen)\n",
    "\n",
    "    # Grab only if in most popular movies and truncate to top m recommendations\n",
    "    not_seen_sorted = [article_id for article_id in most_popular_ids if article_id in new_recs][:m]\n",
    "\n",
    "    return not_seen_sorted, get_article_names(not_seen_sorted)"
   ]
  },
  {
   "cell_type": "code",
   "execution_count": 54,
   "metadata": {},
   "outputs": [
    {
     "name": "stdout",
     "output_type": "stream",
     "text": [
      "The top 10 recommendations for user 20 are the following article ids:\n",
      "['1429.0', '1330.0', '1431.0', '1427.0', '1364.0', '1314.0', '1293.0', '1170.0', '1162.0', '1304.0']\n",
      "\n",
      "The top 10 recommendations for user 20 are the following article names:\n",
      "['healthcare python streaming application demo', 'use deep learning for image classification', 'apache spark lab, part 1: basic concepts', 'predicting churn with the spss random tree algorithm', 'analyze energy consumption in buildings', 'visualize car data with brunel', 'use xgboost, scikit-learn & ibm watson machine learning apis', 'gosales transactions for logistic regression model', 'insights from new york car accident reports', 'finding optimal locations of new store using decision optimization']\n"
     ]
    }
   ],
   "source": [
    "# Quick spot check - don't change this code - just use it to test your functions\n",
    "rec_ids, rec_names = user_user_recs_part2(20, 10)\n",
    "print(\"The top 10 recommendations for user 20 are the following article ids:\")\n",
    "print(rec_ids)\n",
    "print()\n",
    "print(\"The top 10 recommendations for user 20 are the following article names:\")\n",
    "print(rec_names)"
   ]
  },
  {
   "cell_type": "markdown",
   "metadata": {},
   "source": [
    "`5.` Use your functions from above to correctly fill in the solutions to the dictionary below.  Then test your dictionary against the solution.  Provide the code you need to answer each following the comments below."
   ]
  },
  {
   "cell_type": "code",
   "execution_count": 55,
   "metadata": {},
   "outputs": [],
   "source": [
    "### Tests with a dictionary of results\n",
    "user1_most_sim = get_top_sorted_users(1)['neighbor_id'].iloc[0]# Find the user that is most similar to user 1 \n",
    "user131_10th_sim = get_top_sorted_users(131)['neighbor_id'].iloc[9]# Find the 10th most similar user to user 131"
   ]
  },
  {
   "cell_type": "code",
   "execution_count": 56,
   "metadata": {},
   "outputs": [
    {
     "name": "stdout",
     "output_type": "stream",
     "text": [
      "This all looks good!  Nice job!\n"
     ]
    }
   ],
   "source": [
    "## Dictionary Test Here\n",
    "sol_5_dict = {\n",
    "    'The user that is most similar to user 1.': user1_most_sim, \n",
    "    'The user that is the 10th most similar to user 131': user131_10th_sim,\n",
    "}\n",
    "\n",
    "t.sol_5_test(sol_5_dict)"
   ]
  },
  {
   "cell_type": "markdown",
   "metadata": {},
   "source": [
    "`6.` If we were given a new user, which of the above functions would you be able to use to make recommendations?  Explain.  Can you think of a better way we might make recommendations?  Use the cell below to explain a better method for new users."
   ]
  },
  {
   "cell_type": "markdown",
   "metadata": {},
   "source": [
    "**Provide your response here.**"
   ]
  },
  {
   "cell_type": "markdown",
   "metadata": {},
   "source": [
    "`7.` Using your existing functions, provide the top 10 recommended articles you would provide for the a new user below.  You can test your function against our thoughts to make sure we are all on the same page with how we might make a recommendation."
   ]
  },
  {
   "cell_type": "code",
   "execution_count": 57,
   "metadata": {},
   "outputs": [
    {
     "name": "stdout",
     "output_type": "stream",
     "text": [
      "['1429.0', '1330.0', '1431.0', '1427.0', '1364.0', '1314.0', '1293.0', '1170.0', '1162.0', '1304.0']\n"
     ]
    }
   ],
   "source": [
    "new_user = '0.0'\n",
    "\n",
    "# What would your recommendations be for this new user '0.0'?  As a new user, they have no observed articles.\n",
    "# Provide a list of the top 10 article ids you would give to \n",
    "new_user_recs = get_top_article_ids(10)# Your recommendations here\n",
    "\n",
    "print(new_user_recs)"
   ]
  },
  {
   "cell_type": "code",
   "execution_count": 58,
   "metadata": {},
   "outputs": [
    {
     "name": "stdout",
     "output_type": "stream",
     "text": [
      "That's right!  Nice job!\n"
     ]
    }
   ],
   "source": [
    "assert set(new_user_recs) == set(['1314.0','1429.0','1293.0','1427.0','1162.0','1364.0','1304.0','1170.0','1431.0','1330.0']), \"Oops!  It makes sense that in this case we would want to recommend the most popular articles, because we don't know anything about these users.\"\n",
    "\n",
    "print(\"That's right!  Nice job!\")"
   ]
  },
  {
   "cell_type": "markdown",
   "metadata": {},
   "source": [
    "### <a class=\"anchor\" id=\"Content-Recs\">Part IV: Content Based Recommendations (EXTRA - NOT REQUIRED)</a>\n",
    "\n",
    "Another method we might use to make recommendations is to perform a ranking of the highest ranked articles associated with some term.  You might consider content to be the **doc_body**, **doc_description**, or **doc_full_name**.  There isn't one way to create a content based recommendation, especially considering that each of these columns hold content related information.  \n",
    "\n",
    "`1.` Use the function body below to create a content based recommender.  Since there isn't one right answer for this recommendation tactic, no test functions are provided.  Feel free to change the function inputs if you decide you want to try a method that requires more input values.  The input values are currently set with one idea in mind that you may use to make content based recommendations.  One additional idea is that you might want to choose the most popular recommendations that meet your 'content criteria', but again, there is a lot of flexibility in how you might make these recommendations.\n",
    "\n",
    "### This part is NOT REQUIRED to pass this project.  However, you may choose to take this on as an extra way to show off your skills."
   ]
  },
  {
   "cell_type": "code",
   "execution_count": 59,
   "metadata": {},
   "outputs": [
    {
     "name": "stdout",
     "output_type": "stream",
     "text": [
      "[nltk_data] Downloading package punkt to /root/nltk_data...\n",
      "[nltk_data]   Unzipping tokenizers/punkt.zip.\n",
      "[nltk_data] Downloading package wordnet to /root/nltk_data...\n",
      "[nltk_data]   Unzipping corpora/wordnet.zip.\n",
      "[nltk_data] Downloading package stopwords to /root/nltk_data...\n",
      "[nltk_data]   Unzipping corpora/stopwords.zip.\n"
     ]
    }
   ],
   "source": [
    "# import packages\n",
    "import nltk\n",
    "\n",
    "nltk.download('punkt')\n",
    "nltk.download('wordnet')\n",
    "nltk.download('stopwords')\n",
    "\n",
    "from nltk.tokenize import word_tokenize\n",
    "from nltk.stem import WordNetLemmatizer\n",
    "from nltk.corpus import stopwords"
   ]
  },
  {
   "cell_type": "code",
   "execution_count": null,
   "metadata": {},
   "outputs": [],
   "source": []
  },
  {
   "cell_type": "code",
   "execution_count": 60,
   "metadata": {},
   "outputs": [],
   "source": [
    "def make_content_recs():\n",
    "    '''\n",
    "    INPUT:\n",
    "    \n",
    "    OUTPUT:\n",
    "    \n",
    "    '''"
   ]
  },
  {
   "cell_type": "markdown",
   "metadata": {},
   "source": [
    "`2.` Now that you have put together your content-based recommendation system, use the cell below to write a summary explaining how your content based recommender works.  Do you see any possible improvements that could be made to your function?  Is there anything novel about your content based recommender?\n",
    "\n",
    "### This part is NOT REQUIRED to pass this project.  However, you may choose to take this on as an extra way to show off your skills."
   ]
  },
  {
   "cell_type": "markdown",
   "metadata": {},
   "source": [
    "**Write an explanation of your content based recommendation system here.**"
   ]
  },
  {
   "cell_type": "markdown",
   "metadata": {},
   "source": [
    "`3.` Use your content-recommendation system to make recommendations for the below scenarios based on the comments.  Again no tests are provided here, because there isn't one right answer that could be used to find these content based recommendations.\n",
    "\n",
    "### This part is NOT REQUIRED to pass this project.  However, you may choose to take this on as an extra way to show off your skills."
   ]
  },
  {
   "cell_type": "code",
   "execution_count": 61,
   "metadata": {},
   "outputs": [],
   "source": [
    "# make recommendations for a brand new user\n",
    "\n",
    "\n",
    "# make a recommendations for a user who only has interacted with article id '1427.0'\n",
    "\n"
   ]
  },
  {
   "cell_type": "markdown",
   "metadata": {},
   "source": [
    "### <a class=\"anchor\" id=\"Matrix-Fact\">Part V: Matrix Factorization</a>\n",
    "\n",
    "In this part of the notebook, you will build use matrix factorization to make article recommendations to the users on the IBM Watson Studio platform.\n",
    "\n",
    "`1.` You should have already created a **user_item** matrix above in **question 1** of **Part III** above.  This first question here will just require that you run the cells to get things set up for the rest of **Part V** of the notebook. "
   ]
  },
  {
   "cell_type": "code",
   "execution_count": 62,
   "metadata": {},
   "outputs": [],
   "source": [
    "# Load the matrix here\n",
    "user_item_matrix = pd.read_pickle('user_item_matrix.p')"
   ]
  },
  {
   "cell_type": "code",
   "execution_count": 63,
   "metadata": {},
   "outputs": [
    {
     "data": {
      "text/html": [
       "<div>\n",
       "<style scoped>\n",
       "    .dataframe tbody tr th:only-of-type {\n",
       "        vertical-align: middle;\n",
       "    }\n",
       "\n",
       "    .dataframe tbody tr th {\n",
       "        vertical-align: top;\n",
       "    }\n",
       "\n",
       "    .dataframe thead th {\n",
       "        text-align: right;\n",
       "    }\n",
       "</style>\n",
       "<table border=\"1\" class=\"dataframe\">\n",
       "  <thead>\n",
       "    <tr style=\"text-align: right;\">\n",
       "      <th>article_id</th>\n",
       "      <th>0.0</th>\n",
       "      <th>100.0</th>\n",
       "      <th>1000.0</th>\n",
       "      <th>1004.0</th>\n",
       "      <th>1006.0</th>\n",
       "      <th>1008.0</th>\n",
       "      <th>101.0</th>\n",
       "      <th>1014.0</th>\n",
       "      <th>1015.0</th>\n",
       "      <th>1016.0</th>\n",
       "      <th>...</th>\n",
       "      <th>977.0</th>\n",
       "      <th>98.0</th>\n",
       "      <th>981.0</th>\n",
       "      <th>984.0</th>\n",
       "      <th>985.0</th>\n",
       "      <th>986.0</th>\n",
       "      <th>990.0</th>\n",
       "      <th>993.0</th>\n",
       "      <th>996.0</th>\n",
       "      <th>997.0</th>\n",
       "    </tr>\n",
       "    <tr>\n",
       "      <th>user_id</th>\n",
       "      <th></th>\n",
       "      <th></th>\n",
       "      <th></th>\n",
       "      <th></th>\n",
       "      <th></th>\n",
       "      <th></th>\n",
       "      <th></th>\n",
       "      <th></th>\n",
       "      <th></th>\n",
       "      <th></th>\n",
       "      <th></th>\n",
       "      <th></th>\n",
       "      <th></th>\n",
       "      <th></th>\n",
       "      <th></th>\n",
       "      <th></th>\n",
       "      <th></th>\n",
       "      <th></th>\n",
       "      <th></th>\n",
       "      <th></th>\n",
       "      <th></th>\n",
       "    </tr>\n",
       "  </thead>\n",
       "  <tbody>\n",
       "    <tr>\n",
       "      <th>1</th>\n",
       "      <td>0.0</td>\n",
       "      <td>0.0</td>\n",
       "      <td>0.0</td>\n",
       "      <td>0.0</td>\n",
       "      <td>0.0</td>\n",
       "      <td>0.0</td>\n",
       "      <td>0.0</td>\n",
       "      <td>0.0</td>\n",
       "      <td>0.0</td>\n",
       "      <td>0.0</td>\n",
       "      <td>...</td>\n",
       "      <td>0.0</td>\n",
       "      <td>0.0</td>\n",
       "      <td>1.0</td>\n",
       "      <td>0.0</td>\n",
       "      <td>0.0</td>\n",
       "      <td>0.0</td>\n",
       "      <td>0.0</td>\n",
       "      <td>0.0</td>\n",
       "      <td>0.0</td>\n",
       "      <td>0.0</td>\n",
       "    </tr>\n",
       "    <tr>\n",
       "      <th>2</th>\n",
       "      <td>0.0</td>\n",
       "      <td>0.0</td>\n",
       "      <td>0.0</td>\n",
       "      <td>0.0</td>\n",
       "      <td>0.0</td>\n",
       "      <td>0.0</td>\n",
       "      <td>0.0</td>\n",
       "      <td>0.0</td>\n",
       "      <td>0.0</td>\n",
       "      <td>0.0</td>\n",
       "      <td>...</td>\n",
       "      <td>0.0</td>\n",
       "      <td>0.0</td>\n",
       "      <td>0.0</td>\n",
       "      <td>0.0</td>\n",
       "      <td>0.0</td>\n",
       "      <td>0.0</td>\n",
       "      <td>0.0</td>\n",
       "      <td>0.0</td>\n",
       "      <td>0.0</td>\n",
       "      <td>0.0</td>\n",
       "    </tr>\n",
       "    <tr>\n",
       "      <th>3</th>\n",
       "      <td>0.0</td>\n",
       "      <td>0.0</td>\n",
       "      <td>0.0</td>\n",
       "      <td>0.0</td>\n",
       "      <td>0.0</td>\n",
       "      <td>0.0</td>\n",
       "      <td>0.0</td>\n",
       "      <td>0.0</td>\n",
       "      <td>0.0</td>\n",
       "      <td>0.0</td>\n",
       "      <td>...</td>\n",
       "      <td>1.0</td>\n",
       "      <td>0.0</td>\n",
       "      <td>0.0</td>\n",
       "      <td>0.0</td>\n",
       "      <td>0.0</td>\n",
       "      <td>0.0</td>\n",
       "      <td>0.0</td>\n",
       "      <td>0.0</td>\n",
       "      <td>0.0</td>\n",
       "      <td>0.0</td>\n",
       "    </tr>\n",
       "    <tr>\n",
       "      <th>4</th>\n",
       "      <td>0.0</td>\n",
       "      <td>0.0</td>\n",
       "      <td>0.0</td>\n",
       "      <td>0.0</td>\n",
       "      <td>0.0</td>\n",
       "      <td>0.0</td>\n",
       "      <td>0.0</td>\n",
       "      <td>0.0</td>\n",
       "      <td>0.0</td>\n",
       "      <td>0.0</td>\n",
       "      <td>...</td>\n",
       "      <td>0.0</td>\n",
       "      <td>0.0</td>\n",
       "      <td>0.0</td>\n",
       "      <td>0.0</td>\n",
       "      <td>0.0</td>\n",
       "      <td>0.0</td>\n",
       "      <td>0.0</td>\n",
       "      <td>0.0</td>\n",
       "      <td>0.0</td>\n",
       "      <td>0.0</td>\n",
       "    </tr>\n",
       "    <tr>\n",
       "      <th>5</th>\n",
       "      <td>0.0</td>\n",
       "      <td>0.0</td>\n",
       "      <td>0.0</td>\n",
       "      <td>0.0</td>\n",
       "      <td>0.0</td>\n",
       "      <td>0.0</td>\n",
       "      <td>0.0</td>\n",
       "      <td>0.0</td>\n",
       "      <td>0.0</td>\n",
       "      <td>0.0</td>\n",
       "      <td>...</td>\n",
       "      <td>0.0</td>\n",
       "      <td>0.0</td>\n",
       "      <td>0.0</td>\n",
       "      <td>0.0</td>\n",
       "      <td>0.0</td>\n",
       "      <td>0.0</td>\n",
       "      <td>0.0</td>\n",
       "      <td>0.0</td>\n",
       "      <td>0.0</td>\n",
       "      <td>0.0</td>\n",
       "    </tr>\n",
       "  </tbody>\n",
       "</table>\n",
       "<p>5 rows × 714 columns</p>\n",
       "</div>"
      ],
      "text/plain": [
       "article_id  0.0  100.0  1000.0  1004.0  1006.0  1008.0  101.0  1014.0  1015.0  \\\n",
       "user_id                                                                         \n",
       "1           0.0    0.0     0.0     0.0     0.0     0.0    0.0     0.0     0.0   \n",
       "2           0.0    0.0     0.0     0.0     0.0     0.0    0.0     0.0     0.0   \n",
       "3           0.0    0.0     0.0     0.0     0.0     0.0    0.0     0.0     0.0   \n",
       "4           0.0    0.0     0.0     0.0     0.0     0.0    0.0     0.0     0.0   \n",
       "5           0.0    0.0     0.0     0.0     0.0     0.0    0.0     0.0     0.0   \n",
       "\n",
       "article_id  1016.0  ...    977.0  98.0  981.0  984.0  985.0  986.0  990.0  \\\n",
       "user_id             ...                                                     \n",
       "1              0.0  ...      0.0   0.0    1.0    0.0    0.0    0.0    0.0   \n",
       "2              0.0  ...      0.0   0.0    0.0    0.0    0.0    0.0    0.0   \n",
       "3              0.0  ...      1.0   0.0    0.0    0.0    0.0    0.0    0.0   \n",
       "4              0.0  ...      0.0   0.0    0.0    0.0    0.0    0.0    0.0   \n",
       "5              0.0  ...      0.0   0.0    0.0    0.0    0.0    0.0    0.0   \n",
       "\n",
       "article_id  993.0  996.0  997.0  \n",
       "user_id                          \n",
       "1             0.0    0.0    0.0  \n",
       "2             0.0    0.0    0.0  \n",
       "3             0.0    0.0    0.0  \n",
       "4             0.0    0.0    0.0  \n",
       "5             0.0    0.0    0.0  \n",
       "\n",
       "[5 rows x 714 columns]"
      ]
     },
     "execution_count": 63,
     "metadata": {},
     "output_type": "execute_result"
    }
   ],
   "source": [
    "# quick look at the matrix\n",
    "user_item_matrix.head()"
   ]
  },
  {
   "cell_type": "markdown",
   "metadata": {},
   "source": [
    "`2.` In this situation, you can use Singular Value Decomposition from [numpy](https://docs.scipy.org/doc/numpy-1.14.0/reference/generated/numpy.linalg.svd.html) on the user-item matrix.  Use the cell to perform SVD, and explain why this is different than in the lesson."
   ]
  },
  {
   "cell_type": "code",
   "execution_count": 64,
   "metadata": {},
   "outputs": [
    {
     "name": "stdout",
     "output_type": "stream",
     "text": [
      "(5149, 5149) (714,) (714, 714)\n"
     ]
    }
   ],
   "source": [
    "# Perform SVD on the User-Item Matrix Here\n",
    "u, s, vt = np.linalg.svd(user_item_matrix)\n",
    "print(u.shape, s.shape, vt.shape)"
   ]
  },
  {
   "cell_type": "markdown",
   "metadata": {},
   "source": [
    "**Provide your response here.**"
   ]
  },
  {
   "cell_type": "markdown",
   "metadata": {},
   "source": [
    "`3.` Now for the tricky part, how do we choose the number of latent features to use?  Running the below cell, you can see that as the number of latent features increases, we obtain a lower error rate on making predictions for the 1 and 0 values in the user-item matrix.  Run the cell below to get an idea of how the accuracy improves as we increase the number of latent features."
   ]
  },
  {
   "cell_type": "code",
   "execution_count": 65,
   "metadata": {},
   "outputs": [
    {
     "data": {
      "image/png": "[encoded data removed]",
      "text/plain": [
       "<matplotlib.figure.Figure at 0x7fd7d1724ba8>"
      ]
     },
     "metadata": {
      "needs_background": "light"
     },
     "output_type": "display_data"
    }
   ],
   "source": [
    "num_latent_feats = np.arange(10,700+10,20)\n",
    "sum_errs = []\n",
    "\n",
    "for k in num_latent_feats:\n",
    "    # restructure with k latent features\n",
    "    s_new, u_new, vt_new = np.diag(s[:k]), u[:, :k], vt[:k, :]\n",
    "    \n",
    "    # take dot product\n",
    "    user_item_est = np.around(np.dot(np.dot(u_new, s_new), vt_new))\n",
    "    \n",
    "    # compute error for each prediction to actual value\n",
    "    diffs = np.subtract(user_item_matrix, user_item_est)\n",
    "    \n",
    "    # total errors and keep track of them\n",
    "    err = np.sum(np.sum(np.abs(diffs)))\n",
    "    sum_errs.append(err)\n",
    "    \n",
    "    \n",
    "plt.plot(num_latent_feats, 1 - np.array(sum_errs)/df.shape[0]);\n",
    "plt.xlabel('Number of Latent Features');\n",
    "plt.ylabel('Accuracy');\n",
    "plt.title('Accuracy vs. Number of Latent Features');"
   ]
  },
  {
   "cell_type": "markdown",
   "metadata": {},
   "source": [
    "`4.` From the above, we can't really be sure how many features to use, because simply having a better way to predict the 1's and 0's of the matrix doesn't exactly give us an indication of if we are able to make good recommendations.  Instead, we might split our dataset into a training and test set of data, as shown in the cell below.  \n",
    "\n",
    "Use the code from question 3 to understand the impact on accuracy of the training and test sets of data with different numbers of latent features. Using the split below: \n",
    "\n",
    "* How many users can we make predictions for in the test set?  \n",
    "* How many users are we not able to make predictions for because of the cold start problem?\n",
    "* How many articles can we make predictions for in the test set?  \n",
    "* How many articles are we not able to make predictions for because of the cold start problem?"
   ]
  },
  {
   "cell_type": "code",
   "execution_count": 66,
   "metadata": {},
   "outputs": [],
   "source": [
    "df_train = df.head(40000)\n",
    "df_test = df.tail(5993)\n",
    "\n",
    "def create_test_and_train_user_item(df_train, df_test):\n",
    "    '''\n",
    "    INPUT:\n",
    "    df_train - training dataframe\n",
    "    df_test - test dataframe\n",
    "    \n",
    "    OUTPUT:\n",
    "    user_item_train - a user-item matrix of the training dataframe \n",
    "                      (unique users for each row and unique articles for each column)\n",
    "    user_item_test - a user-item matrix of the testing dataframe \n",
    "                    (unique users for each row and unique articles for each column)\n",
    "    test_idx - all of the test user ids\n",
    "    test_arts - all of the test article ids\n",
    "    \n",
    "    '''\n",
    "    # Your code here\n",
    "    user_item_train = create_user_item_matrix(df_train)\n",
    "    user_item_test = create_user_item_matrix(df_test)\n",
    "    \n",
    "    test_idx = user_item_test.index\n",
    "    test_arts = user_item_test.columns\n",
    "    \n",
    "    return user_item_train, user_item_test, test_idx, test_arts\n",
    "\n",
    "user_item_train, user_item_test, test_idx, test_arts = create_test_and_train_user_item(df_train, df_test)\n",
    "#create_test_and_train_user_item(df_train, df_test)"
   ]
  },
  {
   "cell_type": "code",
   "execution_count": 67,
   "metadata": {},
   "outputs": [
    {
     "name": "stdout",
     "output_type": "stream",
     "text": [
      "(4487, 714) (682, 574)\n",
      "662\n",
      "0\n"
     ]
    }
   ],
   "source": [
    "print(user_item_train.shape,\n",
    "      user_item_test.shape)\n",
    "\n",
    "# Find users only in the test set not in the training set\n",
    "train_idx = user_item_train.index\n",
    "test_only = set(test_idx) - set(train_idx)\n",
    "print(len(test_only))\n",
    "\n",
    "\n",
    "# Repeat for articles\n",
    "train_arts = user_item_train.columns\n",
    "test_only_arts = set(test_arts) - set(train_arts)\n",
    "print(len(test_only_arts))"
   ]
  },
  {
   "cell_type": "code",
   "execution_count": 68,
   "metadata": {},
   "outputs": [
    {
     "name": "stdout",
     "output_type": "stream",
     "text": [
      "Awesome job!  That's right!  All of the test movies are in the training data, but there are only 20 test users that were also in the training set.  All of the other users that are in the test set we have no data on.  Therefore, we cannot make predictions for these users using SVD.\n"
     ]
    }
   ],
   "source": [
    "# Replace the values in the dictionary below\n",
    "a = 662 \n",
    "b = 574 \n",
    "c = 20 \n",
    "d = 0 \n",
    "\n",
    "\n",
    "sol_4_dict = {\n",
    "    'How many users can we make predictions for in the test set?': c, \n",
    "    'How many users in the test set are we not able to make predictions for because of the cold start problem?': a, \n",
    "    # 'How many articles can we make predictions for in the test set?': b,\n",
    "    # Updated language to match the class\n",
    "    'How many movies can we make predictions for in the test set?': b,\n",
    "    'How many movies in the test set are we not able to make predictions for because of the cold start problem?': d}\n",
    "\n",
    "t.sol_4_test(sol_4_dict)"
   ]
  },
  {
   "cell_type": "markdown",
   "metadata": {},
   "source": [
    "`5.` Now use the **user_item_train** dataset from above to find U, S, and V transpose using SVD. Then find the subset of rows in the **user_item_test** dataset that you can predict using this matrix decomposition with different numbers of latent features to see how many features makes sense to keep based on the accuracy on the test data. This will require combining what was done in questions `2` - `4`.\n",
    "\n",
    "Use the cells below to explore how well SVD works towards making predictions for recommendations on the test data.  "
   ]
  },
  {
   "cell_type": "code",
   "execution_count": 69,
   "metadata": {},
   "outputs": [
    {
     "name": "stdout",
     "output_type": "stream",
     "text": [
      "(4487, 4487) (714,) (714, 714)\n"
     ]
    }
   ],
   "source": [
    "# fit SVD on the user_item_train matrix\n",
    "u_train, s_train, vt_train = np.linalg.svd(user_item_train) # fit svd similar to above then use the cells below\n",
    "print(u_train.shape, s_train.shape, vt_train.shape)"
   ]
  },
  {
   "cell_type": "code",
   "execution_count": 70,
   "metadata": {},
   "outputs": [
    {
     "name": "stdout",
     "output_type": "stream",
     "text": [
      "(20, 4487) (714, 574)\n"
     ]
    }
   ],
   "source": [
    "# Use these cells to see how well you can use the training decomposition to predict on test data\n",
    "\n",
    "# Find members common to both sets\n",
    "common_users_idx = user_item_train.index.isin(test_idx)\n",
    "common_articles_col = user_item_train.columns.isin(test_arts)\n",
    "\n",
    "u_test = u_train[common_users_idx, :]\n",
    "vt_test = vt_train[:, common_articles_col]\n",
    "print(u_test.shape, vt_test.shape)"
   ]
  },
  {
   "cell_type": "markdown",
   "metadata": {
    "collapsed": true
   },
   "source": [
    "`6.` Use the cell below to comment on the results you found in the previous question. Given the circumstances of your results, discuss what you might do to determine if the recommendations you make with any of the above recommendation systems are an improvement to how users currently find articles? "
   ]
  },
  {
   "cell_type": "markdown",
   "metadata": {},
   "source": [
    "Results are not good because there is so little overlap between the training and test set.  Only 20 users in the test set appear in the training set!  Thus, the high amount of starting error would only increase as more latent features are explored due to further increased noise.\n",
    "\n",
    "To improve, the first step should be to evaluate if sparsity of the matrix can be improved.  More data means better predictions and less risk of overfitting.\n",
    "\n",
    "A second step, should data collection not be a viable option, would be to confirm the SVD method used actually makes successful predictions.  A sample size of 20 is insufficient to evaluate performance on a train/test split of this size.  Validate rather than assume!  If not, other algorithms should be explored.\n",
    "\n",
    "A third step could be to augment the dataset through generating similar but fake data.  This makes the dataset more robust without having to collect additional real observations.  This article provides some benefits of this approach:  https://towardsdatascience.com/7-tips-for-dealing-with-small-data-7ffbd3d399a3.  "
   ]
  },
  {
   "cell_type": "markdown",
   "metadata": {
    "collapsed": true
   },
   "source": [
    "<a id='conclusions'></a>\n",
    "### Extras\n",
    "Using your workbook, you could now save your recommendations for each user, develop a class to make new predictions and update your results, and make a flask app to deploy your results.  These tasks are beyond what is required for this project.  However, from what you learned in the lessons, you certainly capable of taking these tasks on to improve upon your work here!\n",
    "\n",
    "\n",
    "## Conclusion\n",
    "\n",
    "> Congratulations!  You have reached the end of the Recommendations with IBM project! \n",
    "\n",
    "> **Tip**: Once you are satisfied with your work here, check over your report to make sure that it is satisfies all the areas of the [rubric](https://review.udacity.com/#!/rubrics/2322/view). You should also probably remove all of the \"Tips\" like this one so that the presentation is as polished as possible.\n",
    "\n",
    "\n",
    "## Directions to Submit\n",
    "\n",
    "> Before you submit your project, you need to create a .html or .pdf version of this notebook in the workspace here. To do that, run the code cell below. If it worked correctly, you should get a return code of 0, and you should see the generated .html file in the workspace directory (click on the orange Jupyter icon in the upper left).\n",
    "\n",
    "> Alternatively, you can download this report as .html via the **File** > **Download as** submenu, and then manually upload it into the workspace directory by clicking on the orange Jupyter icon in the upper left, then using the Upload button.\n",
    "\n",
    "> Once you've done this, you can submit your project by clicking on the \"Submit Project\" button in the lower right here. This will create and submit a zip file with this .ipynb doc and the .html or .pdf version you created. Congratulations! "
   ]
  },
  {
   "cell_type": "code",
   "execution_count": 71,
   "metadata": {},
   "outputs": [
    {
     "data": {
      "text/plain": [
       "0"
      ]
     },
     "execution_count": 71,
     "metadata": {},
     "output_type": "execute_result"
    }
   ],
   "source": [
    "from subprocess import call\n",
    "call(['python', '-m', 'nbconvert', 'Recommendations_with_IBM_Final.ipynb'])"
   ]
  },
  {
   "cell_type": "code",
   "execution_count": null,
   "metadata": {},
   "outputs": [],
   "source": []
  }
 ],
 "metadata": {
  "kernelspec": {
   "display_name": "Python 3",
   "language": "python",
   "name": "python3"
  },
  "language_info": {
   "codemirror_mode": {
    "name": "ipython",
    "version": 3
   },
   "file_extension": ".py",
   "mimetype": "text/x-python",
   "name": "python",
   "nbconvert_exporter": "python",
   "pygments_lexer": "ipython3",
   "version": "3.6.3"
  }
 },
 "nbformat": 4,
 "nbformat_minor": 2
}
